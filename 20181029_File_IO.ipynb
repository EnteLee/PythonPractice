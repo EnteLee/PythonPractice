{
 "cells": [
  {
   "cell_type": "markdown",
   "metadata": {},
   "source": [
    "# 파일 입출력, file I/O"
   ]
  },
  {
   "cell_type": "code",
   "execution_count": 3,
   "metadata": {},
   "outputs": [],
   "source": [
    "fp = open('./data/hello.txt', 'r')"
   ]
  },
  {
   "cell_type": "code",
   "execution_count": 4,
   "metadata": {},
   "outputs": [
    {
     "data": {
      "text/plain": [
       "'hello. Jupyter World!'"
      ]
     },
     "execution_count": 4,
     "metadata": {},
     "output_type": "execute_result"
    }
   ],
   "source": [
    "fp.read()"
   ]
  },
  {
   "cell_type": "code",
   "execution_count": 5,
   "metadata": {},
   "outputs": [],
   "source": [
    "fp.close()"
   ]
  },
  {
   "cell_type": "code",
   "execution_count": 6,
   "metadata": {},
   "outputs": [
    {
     "ename": "ValueError",
     "evalue": "I/O operation on closed file.",
     "output_type": "error",
     "traceback": [
      "\u001b[1;31m---------------------------------------------------------------------------\u001b[0m",
      "\u001b[1;31mValueError\u001b[0m                                Traceback (most recent call last)",
      "\u001b[1;32m<ipython-input-6-5b707e20d623>\u001b[0m in \u001b[0;36m<module>\u001b[1;34m()\u001b[0m\n\u001b[1;32m----> 1\u001b[1;33m \u001b[0mfp\u001b[0m\u001b[1;33m.\u001b[0m\u001b[0mread\u001b[0m\u001b[1;33m(\u001b[0m\u001b[1;33m)\u001b[0m\u001b[1;33m\u001b[0m\u001b[0m\n\u001b[0m",
      "\u001b[1;31mValueError\u001b[0m: I/O operation on closed file."
     ]
    }
   ],
   "source": [
    "fp.read()"
   ]
  },
  {
   "cell_type": "markdown",
   "metadata": {},
   "source": [
    "##### with 문 사용시 자동으로 close 해준다."
   ]
  },
  {
   "cell_type": "code",
   "execution_count": 7,
   "metadata": {},
   "outputs": [
    {
     "name": "stdout",
     "output_type": "stream",
     "text": [
      "hello. Jupyter World!\n"
     ]
    }
   ],
   "source": [
    "with open('./data/hello.txt', 'r')as fp:\n",
    "    data=fp.read()\n",
    "    print(data)"
   ]
  },
  {
   "cell_type": "code",
   "execution_count": 9,
   "metadata": {},
   "outputs": [
    {
     "data": {
      "text/plain": [
       "'hello. Jupyter World!'"
      ]
     },
     "execution_count": 9,
     "metadata": {},
     "output_type": "execute_result"
    }
   ],
   "source": [
    "data"
   ]
  },
  {
   "cell_type": "code",
   "execution_count": 10,
   "metadata": {},
   "outputs": [],
   "source": [
    "with open('./data/subject.txt', 'w')as fp:\n",
    "    data = '파이썬을 이용한 빅데이터 분석'\n",
    "    fp.write(data)"
   ]
  },
  {
   "cell_type": "code",
   "execution_count": 11,
   "metadata": {},
   "outputs": [
    {
     "name": "stdout",
     "output_type": "stream",
     "text": [
      "파이썬을 이용한 빅데이터 분석\n"
     ]
    }
   ],
   "source": [
    "with open('./data/subject.txt', 'r')as fp:\n",
    "    data = fp.read()\n",
    "    print(data)"
   ]
  },
  {
   "cell_type": "markdown",
   "metadata": {},
   "source": [
    "### csv 읽어오기"
   ]
  },
  {
   "cell_type": "code",
   "execution_count": 40,
   "metadata": {},
   "outputs": [],
   "source": [
    "def read_csv(filepath):\n",
    "    \n",
    "    fp = open(filepath, 'r', encoding='utf-8') #유니코드 확인합시당(euckr)\n",
    "    data = fp.read()\n",
    "    fp.close()\n",
    "    \n",
    "    # return dataL\n",
    "    elements = []\n",
    "    \n",
    "    rows = data.split(\"\\n\") #rows에 한줄씩 리스트로 넣어놓고\n",
    "    # print(rows)\n",
    "    for row in rows:        #row에 , 기준으로 split해서 넣자\n",
    "        \n",
    "        fields = row.split(\",\")\n",
    "        print(fields)\n",
    "        \n",
    "        element = {   \n",
    "            \"name\"   : fields[0],\n",
    "            \"school\" : fields[1],\n",
    "            \"email\"  : fields[2],\n",
    "        }\n",
    "        elements.append(element)\n",
    "    return elements"
   ]
  },
  {
   "cell_type": "code",
   "execution_count": 41,
   "metadata": {},
   "outputs": [
    {
     "name": "stdout",
     "output_type": "stream",
     "text": [
      "['김태희', '서울대', 'thkim@gmail.com']\n",
      "['신민아', '성균관대', 'sma@gmial.com']\n",
      "['전지현', '중앙대', 'jhjeon@gmail.com']\n",
      "['이영애', '숭실대', 'janggumi@gamil.com']\n"
     ]
    },
    {
     "data": {
      "text/plain": [
       "[{'name': '김태희', 'school': '서울대', 'email': 'thkim@gmail.com'},\n",
       " {'name': '신민아', 'school': '성균관대', 'email': 'sma@gmial.com'},\n",
       " {'name': '전지현', 'school': '중앙대', 'email': 'jhjeon@gmail.com'},\n",
       " {'name': '이영애', 'school': '숭실대', 'email': 'janggumi@gamil.com'}]"
      ]
     },
     "execution_count": 41,
     "metadata": {},
     "output_type": "execute_result"
    }
   ],
   "source": [
    "filepath = 'data/students.csv'\n",
    "read_csv(filepath)"
   ]
  },
  {
   "cell_type": "code",
   "execution_count": 13,
   "metadata": {},
   "outputs": [
    {
     "ename": "SyntaxError",
     "evalue": "unexpected EOF while parsing (<ipython-input-13-9fff283216a4>, line 31)",
     "output_type": "error",
     "traceback": [
      "\u001b[1;36m  File \u001b[1;32m\"<ipython-input-13-9fff283216a4>\"\u001b[1;36m, line \u001b[1;32m31\u001b[0m\n\u001b[1;33m    \u001b[0m\n\u001b[1;37m    ^\u001b[0m\n\u001b[1;31mSyntaxError\u001b[0m\u001b[1;31m:\u001b[0m unexpected EOF while parsing\n"
     ]
    }
   ],
   "source": [
    "def read_csv(filepath):\n",
    "    fp = open(filepath, 'r', encoding='utf-8')\n",
    "    data = fp.read()\n",
    "    fp.close()\n",
    "    \n",
    "    element1 = []\n",
    "    elements = []\n",
    "    fields = []\n",
    "    key = []\n",
    "    \n",
    "    rows = data.split(\"\\n\")\n",
    "    print(rows)\n",
    "    key = rows[0].split(\",\")\n",
    "    print(key)\n",
    "  \n",
    "    for row in rows[1:]:\n",
    "        cols = row.split(\",\")\n",
    "#         element = {for row in rows: fields[row] : cols[row]}\n",
    "#         elements.append(element)\n",
    "\n",
    "#         for x in range(4):\n",
    "#             element = {fields[x] : cols[x]}\n",
    "#             element1.append(element)\n",
    "#         print(element1)\n",
    "    for x in range(len(key)):\n",
    "        element = {key[x] : cols[x]}\n",
    "        element[x].append(element)\n",
    "    print(element\n",
    "#         elements.append(element)\n",
    "#     return elements\n",
    "    "
   ]
  },
  {
   "cell_type": "code",
   "execution_count": 14,
   "metadata": {},
   "outputs": [
    {
     "name": "stdout",
     "output_type": "stream",
     "text": [
      "['랭킹, 회사이름, 영문명, 창업자 ', '1, 애플, Apple, 스티브잡스 ', '2, 구글, Google, 세르게이브린 & 레리페이지 ', '3, 마이크로소프트, Microsoft, 빌게이츠 & 폴앨런 ', '4, 페이스북, Facebook, 마크쥬크버그 ', '5, 에어비엔비, Airbnb, 브라이언체크키 & 조게비어']\n",
      "['랭킹', ' 회사이름', ' 영문명', ' 창업자 ']\n"
     ]
    },
    {
     "ename": "KeyError",
     "evalue": "0",
     "output_type": "error",
     "traceback": [
      "\u001b[1;31m---------------------------------------------------------------------------\u001b[0m",
      "\u001b[1;31mKeyError\u001b[0m                                  Traceback (most recent call last)",
      "\u001b[1;32m<ipython-input-14-490847d42af5>\u001b[0m in \u001b[0;36m<module>\u001b[1;34m()\u001b[0m\n\u001b[0;32m      1\u001b[0m \u001b[0mfilepath\u001b[0m \u001b[1;33m=\u001b[0m \u001b[1;34m'data/company.csv'\u001b[0m\u001b[1;33m\u001b[0m\u001b[0m\n\u001b[1;32m----> 2\u001b[1;33m \u001b[0mread_csv\u001b[0m\u001b[1;33m(\u001b[0m\u001b[0mfilepath\u001b[0m\u001b[1;33m)\u001b[0m\u001b[1;33m\u001b[0m\u001b[0m\n\u001b[0m",
      "\u001b[1;32m<ipython-input-9-50433f977abb>\u001b[0m in \u001b[0;36mread_csv\u001b[1;34m(filepath)\u001b[0m\n\u001b[0;32m     24\u001b[0m     \u001b[1;32mfor\u001b[0m \u001b[0mx\u001b[0m \u001b[1;32min\u001b[0m \u001b[0mrange\u001b[0m\u001b[1;33m(\u001b[0m\u001b[1;36m4\u001b[0m\u001b[1;33m)\u001b[0m\u001b[1;33m:\u001b[0m\u001b[1;33m\u001b[0m\u001b[0m\n\u001b[0;32m     25\u001b[0m         \u001b[0melement\u001b[0m \u001b[1;33m=\u001b[0m \u001b[1;33m{\u001b[0m\u001b[0mfields\u001b[0m\u001b[1;33m[\u001b[0m\u001b[0mx\u001b[0m\u001b[1;33m]\u001b[0m \u001b[1;33m:\u001b[0m \u001b[0mcols\u001b[0m\u001b[1;33m[\u001b[0m\u001b[0mx\u001b[0m\u001b[1;33m]\u001b[0m\u001b[1;33m}\u001b[0m\u001b[1;33m\u001b[0m\u001b[0m\n\u001b[1;32m---> 26\u001b[1;33m         \u001b[0melement\u001b[0m\u001b[1;33m[\u001b[0m\u001b[0mx\u001b[0m\u001b[1;33m]\u001b[0m\u001b[1;33m.\u001b[0m\u001b[0mappend\u001b[0m\u001b[1;33m(\u001b[0m\u001b[0melement\u001b[0m\u001b[1;33m)\u001b[0m\u001b[1;33m\u001b[0m\u001b[0m\n\u001b[0m\u001b[0;32m     27\u001b[0m     \u001b[0mprint\u001b[0m\u001b[1;33m(\u001b[0m\u001b[0melement\u001b[0m\u001b[1;33m[\u001b[0m\u001b[1;36m1\u001b[0m\u001b[1;33m]\u001b[0m\u001b[1;33m)\u001b[0m\u001b[1;33m\u001b[0m\u001b[0m\n\u001b[0;32m     28\u001b[0m \u001b[1;31m#         elements.append(element)\u001b[0m\u001b[1;33m\u001b[0m\u001b[1;33m\u001b[0m\u001b[0m\n",
      "\u001b[1;31mKeyError\u001b[0m: 0"
     ]
    }
   ],
   "source": [
    "filepath = 'data/company.csv'\n",
    "read_csv(filepath)"
   ]
  },
  {
   "cell_type": "code",
   "execution_count": 64,
   "metadata": {},
   "outputs": [
    {
     "name": "stdout",
     "output_type": "stream",
     "text": [
      "[1, 2, 3, 4, 5]\n",
      "[1, 2, 3, 4]\n"
     ]
    }
   ],
   "source": [
    "a=[0,1,2,3,4,5]\n",
    "a.remove(0) #0제거\n",
    "print(a)\n",
    "a.pop(4) #a[4]제거\n",
    "print(a)"
   ]
  },
  {
   "cell_type": "code",
   "execution_count": 7,
   "metadata": {},
   "outputs": [],
   "source": [
    "def read_csv(filepath):         # 어떤 헤더가 있는 CSV 파일이든지 읽을 수 있는 함수\n",
    "                                # \",\" 말고 다른 어떤 seperator 가 들어가더라도, \n",
    "                                # CSV 읽을 수 있는 함수\n",
    "                                # \"\\t\", \"::\", \"|\" 이 모든 sep 에 대한 함수!\n",
    "    fp = open(filepath, 'r', encoding='utf-8')\n",
    "    data = fp.read()\n",
    "    fp.close()\n",
    "    \n",
    "    elements = []\n",
    "    \n",
    "    rows = data.split(\"\\n\")\n",
    "    columns = rows[0].split(\",\")    # [\"랭킹\", \"회사이름\", \"영문명\", \"창업자\"]\n",
    "    columns = [key.replace(' ','') for key in columns]\n",
    "    print('columns => key :', columns)\n",
    "    \n",
    "    for row in rows[1:]:\n",
    "        fields = row.split(\",\")\n",
    "        \n",
    "        element = {}\n",
    "        print(fields)\n",
    "        for idx in range(len(columns)):   # index 의 값으로 비교해야 한다.\n",
    "            column = columns[idx]\n",
    "            field = fields[idx]\n",
    "            element[column] = field\n",
    "        \n",
    "        elements.append(element)\n",
    "        \n",
    "    return elements"
   ]
  },
  {
   "cell_type": "code",
   "execution_count": 8,
   "metadata": {},
   "outputs": [
    {
     "name": "stdout",
     "output_type": "stream",
     "text": [
      "columns => key : ['랭킹', '회사이름', '영문명', '창업자']\n",
      "['1', ' 애플', ' Apple', ' 스티브잡스 ']\n",
      "['2', ' 구글', ' Google', ' 세르게이브린 & 레리페이지 ']\n",
      "['3', ' 마이크로소프트', ' Microsoft', ' 빌게이츠 & 폴앨런 ']\n",
      "['4', ' 페이스북', ' Facebook', ' 마크쥬크버그 ']\n",
      "['5', ' 에어비엔비', ' Airbnb', ' 브라이언체크키 & 조게비어']\n"
     ]
    },
    {
     "data": {
      "text/plain": [
       "[{'랭킹': '1', '회사이름': ' 애플', '영문명': ' Apple', '창업자': ' 스티브잡스 '},\n",
       " {'랭킹': '2', '회사이름': ' 구글', '영문명': ' Google', '창업자': ' 세르게이브린 & 레리페이지 '},\n",
       " {'랭킹': '3', '회사이름': ' 마이크로소프트', '영문명': ' Microsoft', '창업자': ' 빌게이츠 & 폴앨런 '},\n",
       " {'랭킹': '4', '회사이름': ' 페이스북', '영문명': ' Facebook', '창업자': ' 마크쥬크버그 '},\n",
       " {'랭킹': '5', '회사이름': ' 에어비엔비', '영문명': ' Airbnb', '창업자': ' 브라이언체크키 & 조게비어'}]"
      ]
     },
     "execution_count": 8,
     "metadata": {},
     "output_type": "execute_result"
    }
   ],
   "source": [
    "filepath = 'data/company.csv'\n",
    "read_csv(filepath)"
   ]
  },
  {
   "cell_type": "code",
   "execution_count": null,
   "metadata": {},
   "outputs": [],
   "source": []
  }
 ],
 "metadata": {
  "kernelspec": {
   "display_name": "Python 3",
   "language": "python",
   "name": "python3"
  },
  "language_info": {
   "codemirror_mode": {
    "name": "ipython",
    "version": 3
   },
   "file_extension": ".py",
   "mimetype": "text/x-python",
   "name": "python",
   "nbconvert_exporter": "python",
   "pygments_lexer": "ipython3",
   "version": "3.6.5"
  }
 },
 "nbformat": 4,
 "nbformat_minor": 2
}
