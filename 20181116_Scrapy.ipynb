{
 "cells": [
  {
   "cell_type": "markdown",
   "metadata": {},
   "source": [
    "# Scrapy 프레임워크 \n",
    "\n",
    "- Scrapy 개요\n",
    "- Spider 만들고 실행하기\n",
    "- 실전적인 크롤링\n",
    "- 추출한 데이터 처리하기\n",
    "- Scrapy 설정\n",
    "- Scrapy 확장하기\n",
    "- 크롤링으로 데이터 수집하고 활용하기\n",
    "- 이미지 수집과 활용"
   ]
  },
  {
   "cell_type": "code",
   "execution_count": 2,
   "metadata": {},
   "outputs": [],
   "source": [
    "#! pip install scrapy"
   ]
  },
  {
   "cell_type": "code",
   "execution_count": 3,
   "metadata": {},
   "outputs": [
    {
     "name": "stdout",
     "output_type": "stream",
     "text": [
      "Scrapy 1.5.1\n"
     ]
    }
   ],
   "source": [
    "! scrapy version"
   ]
  },
  {
   "cell_type": "markdown",
   "metadata": {},
   "source": [
    "### c6-01_myspider.py \n",
    "- Scrapinghub 블로그에서 글의 타이틀을 추출하는 Spider\n",
    "\n",
    "- 아래 myspider.py 코드는 Scrapy 사이트에서 제공하는 공식 예제 코드에 주석을 붙인 것이다.\n",
    "- 실행 : scrapy runspider myspider.py -o items.j1"
   ]
  },
  {
   "cell_type": "code",
   "execution_count": 4,
   "metadata": {},
   "outputs": [
    {
     "name": "stdout",
     "output_type": "stream",
     "text": [
      "Writing ./modules/myspider.py\n"
     ]
    }
   ],
   "source": [
    "%%writefile  ./modules/myspider.py\n",
    "import scrapy\n",
    "\n",
    "class BlogSpider(scrapy.Spider):\n",
    "    # spider의 이름\n",
    "    name = 'blogspider'\n",
    "\n",
    "    # 크롤링을 시작할 URL 리스트\n",
    "    start_urls = ['https://blog.scrapinghub.com']\n",
    "\n",
    "    def parse(self, response):\n",
    "        \"\"\"\n",
    "        최상위 페이지에서 카테고리 페이지의 링크를 추출합니다.\n",
    "        \"\"\"\n",
    "        for url in response.css('ul li a::attr(\"href\")').re('.*/category/.*'):\n",
    "            yield scrapy.Request(response.urljoin(url), self.parse_titles)\n",
    "\n",
    "    def parse_titles(self, response):\n",
    "        \"\"\"\n",
    "        카페고리 페이지에서 카테고리 타이틀을 모두 추출합니다.\n",
    "        \"\"\"\n",
    "        for post_title in response.css('div.entries > ul > li a::text').extract():\n",
    "            yield {'title': post_title}\n",
    "            \n",
    "            "
   ]
  },
  {
   "cell_type": "code",
   "execution_count": 5,
   "metadata": {},
   "outputs": [
    {
     "name": "stderr",
     "output_type": "stream",
     "text": [
      "2018-11-16 10:50:26 [scrapy.utils.log] INFO: Scrapy 1.5.1 started (bot: scrapybot)\n",
      "2018-11-16 10:50:26 [scrapy.utils.log] INFO: Versions: lxml 4.2.1.0, libxml2 2.9.8, cssselect 1.0.3, parsel 1.5.1, w3lib 1.19.0, Twisted 18.9.0, Python 3.6.5 |Anaconda, Inc.| (default, Mar 29 2018, 13:32:41) [MSC v.1900 64 bit (AMD64)], pyOpenSSL 18.0.0 (OpenSSL 1.0.2o  27 Mar 2018), cryptography 2.2.2, Platform Windows-10-10.0.17134-SP0\n",
      "2018-11-16 10:50:26 [scrapy.crawler] INFO: Overridden settings: {'FEED_FORMAT': 'jl', 'FEED_URI': './modules/data/items.jl', 'SPIDER_LOADER_WARN_ONLY': True}\n",
      "2018-11-16 10:50:26 [scrapy.middleware] INFO: Enabled extensions:\n",
      "['scrapy.extensions.corestats.CoreStats',\n",
      " 'scrapy.extensions.telnet.TelnetConsole',\n",
      " 'scrapy.extensions.feedexport.FeedExporter',\n",
      " 'scrapy.extensions.logstats.LogStats']\n",
      "2018-11-16 10:50:26 [scrapy.middleware] INFO: Enabled downloader middlewares:\n",
      "['scrapy.downloadermiddlewares.httpauth.HttpAuthMiddleware',\n",
      " 'scrapy.downloadermiddlewares.downloadtimeout.DownloadTimeoutMiddleware',\n",
      " 'scrapy.downloadermiddlewares.defaultheaders.DefaultHeadersMiddleware',\n",
      " 'scrapy.downloadermiddlewares.useragent.UserAgentMiddleware',\n",
      " 'scrapy.downloadermiddlewares.retry.RetryMiddleware',\n",
      " 'scrapy.downloadermiddlewares.redirect.MetaRefreshMiddleware',\n",
      " 'scrapy.downloadermiddlewares.httpcompression.HttpCompressionMiddleware',\n",
      " 'scrapy.downloadermiddlewares.redirect.RedirectMiddleware',\n",
      " 'scrapy.downloadermiddlewares.cookies.CookiesMiddleware',\n",
      " 'scrapy.downloadermiddlewares.httpproxy.HttpProxyMiddleware',\n",
      " 'scrapy.downloadermiddlewares.stats.DownloaderStats']\n",
      "2018-11-16 10:50:26 [scrapy.middleware] INFO: Enabled spider middlewares:\n",
      "['scrapy.spidermiddlewares.httperror.HttpErrorMiddleware',\n",
      " 'scrapy.spidermiddlewares.offsite.OffsiteMiddleware',\n",
      " 'scrapy.spidermiddlewares.referer.RefererMiddleware',\n",
      " 'scrapy.spidermiddlewares.urllength.UrlLengthMiddleware',\n",
      " 'scrapy.spidermiddlewares.depth.DepthMiddleware']\n",
      "2018-11-16 10:50:26 [scrapy.middleware] INFO: Enabled item pipelines:\n",
      "[]\n",
      "2018-11-16 10:50:26 [scrapy.core.engine] INFO: Spider opened\n",
      "2018-11-16 10:50:26 [scrapy.extensions.logstats] INFO: Crawled 0 pages (at 0 pages/min), scraped 0 items (at 0 items/min)\n",
      "2018-11-16 10:50:26 [scrapy.extensions.telnet] DEBUG: Telnet console listening on 127.0.0.1:6023\n",
      "2018-11-16 10:50:27 [scrapy.core.engine] DEBUG: Crawled (200) <GET https://blog.scrapinghub.com> (referer: None)\n",
      "2018-11-16 10:50:27 [scrapy.core.engine] INFO: Closing spider (finished)\n",
      "2018-11-16 10:50:27 [scrapy.statscollectors] INFO: Dumping Scrapy stats:\n",
      "{'downloader/request_bytes': 219,\n",
      " 'downloader/request_count': 1,\n",
      " 'downloader/request_method_count/GET': 1,\n",
      " 'downloader/response_bytes': 10272,\n",
      " 'downloader/response_count': 1,\n",
      " 'downloader/response_status_count/200': 1,\n",
      " 'finish_reason': 'finished',\n",
      " 'finish_time': datetime.datetime(2018, 11, 16, 1, 50, 27, 334183),\n",
      " 'log_count/DEBUG': 2,\n",
      " 'log_count/INFO': 7,\n",
      " 'response_received_count': 1,\n",
      " 'scheduler/dequeued': 1,\n",
      " 'scheduler/dequeued/memory': 1,\n",
      " 'scheduler/enqueued': 1,\n",
      " 'scheduler/enqueued/memory': 1,\n",
      " 'start_time': datetime.datetime(2018, 11, 16, 1, 50, 26, 956808)}\n",
      "2018-11-16 10:50:27 [scrapy.core.engine] INFO: Spider closed (finished)\n"
     ]
    }
   ],
   "source": [
    "! scrapy runspider ./modules/myspider.py -o ./modules/data/items.jl"
   ]
  },
  {
   "cell_type": "code",
   "execution_count": 6,
   "metadata": {},
   "outputs": [],
   "source": [
    "! type .\\modules\\data\\items.jl"
   ]
  },
  {
   "cell_type": "code",
   "execution_count": 7,
   "metadata": {},
   "outputs": [
    {
     "name": "stdout",
     "output_type": "stream",
     "text": [
      "Function Start\n",
      "{'n': 0}\n",
      "{'n': 1}\n",
      "{'n': 2}\n",
      "{'n': 3}\n",
      "{'n': 4}\n",
      "{'n': 5}\n",
      "Function End\n"
     ]
    }
   ],
   "source": [
    "#python 3 version source\n",
    "#yield generator test source\n",
    "#yield_Basic_Test.py\n",
    " \n",
    "def number_generator(n):\n",
    "    print(\"Function Start\")\n",
    "    while n < 6:\n",
    "        yield  {\"n\" : n}\n",
    "        n += 1\n",
    "    print(\"Function End\")\n",
    "     \n",
    "if __name__ == \"__main__\":\n",
    "    for i in number_generator(0):\n",
    "        print(i)\n",
    "         "
   ]
  },
  {
   "cell_type": "markdown",
   "metadata": {},
   "source": [
    "### Spider 만들고 실행하기 \n",
    "- 타겟사이트 : https://www.engadget.com\n",
    "- 명령어실행 : \n",
    "- (base) C:\\ > scrapy startproject myproject\n",
    "- Item만들기"
   ]
  },
  {
   "cell_type": "code",
   "execution_count": 13,
   "metadata": {},
   "outputs": [],
   "source": [
    "# scrapy.cfg\n",
    "\n",
    "# 페이지 다운로드 간격을 1초로 지정\n",
    "DOWNLOAD_DELAY = 1"
   ]
  },
  {
   "cell_type": "code",
   "execution_count": 14,
   "metadata": {},
   "outputs": [],
   "source": [
    "# myproject/items.py\n",
    "import scrapy\n",
    "\n",
    "class Headline(scrapy.Item):\n",
    "    \"\"\"\n",
    "    뉴스 헤드라인을 나타내는 Item 객체\n",
    "    \"\"\"\n",
    "    title = scrapy.Field()\n",
    "    body = scrapy.Field()"
   ]
  },
  {
   "cell_type": "code",
   "execution_count": 15,
   "metadata": {},
   "outputs": [],
   "source": [
    "# myproject/spiders/news.py\n",
    "import scrapy\n",
    "\n",
    "class NewsSpider(scrapy.Spider):\n",
    "    name = 'news'\n",
    "    allowed_domains = ['engadget.com']\n",
    "    start_urls = ['http://engadget.com/']\n",
    "\n",
    "    def parse(self, response):\n",
    "        \"\"\"\n",
    "        메인 페이지의 토픽 목록에서 링크를 추출하고 출력합니다.\n",
    "        \"\"\"\n",
    "        link = response.css('a.o-hit__link::attr(\"href\")').extract()\n",
    "        link = filter(lambda x : x != \"#\", link)\n",
    "        link = list(link)\n",
    "        print(link)"
   ]
  },
  {
   "cell_type": "code",
   "execution_count": 11,
   "metadata": {},
   "outputs": [],
   "source": [
    "# myproject/spiders/news.py\n",
    "import scrapy\n",
    "\n",
    "\n",
    "class NewsSpider(scrapy.Spider):\n",
    "    name = 'news'\n",
    "    allowed_domains = ['engadget.com']\n",
    "    start_urls = ['http://engadget.com/']\n",
    "\n",
    "    def parse(self, response):\n",
    "        \"\"\"\n",
    "        메인 페이지의 토픽 목록에서 링크를 추출하고 출력합니다.\n",
    "        \"\"\"\n",
    "        link = response.css('a.o-hit__link::attr(\"href\")').extract()\n",
    "        # link = filter(lambda x : x != \"#\", link)\n",
    "        # link = list(link)\n",
    "        # print(link)\n",
    "\n",
    "        for url in link:\n",
    "            # 광고 페이지 제외\n",
    "            if url.find(\"products\") == 1:\n",
    "                continue\n",
    "            # 의미 없는 페이지 제외\n",
    "            if url == \"#\":\n",
    "                continue\n",
    "            # 기사 페이지\n",
    "            yield scrapy.Request(response.urljoin(url), self.parse_topics)\n",
    "\n",
    "    def parse_topics(self, response):\n",
    "        pass"
   ]
  },
  {
   "cell_type": "code",
   "execution_count": 12,
   "metadata": {},
   "outputs": [
    {
     "ename": "ModuleNotFoundError",
     "evalue": "No module named 'webcrawler'",
     "output_type": "error",
     "traceback": [
      "\u001b[1;31m---------------------------------------------------------------------------\u001b[0m",
      "\u001b[1;31mModuleNotFoundError\u001b[0m                       Traceback (most recent call last)",
      "\u001b[1;32m<ipython-input-12-24d0afeeed22>\u001b[0m in \u001b[0;36m<module>\u001b[1;34m()\u001b[0m\n\u001b[0;32m      1\u001b[0m \u001b[1;31m# -*- coding: utf-8 -*-\u001b[0m\u001b[1;33m\u001b[0m\u001b[1;33m\u001b[0m\u001b[0m\n\u001b[0;32m      2\u001b[0m \u001b[1;32mimport\u001b[0m \u001b[0mscrapy\u001b[0m\u001b[1;33m\u001b[0m\u001b[0m\n\u001b[1;32m----> 3\u001b[1;33m \u001b[1;32mfrom\u001b[0m \u001b[0mwebcrawler\u001b[0m\u001b[1;33m.\u001b[0m\u001b[0mwc06_2\u001b[0m\u001b[1;33m.\u001b[0m\u001b[0mmyproject\u001b[0m\u001b[1;33m.\u001b[0m\u001b[0mitems\u001b[0m \u001b[1;32mimport\u001b[0m \u001b[0mHeadline\u001b[0m\u001b[1;33m\u001b[0m\u001b[0m\n\u001b[0m\u001b[0;32m      4\u001b[0m \u001b[1;33m\u001b[0m\u001b[0m\n\u001b[0;32m      5\u001b[0m \u001b[1;32mclass\u001b[0m \u001b[0mNewsSpider\u001b[0m\u001b[1;33m(\u001b[0m\u001b[0mscrapy\u001b[0m\u001b[1;33m.\u001b[0m\u001b[0mSpider\u001b[0m\u001b[1;33m)\u001b[0m\u001b[1;33m:\u001b[0m\u001b[1;33m\u001b[0m\u001b[0m\n",
      "\u001b[1;31mModuleNotFoundError\u001b[0m: No module named 'webcrawler'"
     ]
    }
   ],
   "source": [
    "# -*- coding: utf-8 -*-\n",
    "import scrapy\n",
    "from webcrawler.wc06_2.myproject.items import Headline\n",
    "\n",
    "class NewsSpider(scrapy.Spider):\n",
    "    name = 'news'\n",
    "    allowed_domains = ['engadget.com']\n",
    "    start_urls = ['http://engadget.com/']\n",
    "\n",
    "    def parse(self, response):\n",
    "        \"\"\"\n",
    "        메인 페이지의 토픽 목록에서 링크를 추출하고 출력합니다.\n",
    "        \"\"\"\n",
    "        link = response.css('a.o-hit__link::attr(\"href\")').extract()\n",
    "        # link = filter(lambda x : x != \"#\", link)\n",
    "        # link = list(link)\n",
    "        # print(link)\n",
    "\n",
    "        for url in link:\n",
    "            # 광고 페이지 제외\n",
    "            if url.find(\"products\") == 1:\n",
    "                continue\n",
    "            # 의미 없는 페이지 제외\n",
    "            if url == \"#\":\n",
    "                continue\n",
    "            # 기사 페이지\n",
    "            yield scrapy.Request(response.urljoin(url), self.parse_topics)\n",
    "\n",
    "    def parse_topics(self, response):\n",
    "        pass\n",
    "        item = Headline()\n",
    "        item['title'] = response.css('head title::text').extract_first()\n",
    "        item['body'] = \" \".join(response.css('.o-article_block p')\\\n",
    "            .xpath('string()')\\\n",
    "            .extract())\n",
    "        yield item"
   ]
  },
  {
   "cell_type": "code",
   "execution_count": null,
   "metadata": {},
   "outputs": [],
   "source": []
  }
 ],
 "metadata": {
  "kernelspec": {
   "display_name": "Python 3",
   "language": "python",
   "name": "python3"
  },
  "language_info": {
   "codemirror_mode": {
    "name": "ipython",
    "version": 3
   },
   "file_extension": ".py",
   "mimetype": "text/x-python",
   "name": "python",
   "nbconvert_exporter": "python",
   "pygments_lexer": "ipython3",
   "version": "3.6.5"
  }
 },
 "nbformat": 4,
 "nbformat_minor": 2
}
