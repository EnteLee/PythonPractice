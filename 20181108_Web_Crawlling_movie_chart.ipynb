{
 "cells": [
  {
   "cell_type": "code",
   "execution_count": 1,
   "metadata": {},
   "outputs": [],
   "source": [
    "from bs4 import BeautifulSoup \n",
    "from urllib.request import urlopen\n",
    "import pandas as pd"
   ]
  },
  {
   "cell_type": "code",
   "execution_count": 2,
   "metadata": {},
   "outputs": [],
   "source": [
    "url  = 'https://movie.naver.com/movie/bi/mi/basic.nhn?code=167638'\n",
    "html = urlopen(url)\n",
    "soup = BeautifulSoup(html, \"lxml\")"
   ]
  },
  {
   "cell_type": "code",
   "execution_count": 3,
   "metadata": {},
   "outputs": [
    {
     "name": "stdout",
     "output_type": "stream",
     "text": [
      "<!DOCTYPE html>\n",
      "<html lang=\"ko\">\n",
      "<head>\n",
      "<meta charset=\"utf-8\"/>\n",
      "<meta content=\"IE=edge\" http-equiv=\"X-UA-Compatible\"/>\n",
      "<meta content=\"no\" http-equiv=\"imagetoolbar\"/>\n",
      "<title>완벽한 타인 : 네이버 영화</title>\n",
      "<meta content=\"https://ssl.pstatic.net/imgmovie/today/naverme/naverme_profile.jpg\" property=\"me2:image\"/>\n",
      "<meta content=\"네이버영화 완벽한 타인\" property=\"me2:post_tag\"/>\n",
      "<meta content=\"네이버영화\" property=\"me2:category1\"/>\n",
      "<meta content=\"완벽한 타인\" property=\"me2:category2\"/>\n",
      "<meta content=\"완벽한 타인\" property=\"og:title\"/>\n",
      "<meta content=\"article\" property=\"og:type\"/>\n",
      "<meta content=\"https://movie.naver.com/movie/bi/mi/basic.nhn?code=167638\" property=\"og:url\"/>\n",
      "<meta content=\"https://movie-phinf.pstatic.net/20181106_289/1541478936071tmadh_JPEG/movie_image.jpg?type=m665_443_2\" property=\"og:image\"/>\n",
      "<meta content=\"우리 게임 한 번 해볼까? 다들 핸드폰 올려봐저녁 먹는 동안 오는 모든 걸 공유하는 거야전화, 문자, 카...\" property=\"og:description\"/>\n",
      "<meta content=\"https://ssl.pstatic.net/imgmovie/today/naverme/naverme_profile.jpg\" property=\"og:article:thumbnailU\n"
     ]
    }
   ],
   "source": [
    "print(str(soup)[:1000])"
   ]
  },
  {
   "cell_type": "code",
   "execution_count": 4,
   "metadata": {},
   "outputs": [
    {
     "name": "stdout",
     "output_type": "stream",
     "text": [
      "[<dl class=\"info_spec\">\n",
      "<dt class=\"step1\"><em>개요()</em></dt>\n",
      "<dd>\n",
      "<p>\n",
      "<span>\n",
      "<a href=\"/movie/sdb/browsing/bmovie.nhn?genre=1\">드라마</a><!-- N=a:ifo.genre -->, \r\n",
      "\t\t\t\t\t\r\n",
      "\t\t\t\t\r\n",
      "\t\t\t\t\t\r\n",
      "\t\t\t\t\t<a href=\"/movie/sdb/browsing/bmovie.nhn?genre=11\">코미디</a><!-- N=a:ifo.genre -->\n",
      "</span>\n",
      "<span>\n",
      "<a href=\"/movie/sdb/browsing/bmovie.nhn?nation=KR\">한국</a><!-- N=a:ifo.nation -->\n",
      "</span>\n",
      "<span>115분 </span>\n",
      "<span>\n",
      "<a href=\"/movie/sdb/browsing/bmovie.nhn?open=2018\"> 2018</a><!-- N=a:ifo.year -->\n",
      "<a href=\"/movie/sdb/browsing/bmovie.nhn?open=20181031\">.10.31</a><!-- N=a:ifo.day --> 개봉\r\n",
      "\t\t\t\t\t\t\r\n",
      "\t\t\t\t\t\t\r\n",
      "\t\t\t\t\t\r\n",
      "\t\t\t\t\t</span>\n",
      "</p>\n",
      "</dd>\n",
      "<dt class=\"step2\"><em>감독</em></dt>\n",
      "<dd><p><a href=\"/movie/bi/pi/basic.nhn?code=15598\">이재규</a><!-- N=a:ifo.director --></p></dd>\n",
      "<dt class=\"step3\"><em>출연</em></dt>\n",
      "<dd><p><a href=\"/movie/bi/pi/basic.nhn?code=4431\">유해진</a><!-- N=a:ifo.actor -->(태수), <a href=\"/movie/bi/pi/basic.nhn?code=42297\">조진웅</a><!-- N=a:ifo.actor -->(석호), <a href=\"/movie/bi/pi/basic.nhn?code=2188\">이서진</a><!-- N=a:ifo.actor -->(준모)</p><a class=\"more\" href=\"detail.nhn?code=167638\" title=\"더보기\">더보기</a><!-- N=a:ifo.actmore --></dd>\n",
      "<dt class=\"step4\"><em>등급</em></dt>\n",
      "<dd>\n",
      "<p>\r\n",
      "\t\t\t\t\t\t[국내] \r\n",
      "\t\t\t\t\t\t\r\n",
      "\t\t\t\t\t\t\t<a href=\"/movie/sdb/browsing/bmovie.nhn?grade=1001003\">15세 관람가</a><!-- N=a:ifo.filmrate -->\n",
      "</p>\n",
      "</dd>\n",
      "<dt class=\"step9\"><em>흥행</em></dt>\n",
      "<dd>\n",
      "<div class=\"step9_cont\">\n",
      "<p class=\"rate\"><a href=\"/movie/running/current.nhn?view=list&amp;tab=normal&amp;order=reserve\">예매율 1위</a></p>\n",
      "<div class=\"uio_ntz_btn\">\n",
      "<span class=\"ntz\">누적관객<a class=\"help\" href=\"#\" id=\"boxofficeHelpButtonBasic\" title=\"누적관객 도움말 보기\">누적관객 도움말</a></span>\n",
      "<div class=\"ly_ntz\" id=\"boxofficeHelpLayerBasic\" style=\"display:none;\">\n",
      "<span></span>\n",
      "<strong class=\"blind\">네티즌 평점 도움말</strong>\r\n",
      "\t\t\t\t\t\t\t\t\t영화진흥위원회 영화관 입장권 통합전산망 제공\r\n",
      "\t\t\t\t\t\t\t\t\t<button class=\"btn_close\" id=\"boxofficeHelpCloseButtonBasic\" type=\"button\"><em>닫기</em></button>\n",
      "</div>\n",
      "</div>\n",
      "<p class=\"count\">2,206,356명<span>(11.07 기준)</span></p>\n",
      "</div>\n",
      "</dd>\n",
      "</dl>]\n"
     ]
    }
   ],
   "source": [
    "print(soup.find_all('dl','info_spec'))"
   ]
  },
  {
   "cell_type": "code",
   "execution_count": 17,
   "metadata": {},
   "outputs": [
    {
     "data": {
      "text/plain": [
       "[<dl class=\"info_spec\">\n",
       " <dt class=\"step1\"><em>개요()</em></dt>\n",
       " <dd>\n",
       " <p>\n",
       " <span>\n",
       " <a href=\"/movie/sdb/browsing/bmovie.nhn?genre=1\">드라마</a><!-- N=a:ifo.genre -->, \n",
       " \t\t\t\t\t\n",
       " \t\t\t\t\n",
       " \t\t\t\t\t\n",
       " \t\t\t\t\t<a href=\"/movie/sdb/browsing/bmovie.nhn?genre=11\">코미디</a><!-- N=a:ifo.genre -->\n",
       " </span>\n",
       " <span>\n",
       " <a href=\"/movie/sdb/browsing/bmovie.nhn?nation=KR\">한국</a><!-- N=a:ifo.nation -->\n",
       " </span>\n",
       " <span>115분 </span>\n",
       " <span>\n",
       " <a href=\"/movie/sdb/browsing/bmovie.nhn?open=2018\"> 2018</a><!-- N=a:ifo.year -->\n",
       " <a href=\"/movie/sdb/browsing/bmovie.nhn?open=20181031\">.10.31</a><!-- N=a:ifo.day --> 개봉\n",
       " \t\t\t\t\t\t\n",
       " \t\t\t\t\t\t\n",
       " \t\t\t\t\t\n",
       " \t\t\t\t\t</span>\n",
       " </p>\n",
       " </dd>\n",
       " <dt class=\"step2\"><em>감독</em></dt>\n",
       " <dd><p><a href=\"/movie/bi/pi/basic.nhn?code=15598\">이재규</a><!-- N=a:ifo.director --></p></dd>\n",
       " <dt class=\"step3\"><em>출연</em></dt>\n",
       " <dd><p><a href=\"/movie/bi/pi/basic.nhn?code=4431\">유해진</a><!-- N=a:ifo.actor -->(태수), <a href=\"/movie/bi/pi/basic.nhn?code=42297\">조진웅</a><!-- N=a:ifo.actor -->(석호), <a href=\"/movie/bi/pi/basic.nhn?code=2188\">이서진</a><!-- N=a:ifo.actor -->(준모)</p><a class=\"more\" href=\"detail.nhn?code=167638\" title=\"더보기\">더보기</a><!-- N=a:ifo.actmore --></dd>\n",
       " <dt class=\"step4\"><em>등급</em></dt>\n",
       " <dd>\n",
       " <p>\n",
       " \t\t\t\t\t\t[국내] \n",
       " \t\t\t\t\t\t\n",
       " \t\t\t\t\t\t\t<a href=\"/movie/sdb/browsing/bmovie.nhn?grade=1001003\">15세 관람가</a><!-- N=a:ifo.filmrate -->\n",
       " </p>\n",
       " </dd>\n",
       " <dt class=\"step9\"><em>흥행</em></dt>\n",
       " <dd>\n",
       " <div class=\"step9_cont\">\n",
       " <p class=\"rate\"><a href=\"/movie/running/current.nhn?view=list&amp;tab=normal&amp;order=reserve\">예매율 1위</a></p>\n",
       " <div class=\"uio_ntz_btn\">\n",
       " <span class=\"ntz\">누적관객<a class=\"help\" href=\"#\" id=\"boxofficeHelpButtonBasic\" title=\"누적관객 도움말 보기\">누적관객 도움말</a></span>\n",
       " <div class=\"ly_ntz\" id=\"boxofficeHelpLayerBasic\" style=\"display:none;\">\n",
       " <span></span>\n",
       " <strong class=\"blind\">네티즌 평점 도움말</strong>\n",
       " \t\t\t\t\t\t\t\t\t영화진흥위원회 영화관 입장권 통합전산망 제공\n",
       " \t\t\t\t\t\t\t\t\t<button class=\"btn_close\" id=\"boxofficeHelpCloseButtonBasic\" type=\"button\"><em>닫기</em></button>\n",
       " </div>\n",
       " </div>\n",
       " <p class=\"count\">2,206,356명<span>(11.07 기준)</span></p>\n",
       " </div>\n",
       " </dd>\n",
       " </dl>]"
      ]
     },
     "execution_count": 17,
     "metadata": {},
     "output_type": "execute_result"
    }
   ],
   "source": [
    "tmp = soup.find_all('dl','info_spec', 'dt')\n",
    "tmp"
   ]
  },
  {
   "cell_type": "code",
   "execution_count": 25,
   "metadata": {},
   "outputs": [],
   "source": [
    "tmp2=tmp[0].find_all('a')[0]"
   ]
  },
  {
   "cell_type": "code",
   "execution_count": 26,
   "metadata": {},
   "outputs": [
    {
     "data": {
      "text/plain": [
       "'드라마'"
      ]
     },
     "execution_count": 26,
     "metadata": {},
     "output_type": "execute_result"
    }
   ],
   "source": [
    "tmp2.get_text()"
   ]
  },
  {
   "cell_type": "code",
   "execution_count": null,
   "metadata": {},
   "outputs": [],
   "source": [
    "#tmp를 str 처리해서 if 장르 시 gettext로 추출하게"
   ]
  }
 ],
 "metadata": {
  "kernelspec": {
   "display_name": "Python 3",
   "language": "python",
   "name": "python3"
  },
  "language_info": {
   "codemirror_mode": {
    "name": "ipython",
    "version": 3
   },
   "file_extension": ".py",
   "mimetype": "text/x-python",
   "name": "python",
   "nbconvert_exporter": "python",
   "pygments_lexer": "ipython3",
   "version": "3.6.5"
  }
 },
 "nbformat": 4,
 "nbformat_minor": 2
}
