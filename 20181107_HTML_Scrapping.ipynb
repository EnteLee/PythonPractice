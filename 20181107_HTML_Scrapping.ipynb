{
 "cells": [
  {
   "cell_type": "code",
   "execution_count": 1,
   "metadata": {},
   "outputs": [],
   "source": [
    "! mkdir htmltest"
   ]
  },
  {
   "cell_type": "code",
   "execution_count": 2,
   "metadata": {},
   "outputs": [
    {
     "name": "stdout",
     "output_type": "stream",
     "text": [
      "Writing ./htmltest/HTML_example.html\n"
     ]
    }
   ],
   "source": [
    "%%writefile ./htmltest/HTML_example.html \n",
    "<!doctype html>\n",
    "<html>\n",
    " <head>\n",
    "  <meta charset=\"utf-8\">\n",
    "  <title>이것은 HTML 예제</title>\n",
    " </head>\n",
    " <body>\n",
    "  <h1>출간된 책 정보</h1>\n",
    "  <p id=\"book_title\">이해가 쏙쏙 되는 파이썬</p>\n",
    "  <p id=\"author\">홍길동</p>\n",
    "  <p id=\"publisher\">위키북스 출판사</p>\n",
    "  <p id=\"year\">2018</p>\n",
    " </body>\n",
    "</html>"
   ]
  },
  {
   "cell_type": "code",
   "execution_count": 3,
   "metadata": {},
   "outputs": [
    {
     "name": "stdout",
     "output_type": "stream",
     "text": [
      "Writing ./htmltest/HTML_example2.html\n"
     ]
    }
   ],
   "source": [
    "%%writefile ./htmltest/HTML_example2.html \n",
    "<!doctype html>\n",
    "<html>\n",
    " <head>\n",
    "  <meta charset=\"utf-8\">\n",
    "  <title>이것은 HTML 예제</title>\n",
    " </head>\n",
    " <body>\n",
    "  <h1>출간된 책 정보</h1>\n",
    "  <p>이해가 쏙쏙 되는 파이썬</p>\n",
    "  <p>홍길동</p>\n",
    "  <p>위키북스 출판사</p>\n",
    "  <p>2018</p>\n",
    " </body>\n",
    "</html>"
   ]
  },
  {
   "cell_type": "markdown",
   "metadata": {},
   "source": [
    "#웹 페이지의 HTML 소스 갖고 오기"
   ]
  },
  {
   "cell_type": "code",
   "execution_count": 5,
   "metadata": {},
   "outputs": [
    {
     "data": {
      "text/plain": [
       "<Response [200]>"
      ]
     },
     "execution_count": 5,
     "metadata": {},
     "output_type": "execute_result"
    }
   ],
   "source": [
    "import requests\n",
    "\n",
    "res = requests.get(\"https://www.google.co.kr\")\n",
    "res"
   ]
  },
  {
   "cell_type": "code",
   "execution_count": 11,
   "metadata": {
    "scrolled": false
   },
   "outputs": [
    {
     "data": {
      "text/plain": [
       "'<!doctype html><html itemscope=\"\" itemtype=\"http://schema.org/WebPage\" lang=\"ko\"><head><meta content=\"text/html; charset=UTF-8\" http-equiv=\"Content-Type\"><meta content=\"/images/branding/googleg/1x/googleg_standard_color_128dp.png\" itemprop=\"image\"><title>Google</title><script nonce=\"fyMEH04qW8WJR4BW'"
      ]
     },
     "execution_count": 11,
     "metadata": {},
     "output_type": "execute_result"
    }
   ],
   "source": [
    "res.text[0:300]"
   ]
  },
  {
   "cell_type": "code",
   "execution_count": 7,
   "metadata": {},
   "outputs": [
    {
     "data": {
      "text/plain": [
       "'<!doctype html><html itemscope=\"\" itemtype=\"http://schema.org/WebPage\" lang=\"ko\"><head><meta content=\"text/html; charset=UTF-8\" http-equiv=\"Content-Type\"><meta content=\"/images/branding/googleg/1x/googleg_standard_color_128dp.png\" itemprop=\"image\"><title>Google</title><script nonce=\"IojdjcZR5XDCiN9f'"
      ]
     },
     "execution_count": 7,
     "metadata": {},
     "output_type": "execute_result"
    }
   ],
   "source": [
    "import requests\n",
    "\n",
    "html = requests.get(\"https://www.google.co.kr\").text\n",
    "html[0:300]"
   ]
  },
  {
   "cell_type": "code",
   "execution_count": 8,
   "metadata": {},
   "outputs": [
    {
     "data": {
      "text/plain": [
       "(requests.models.Response, str)"
      ]
     },
     "execution_count": 8,
     "metadata": {},
     "output_type": "execute_result"
    }
   ],
   "source": [
    "type(res), type(html)"
   ]
  },
  {
   "cell_type": "markdown",
   "metadata": {},
   "source": [
    "#HTML 소스코드를 분석하고 처리하기"
   ]
  },
  {
   "cell_type": "code",
   "execution_count": 12,
   "metadata": {},
   "outputs": [
    {
     "data": {
      "text/plain": [
       "<html><body><div><span>\n",
       "<a href=\"http://www.naver.com\">naver</a>\n",
       "<a href=\"https://www.google.com\">google</a>\n",
       "<a href=\"http://www.daum.net/\">daum</a>\n",
       "</span></div></body></html>"
      ]
     },
     "execution_count": 12,
     "metadata": {},
     "output_type": "execute_result"
    }
   ],
   "source": [
    "from bs4 import BeautifulSoup\n",
    "\n",
    "# 테스트용 html 코드\n",
    "html = \"\"\"\n",
    "<html><body><div><span>\n",
    "<a href=http://www.naver.com>naver</a>\n",
    "<a href=https://www.google.com>google</a>\n",
    "<a href=http://www.daum.net/>daum</a>\n",
    "</span></div></body></html>\n",
    "\"\"\" \n",
    "\n",
    "# BeautifulSoup를 이용해 HTML 소스를 파싱\n",
    "soup = BeautifulSoup(html, 'lxml')    #lxml 붙어있으면 html 외에도 다 파싱해줌\n",
    "soup"
   ]
  },
  {
   "cell_type": "code",
   "execution_count": 13,
   "metadata": {},
   "outputs": [
    {
     "name": "stdout",
     "output_type": "stream",
     "text": [
      "<html>\n",
      " <body>\n",
      "  <div>\n",
      "   <span>\n",
      "    <a href=\"http://www.naver.com\">\n",
      "     naver\n",
      "    </a>\n",
      "    <a href=\"https://www.google.com\">\n",
      "     google\n",
      "    </a>\n",
      "    <a href=\"http://www.daum.net/\">\n",
      "     daum\n",
      "    </a>\n",
      "   </span>\n",
      "  </div>\n",
      " </body>\n",
      "</html>\n",
      "\n"
     ]
    }
   ],
   "source": [
    "print(soup.prettify())"
   ]
  },
  {
   "cell_type": "code",
   "execution_count": 14,
   "metadata": {},
   "outputs": [
    {
     "data": {
      "text/plain": [
       "<a href=\"http://www.naver.com\">naver</a>"
      ]
     },
     "execution_count": 14,
     "metadata": {},
     "output_type": "execute_result"
    }
   ],
   "source": [
    "soup.find('a')"
   ]
  },
  {
   "cell_type": "code",
   "execution_count": 15,
   "metadata": {},
   "outputs": [
    {
     "data": {
      "text/plain": [
       "[<a href=\"http://www.naver.com\">naver</a>,\n",
       " <a href=\"https://www.google.com\">google</a>,\n",
       " <a href=\"http://www.daum.net/\">daum</a>]"
      ]
     },
     "execution_count": 15,
     "metadata": {},
     "output_type": "execute_result"
    }
   ],
   "source": [
    "soup.find_all('a')"
   ]
  },
  {
   "cell_type": "code",
   "execution_count": 16,
   "metadata": {},
   "outputs": [
    {
     "data": {
      "text/plain": [
       "'naver'"
      ]
     },
     "execution_count": 16,
     "metadata": {},
     "output_type": "execute_result"
    }
   ],
   "source": [
    "soup.find('a').get_text()"
   ]
  },
  {
   "cell_type": "code",
   "execution_count": 17,
   "metadata": {},
   "outputs": [],
   "source": [
    "from bs4 import BeautifulSoup\n",
    "\n",
    "# 테스트용 HTML 코드\n",
    "html2 = \"\"\"\n",
    "<html>\n",
    " <head>\n",
    "  <title>작품과 작가 모음</title>\n",
    " </head>\n",
    " <body>\n",
    "  <h1>책 정보</h1>\n",
    "  <p class=\"book_title\">토지</p>\n",
    "  <p class=\"author\">박경리</p>\n",
    "  \n",
    "  <p class=\"book_title\">태백산맥</p>\n",
    "  <p class=\"author\">조정래</p>\n",
    "\n",
    "  <p class=\"book_title\">감옥으로부터의 사색</p>\n",
    "  <p class=\"author\">신영복</p>\n",
    " </body>\n",
    "</html>\n",
    "\"\"\" \n",
    "\n",
    "soup2 = BeautifulSoup(html2, \"lxml\")"
   ]
  },
  {
   "cell_type": "code",
   "execution_count": 19,
   "metadata": {},
   "outputs": [
    {
     "data": {
      "text/plain": [
       "<title>작품과 작가 모음</title>"
      ]
     },
     "execution_count": 19,
     "metadata": {},
     "output_type": "execute_result"
    }
   ],
   "source": [
    "soup2.find('title')"
   ]
  },
  {
   "cell_type": "code",
   "execution_count": 20,
   "metadata": {},
   "outputs": [
    {
     "data": {
      "text/plain": [
       "<p class=\"book_title\">토지</p>"
      ]
     },
     "execution_count": 20,
     "metadata": {},
     "output_type": "execute_result"
    }
   ],
   "source": [
    "soup2.find('p')"
   ]
  },
  {
   "cell_type": "code",
   "execution_count": 21,
   "metadata": {},
   "outputs": [
    {
     "data": {
      "text/plain": [
       "[<p class=\"book_title\">토지</p>,\n",
       " <p class=\"author\">박경리</p>,\n",
       " <p class=\"book_title\">태백산맥</p>,\n",
       " <p class=\"author\">조정래</p>,\n",
       " <p class=\"book_title\">감옥으로부터의 사색</p>,\n",
       " <p class=\"author\">신영복</p>]"
      ]
     },
     "execution_count": 21,
     "metadata": {},
     "output_type": "execute_result"
    }
   ],
   "source": [
    "soup2.find_all('p')"
   ]
  },
  {
   "cell_type": "code",
   "execution_count": 22,
   "metadata": {},
   "outputs": [
    {
     "data": {
      "text/plain": [
       "[<p class=\"book_title\">토지</p>,\n",
       " <p class=\"book_title\">태백산맥</p>,\n",
       " <p class=\"book_title\">감옥으로부터의 사색</p>]"
      ]
     },
     "execution_count": 22,
     "metadata": {},
     "output_type": "execute_result"
    }
   ],
   "source": [
    "soup2.findAll('p','book_title')"
   ]
  },
  {
   "cell_type": "code",
   "execution_count": 24,
   "metadata": {},
   "outputs": [
    {
     "name": "stdout",
     "output_type": "stream",
     "text": [
      " - 토지 / 박경리 \n",
      " - 태백산맥 / 조정래 \n",
      " - 감옥으로부터의 사색 / 신영복 \n"
     ]
    }
   ],
   "source": [
    "soup2 = BeautifulSoup(html2, 'lxml')\n",
    "\n",
    "book_titles = soup2.findAll('p','book_title')\n",
    "authors = soup2.findAll('p', 'author')\n",
    "\n",
    "for book_title, author in zip(book_titles, authors):\n",
    "    print(' - {} / {} '.format(book_title.get_text(), author.get_text()))"
   ]
  },
  {
   "cell_type": "code",
   "execution_count": 25,
   "metadata": {},
   "outputs": [],
   "source": [
    "import requests  \n",
    "from bs4 import BeautifulSoup \n",
    "\n",
    "url = \"https://www.alexa.com/topsites/countries/KR\"\n",
    "\n",
    "html_website_ranking = requests.get(url).text\n",
    "soup_website_ranking = BeautifulSoup(html_website_ranking, \"lxml\")\n",
    "\n",
    "# p 태그의 요소 안에서 a 태그의 요소를 찾음\n",
    "website_ranking = soup_website_ranking.select('p a')"
   ]
  },
  {
   "cell_type": "code",
   "execution_count": 26,
   "metadata": {},
   "outputs": [
    {
     "data": {
      "text/plain": [
       "501"
      ]
     },
     "execution_count": 26,
     "metadata": {},
     "output_type": "execute_result"
    }
   ],
   "source": [
    "website_ranking = soup_website_ranking.find_all('div')\n",
    "len(website_ranking)"
   ]
  },
  {
   "cell_type": "code",
   "execution_count": 27,
   "metadata": {},
   "outputs": [
    {
     "data": {
      "text/plain": [
       "50"
      ]
     },
     "execution_count": 27,
     "metadata": {},
     "output_type": "execute_result"
    }
   ],
   "source": [
    "website_ranking = soup_website_ranking.find_all('div', 'tr site-listing')\n",
    "len(website_ranking)   #class 명 더블클릭하면 긁어올때 편함"
   ]
  },
  {
   "cell_type": "code",
   "execution_count": 29,
   "metadata": {},
   "outputs": [
    {
     "data": {
      "text/plain": [
       "<div class=\"tr site-listing\">\n",
       "<div class=\"td number\">1</div>\n",
       "<div class=\"td DescriptionCell\">\n",
       "<p class=\"\">\n",
       "<a href=\"/siteinfo/naver.com\">Naver.com</a>\n",
       "</p>\n",
       "<div class=\"description\">\n",
       " <span class=\"remainder\"></span>\n",
       "</div>\n",
       "</div>\n",
       "<div class=\"td right\"><p>14:11</p></div>\n",
       "<div class=\"td right\"><p>8.46</p></div>\n",
       "<div class=\"td right\"><p>9.00%</p></div>\n",
       "<div class=\"td right\"><p>75,421</p></div>\n",
       "</div>"
      ]
     },
     "execution_count": 29,
     "metadata": {},
     "output_type": "execute_result"
    }
   ],
   "source": [
    "tmp = website_ranking[0]\n",
    "tmp"
   ]
  },
  {
   "cell_type": "code",
   "execution_count": 30,
   "metadata": {},
   "outputs": [
    {
     "data": {
      "text/plain": [
       "<div class=\"td number\">1</div>"
      ]
     },
     "execution_count": 30,
     "metadata": {},
     "output_type": "execute_result"
    }
   ],
   "source": [
    "tmp1 = tmp.find('div', 'td number')\n",
    "tmp1"
   ]
  },
  {
   "cell_type": "code",
   "execution_count": 31,
   "metadata": {},
   "outputs": [
    {
     "data": {
      "text/plain": [
       "<a href=\"/siteinfo/naver.com\">Naver.com</a>"
      ]
     },
     "execution_count": 31,
     "metadata": {},
     "output_type": "execute_result"
    }
   ],
   "source": [
    "tmp2 = tmp.find('a')\n",
    "tmp2"
   ]
  },
  {
   "cell_type": "code",
   "execution_count": 32,
   "metadata": {},
   "outputs": [
    {
     "data": {
      "text/plain": [
       "'1'"
      ]
     },
     "execution_count": 32,
     "metadata": {},
     "output_type": "execute_result"
    }
   ],
   "source": [
    "rank = tmp1.get_text()\n",
    "rank"
   ]
  },
  {
   "cell_type": "code",
   "execution_count": 33,
   "metadata": {},
   "outputs": [
    {
     "data": {
      "text/plain": [
       "'Naver.com'"
      ]
     },
     "execution_count": 33,
     "metadata": {},
     "output_type": "execute_result"
    }
   ],
   "source": [
    "site = tmp2.get_text()\n",
    "site"
   ]
  },
  {
   "cell_type": "code",
   "execution_count": 34,
   "metadata": {},
   "outputs": [
    {
     "data": {
      "text/plain": [
       "'/siteinfo/naver.com'"
      ]
     },
     "execution_count": 34,
     "metadata": {},
     "output_type": "execute_result"
    }
   ],
   "source": [
    "link = tmp2['href']\n",
    "link"
   ]
  },
  {
   "cell_type": "code",
   "execution_count": 35,
   "metadata": {},
   "outputs": [
    {
     "name": "stdout",
     "output_type": "stream",
     "text": [
      "Top sites in South Korea\n",
      "\n",
      "1위. Naver.com (/siteinfo/naver.com)\n",
      "2위. Youtube.com (/siteinfo/youtube.com)\n",
      "3위. Google.co.kr (/siteinfo/google.co.kr)\n",
      "4위. Google.com (/siteinfo/google.com)\n",
      "5위. Daum.net (/siteinfo/daum.net)\n",
      "6위. Tistory.com (/siteinfo/tistory.com)\n",
      "7위. Namu.wiki (/siteinfo/namu.wiki)\n",
      "8위. Facebook.com (/siteinfo/facebook.com)\n",
      "9위. Dcinside.com (/siteinfo/dcinside.com)\n",
      "10위. Wikipedia.org (/siteinfo/wikipedia.org)\n",
      "11위. Gmarket.co.kr (/siteinfo/gmarket.co.kr)\n",
      "12위. Twitter.com (/siteinfo/twitter.com)\n",
      "13위. Ruliweb.com (/siteinfo/ruliweb.com)\n",
      "14위. Blog.me (/siteinfo/blog.me)\n",
      "15위. Instagram.com (/siteinfo/instagram.com)\n",
      "16위. Twitch.tv (/siteinfo/twitch.tv)\n",
      "17위. 11st.co.kr (/siteinfo/11st.co.kr)\n",
      "18위. Auction.co.kr (/siteinfo/auction.co.kr)\n",
      "19위. Baidu.com (/siteinfo/baidu.com)\n",
      "20위. Inven.co.kr (/siteinfo/inven.co.kr)\n",
      "21위. Donga.com (/siteinfo/donga.com)\n",
      "22위. Qq.com (/siteinfo/qq.com)\n",
      "23위. Tmall.com (/siteinfo/tmall.com)\n",
      "24위. Amazon.com (/siteinfo/amazon.com)\n",
      "25위. Taobao.com (/siteinfo/taobao.com)\n",
      "26위. Marumaru.in (/siteinfo/marumaru.in)\n",
      "27위. Kakao.com (/siteinfo/kakao.com)\n",
      "28위. Torrenthaja.com (/siteinfo/torrenthaja.com)\n",
      "29위. Coupang.com (/siteinfo/coupang.com)\n",
      "30위. T.co (/siteinfo/t.co)\n",
      "31위. Afreecatv.com (/siteinfo/afreecatv.com)\n",
      "32위. Wasabisyrup.com (/siteinfo/wasabisyrup.com)\n",
      "33위. Nate.com (/siteinfo/nate.com)\n",
      "34위. Etoland.co.kr (/siteinfo/etoland.co.kr)\n",
      "35위. Netflix.com (/siteinfo/netflix.com)\n",
      "36위. Clien.net (/siteinfo/clien.net)\n",
      "37위. Nicovideo.jp (/siteinfo/nicovideo.jp)\n",
      "38위. Danawa.com (/siteinfo/danawa.com)\n",
      "39위. Interpark.com (/siteinfo/interpark.com)\n",
      "40위. Sohu.com (/siteinfo/sohu.com)\n",
      "41위. Ilbe.com (/siteinfo/ilbe.com)\n",
      "42위. Blogspot.com (/siteinfo/blogspot.com)\n",
      "43위. Microsoft.com (/siteinfo/microsoft.com)\n",
      "44위. Tumblr.com (/siteinfo/tumblr.com)\n",
      "45위. Apple.com (/siteinfo/apple.com)\n",
      "46위. Torrentmap.com (/siteinfo/torrentmap.com)\n",
      "47위. Nexon.com (/siteinfo/nexon.com)\n",
      "48위. Wemakeprice.com (/siteinfo/wemakeprice.com)\n",
      "49위. Aliexpress.com (/siteinfo/aliexpress.com)\n",
      "50위. Joins.com (/siteinfo/joins.com)\n"
     ]
    }
   ],
   "source": [
    "Rank = []; Site = []; Link = []\n",
    "print(\"Top sites in South Korea\\n\")\n",
    "for i in range(len(website_ranking)):\n",
    "    tmp = website_ranking[i]\n",
    "    tmp1 = tmp.find('div', 'td number')\n",
    "    tmp2 = tmp.find('a')\n",
    "    rank = tmp1.get_text()\n",
    "    site = tmp2.get_text()\n",
    "    link = tmp2['href']\n",
    "    print(\"{}위. {} ({})\".format(rank, site, link))\n",
    "    \n",
    "    Rank.append(rank)\n",
    "    Site.append(site)\n",
    "    Link.append(link)"
   ]
  },
  {
   "cell_type": "code",
   "execution_count": 36,
   "metadata": {},
   "outputs": [
    {
     "data": {
      "text/plain": [
       "['/siteinfo/naver.com',\n",
       " '/siteinfo/youtube.com',\n",
       " '/siteinfo/google.co.kr',\n",
       " '/siteinfo/google.com',\n",
       " '/siteinfo/daum.net']"
      ]
     },
     "execution_count": 36,
     "metadata": {},
     "output_type": "execute_result"
    }
   ],
   "source": [
    "Link[:5]"
   ]
  },
  {
   "cell_type": "code",
   "execution_count": 37,
   "metadata": {},
   "outputs": [],
   "source": [
    "import pandas as pd\n",
    "data = {'Rank':Rank, 'Site':Site, 'Link':Link}\n",
    "df = pd.DataFrame(data)"
   ]
  },
  {
   "cell_type": "code",
   "execution_count": 38,
   "metadata": {},
   "outputs": [
    {
     "data": {
      "text/html": [
       "<div>\n",
       "<style scoped>\n",
       "    .dataframe tbody tr th:only-of-type {\n",
       "        vertical-align: middle;\n",
       "    }\n",
       "\n",
       "    .dataframe tbody tr th {\n",
       "        vertical-align: top;\n",
       "    }\n",
       "\n",
       "    .dataframe thead th {\n",
       "        text-align: right;\n",
       "    }\n",
       "</style>\n",
       "<table border=\"1\" class=\"dataframe\">\n",
       "  <thead>\n",
       "    <tr style=\"text-align: right;\">\n",
       "      <th></th>\n",
       "      <th>Rank</th>\n",
       "      <th>Site</th>\n",
       "      <th>Link</th>\n",
       "    </tr>\n",
       "  </thead>\n",
       "  <tbody>\n",
       "    <tr>\n",
       "      <th>0</th>\n",
       "      <td>1</td>\n",
       "      <td>Naver.com</td>\n",
       "      <td>/siteinfo/naver.com</td>\n",
       "    </tr>\n",
       "    <tr>\n",
       "      <th>1</th>\n",
       "      <td>2</td>\n",
       "      <td>Youtube.com</td>\n",
       "      <td>/siteinfo/youtube.com</td>\n",
       "    </tr>\n",
       "    <tr>\n",
       "      <th>2</th>\n",
       "      <td>3</td>\n",
       "      <td>Google.co.kr</td>\n",
       "      <td>/siteinfo/google.co.kr</td>\n",
       "    </tr>\n",
       "    <tr>\n",
       "      <th>3</th>\n",
       "      <td>4</td>\n",
       "      <td>Google.com</td>\n",
       "      <td>/siteinfo/google.com</td>\n",
       "    </tr>\n",
       "    <tr>\n",
       "      <th>4</th>\n",
       "      <td>5</td>\n",
       "      <td>Daum.net</td>\n",
       "      <td>/siteinfo/daum.net</td>\n",
       "    </tr>\n",
       "  </tbody>\n",
       "</table>\n",
       "</div>"
      ],
      "text/plain": [
       "  Rank          Site                    Link\n",
       "0    1     Naver.com     /siteinfo/naver.com\n",
       "1    2   Youtube.com   /siteinfo/youtube.com\n",
       "2    3  Google.co.kr  /siteinfo/google.co.kr\n",
       "3    4    Google.com    /siteinfo/google.com\n",
       "4    5      Daum.net      /siteinfo/daum.net"
      ]
     },
     "execution_count": 38,
     "metadata": {},
     "output_type": "execute_result"
    }
   ],
   "source": [
    "df.head()"
   ]
  },
  {
   "cell_type": "code",
   "execution_count": 40,
   "metadata": {},
   "outputs": [],
   "source": [
    "df.set_index('Rank', inplace=True)"
   ]
  },
  {
   "cell_type": "code",
   "execution_count": 41,
   "metadata": {},
   "outputs": [
    {
     "data": {
      "text/html": [
       "<div>\n",
       "<style scoped>\n",
       "    .dataframe tbody tr th:only-of-type {\n",
       "        vertical-align: middle;\n",
       "    }\n",
       "\n",
       "    .dataframe tbody tr th {\n",
       "        vertical-align: top;\n",
       "    }\n",
       "\n",
       "    .dataframe thead th {\n",
       "        text-align: right;\n",
       "    }\n",
       "</style>\n",
       "<table border=\"1\" class=\"dataframe\">\n",
       "  <thead>\n",
       "    <tr style=\"text-align: right;\">\n",
       "      <th></th>\n",
       "      <th>Site</th>\n",
       "      <th>Link</th>\n",
       "    </tr>\n",
       "    <tr>\n",
       "      <th>Rank</th>\n",
       "      <th></th>\n",
       "      <th></th>\n",
       "    </tr>\n",
       "  </thead>\n",
       "  <tbody>\n",
       "    <tr>\n",
       "      <th>1</th>\n",
       "      <td>Naver.com</td>\n",
       "      <td>/siteinfo/naver.com</td>\n",
       "    </tr>\n",
       "    <tr>\n",
       "      <th>2</th>\n",
       "      <td>Youtube.com</td>\n",
       "      <td>/siteinfo/youtube.com</td>\n",
       "    </tr>\n",
       "    <tr>\n",
       "      <th>3</th>\n",
       "      <td>Google.co.kr</td>\n",
       "      <td>/siteinfo/google.co.kr</td>\n",
       "    </tr>\n",
       "    <tr>\n",
       "      <th>4</th>\n",
       "      <td>Google.com</td>\n",
       "      <td>/siteinfo/google.com</td>\n",
       "    </tr>\n",
       "    <tr>\n",
       "      <th>5</th>\n",
       "      <td>Daum.net</td>\n",
       "      <td>/siteinfo/daum.net</td>\n",
       "    </tr>\n",
       "  </tbody>\n",
       "</table>\n",
       "</div>"
      ],
      "text/plain": [
       "              Site                    Link\n",
       "Rank                                      \n",
       "1        Naver.com     /siteinfo/naver.com\n",
       "2      Youtube.com   /siteinfo/youtube.com\n",
       "3     Google.co.kr  /siteinfo/google.co.kr\n",
       "4       Google.com    /siteinfo/google.com\n",
       "5         Daum.net      /siteinfo/daum.net"
      ]
     },
     "execution_count": 41,
     "metadata": {},
     "output_type": "execute_result"
    }
   ],
   "source": [
    "df.head()"
   ]
  },
  {
   "cell_type": "code",
   "execution_count": 42,
   "metadata": {},
   "outputs": [],
   "source": [
    "df.to_csv('data/top_site_50.csv', sep=',', encoding='UTF=8')"
   ]
  },
  {
   "cell_type": "code",
   "execution_count": null,
   "metadata": {},
   "outputs": [],
   "source": []
  }
 ],
 "metadata": {
  "kernelspec": {
   "display_name": "Python 3",
   "language": "python",
   "name": "python3"
  },
  "language_info": {
   "codemirror_mode": {
    "name": "ipython",
    "version": 3
   },
   "file_extension": ".py",
   "mimetype": "text/x-python",
   "name": "python",
   "nbconvert_exporter": "python",
   "pygments_lexer": "ipython3",
   "version": "3.6.5"
  }
 },
 "nbformat": 4,
 "nbformat_minor": 2
}
