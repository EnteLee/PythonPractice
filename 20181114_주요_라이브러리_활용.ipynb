{
 "cells": [
  {
   "cell_type": "markdown",
   "metadata": {},
   "source": [
    "# 주요 라이브러리 활용 \n",
    "- 라이브러리 설치\n",
    "- 웹 페이지 간단하게 추출\n",
    "- HTML 스크레이핑\n",
    "- RSS 스크레이핑하기\n",
    "- 데이터베이스에 저장\n",
    "- 크롤러와 URL\n",
    "- 파이썬으로 크롤러 만들기"
   ]
  },
  {
   "cell_type": "markdown",
   "metadata": {},
   "source": [
    "# pip 설치 \n",
    "- (venv) C:\\> pip install <module_name> \n",
    "- (venv) C:\\> pip install <module_name>=1.0 \n",
    "- (venv) C:\\> pip freeze"
   ]
  },
  {
   "cell_type": "markdown",
   "metadata": {},
   "source": [
    "## 웹 페이지 간단하게 추출 \n",
    "- urllib.Request : GET, POST 요청 처리\n",
    "\n",
    "- get(), post(), put(), delete(), head(), option()\n",
    "- 위 함수는 HTTP 메소드 GET, POST, PUT, DELETE, HEAD, OPTIONS 에 대응"
   ]
  },
  {
   "cell_type": "markdown",
   "metadata": {},
   "source": [
    "## HTML 스크레이핑 \n",
    "- HTML 요소를 지정하는 방식 : XPath / CSS 선택자\n",
    "- lxml 스크래이핑 : C언어로 작성된 XML 처리와 관련된 libxml2와 libxslt의 파이썬 바인딩\n",
    "- BeautifuSoup 스크래이핑 : 아주 쉽고 간단한 공개 API (cf. Current Version : BeautifulSoup4 since 2012)\n",
    "- pyquery 스크래이핑 : jQuery와 같은 사용법으로 HTML에서 스크래이핑 할 수 있게 해주는 라이브러리"
   ]
  },
  {
   "cell_type": "code",
   "execution_count": 1,
   "metadata": {},
   "outputs": [
    {
     "name": "stderr",
     "output_type": "stream",
     "text": [
      "--2018-11-14 10:21:28--  http://www.hanbit.co.kr/store/books/full_book_list.html\n",
      "Resolving www.hanbit.co.kr (www.hanbit.co.kr)... 218.38.58.195\n",
      "Connecting to www.hanbit.co.kr (www.hanbit.co.kr)|218.38.58.195|:80... connected.\n",
      "HTTP request sent, awaiting response... 200 OK\n",
      "Length: unspecified [text/html]\n",
      "Saving to: './data/full_book_list.html'\n",
      "\n",
      "     0K .......... .......... .......... .......... .....       769K=0.06s\n",
      "\n",
      "2018-11-14 10:21:29 (769 KB/s) - './data/full_book_list.html' saved [46411]\n",
      "\n"
     ]
    }
   ],
   "source": [
    "! wget http://www.hanbit.co.kr/store/books/full_book_list.html -O ./data/full_book_list.html"
   ]
  },
  {
   "cell_type": "markdown",
   "metadata": {},
   "source": [
    "### c3-01_scrape_by_lxml\n",
    "- lxml로 스크레이핑"
   ]
  },
  {
   "cell_type": "code",
   "execution_count": 4,
   "metadata": {},
   "outputs": [
    {
     "data": {
      "text/html": [
       "<div>\n",
       "<style scoped>\n",
       "    .dataframe tbody tr th:only-of-type {\n",
       "        vertical-align: middle;\n",
       "    }\n",
       "\n",
       "    .dataframe tbody tr th {\n",
       "        vertical-align: top;\n",
       "    }\n",
       "\n",
       "    .dataframe thead th {\n",
       "        text-align: right;\n",
       "    }\n",
       "</style>\n",
       "<table border=\"1\" class=\"dataframe\">\n",
       "  <thead>\n",
       "    <tr style=\"text-align: right;\">\n",
       "      <th></th>\n",
       "      <th>Text</th>\n",
       "      <th>Link</th>\n",
       "    </tr>\n",
       "  </thead>\n",
       "  <tbody>\n",
       "    <tr>\n",
       "      <th>0</th>\n",
       "      <td>한빛미디어</td>\n",
       "      <td>http://www.hanbit.co.kr/media/</td>\n",
       "    </tr>\n",
       "    <tr>\n",
       "      <th>1</th>\n",
       "      <td>한빛아카데미</td>\n",
       "      <td>http://www.hanbit.co.kr/academy/</td>\n",
       "    </tr>\n",
       "    <tr>\n",
       "      <th>2</th>\n",
       "      <td>한빛비즈</td>\n",
       "      <td>http://www.hanbit.co.kr/biz/</td>\n",
       "    </tr>\n",
       "    <tr>\n",
       "      <th>3</th>\n",
       "      <td>한빛라이프</td>\n",
       "      <td>http://www.hanbit.co.kr/life/</td>\n",
       "    </tr>\n",
       "    <tr>\n",
       "      <th>4</th>\n",
       "      <td>한빛에듀</td>\n",
       "      <td>http://www.hanbit.co.kr/edu/</td>\n",
       "    </tr>\n",
       "    <tr>\n",
       "      <th>5</th>\n",
       "      <td>리얼타임</td>\n",
       "      <td>http://www.hanbit.co.kr/realtime/</td>\n",
       "    </tr>\n",
       "    <tr>\n",
       "      <th>6</th>\n",
       "      <td>한빛정보교과서</td>\n",
       "      <td>http://www.hanbit.co.kr/textbook/</td>\n",
       "    </tr>\n",
       "    <tr>\n",
       "      <th>7</th>\n",
       "      <td>한빛대관서비스</td>\n",
       "      <td>http://www.hanbit.co.kr/rent/</td>\n",
       "    </tr>\n",
       "    <tr>\n",
       "      <th>8</th>\n",
       "      <td>로그인</td>\n",
       "      <td>http://www.hanbit.co.kr/member/login.html</td>\n",
       "    </tr>\n",
       "    <tr>\n",
       "      <th>9</th>\n",
       "      <td>회원가입</td>\n",
       "      <td>http://www.hanbit.co.kr/member/member_agree.html</td>\n",
       "    </tr>\n",
       "  </tbody>\n",
       "</table>\n",
       "</div>"
      ],
      "text/plain": [
       "      Text                                              Link\n",
       "0    한빛미디어                    http://www.hanbit.co.kr/media/\n",
       "1   한빛아카데미                  http://www.hanbit.co.kr/academy/\n",
       "2     한빛비즈                      http://www.hanbit.co.kr/biz/\n",
       "3    한빛라이프                     http://www.hanbit.co.kr/life/\n",
       "4     한빛에듀                      http://www.hanbit.co.kr/edu/\n",
       "5     리얼타임                 http://www.hanbit.co.kr/realtime/\n",
       "6  한빛정보교과서                 http://www.hanbit.co.kr/textbook/\n",
       "7  한빛대관서비스                     http://www.hanbit.co.kr/rent/\n",
       "8      로그인         http://www.hanbit.co.kr/member/login.html\n",
       "9     회원가입  http://www.hanbit.co.kr/member/member_agree.html"
      ]
     },
     "execution_count": 4,
     "metadata": {},
     "output_type": "execute_result"
    }
   ],
   "source": [
    "import lxml.html\n",
    "import pandas as pd\n",
    "\n",
    "# HTML 파일을 읽어 들이고, getroot() 메서드로 HtmlElement 객체를 생성합니다.\n",
    "tree = lxml.html.parse('./data/full_book_list.html')\n",
    "html = tree.getroot()\n",
    "\n",
    "A_Tag_Text = []\n",
    "A_Tag_Link = []\n",
    "\n",
    "# cssselect() 메서드로 a 요소의 리스트를 추출하고 반복을 돌립니다.\n",
    "for a in html.cssselect('a'):\n",
    "    # href 속성과 글자를 추출합니다.\n",
    "    # print(a.get('href'), a.text)\n",
    "    \n",
    "    if a.text is not None:\n",
    "        A_Tag_Text.append(a.text)\n",
    "        A_Tag_Link.append(a.get('href'))\n",
    "\n",
    "book_df = pd.DataFrame({'Text' : A_Tag_Text, \n",
    "                        'Link' : A_Tag_Link},\n",
    "                      columns = ['Text', 'Link'])\n",
    "book_df.head(10)"
   ]
  },
  {
   "cell_type": "markdown",
   "metadata": {},
   "source": [
    "### c3-02_scrape_by_bs4 ¶\n",
    "- BeautifulSopu 로 스크래이핑"
   ]
  },
  {
   "cell_type": "code",
   "execution_count": 5,
   "metadata": {},
   "outputs": [],
   "source": [
    "# encoding type 확인 : <meta charset=''> 정보\n",
    "# ! type data\\full_book_list.html"
   ]
  },
  {
   "cell_type": "code",
   "execution_count": 6,
   "metadata": {},
   "outputs": [
    {
     "name": "stdout",
     "output_type": "stream",
     "text": [
      "href 속성 : /store/books/category_list.html?cate_cd=001 \t, 글자 : IT/모바일, \n",
      "href 속성 : /store/books/category_list.html?cate_cd=001001 \t, 글자 : 프로그래밍, \n",
      "href 속성 : /store/books/category_list.html?cate_cd=001002 \t, 글자 : 웹, \n",
      "href 속성 : /store/books/category_list.html?cate_cd=001003 \t, 글자 : 모바일/스마트기기, \n",
      "href 속성 : /store/books/category_list.html?cate_cd=001013 \t, 글자 : 데이터베이스, \n",
      "href 속성 : /store/books/category_list.html?cate_cd=001005 \t, 글자 : 운영체제, \n",
      "href 속성 : /store/books/category_list.html?cate_cd=001014 \t, 글자 : 하드웨어, \n",
      "href 속성 : /store/books/category_list.html?cate_cd=001015 \t, 글자 : 시스템/네트워크, \n",
      "href 속성 : /store/books/category_list.html?cate_cd=001016 \t, 글자 : 보안, \n",
      "href 속성 : /store/books/category_list.html?cate_cd=001009 \t, 글자 : 비즈니스/문화, \n",
      "href 속성 : /store/books/category_list.html?cate_cd=001010 \t, 글자 : 게임, \n",
      "href 속성 : /store/books/category_list.html?cate_cd=001017 \t, 글자 : IT에세이, \n",
      "href 속성 : /store/books/category_list.html?cate_cd=001012 \t, 글자 : 자격증, \n",
      "href 속성 : /store/books/category_list.html?cate_cd=002 \t, 글자 : MAKE, \n",
      "href 속성 : /store/books/category_list.html?cate_cd=002001 \t, 글자 : Make 매거진, \n",
      "href 속성 : /store/books/category_list.html?cate_cd=002002 \t, 글자 : Make 프로젝트 북, \n",
      "href 속성 : /store/books/category_list.html?cate_cd=003 \t, 글자 : IT활용, \n",
      "href 속성 : /store/books/category_list.html?cate_cd=003001 \t, 글자 : 오피스/OA, \n",
      "href 속성 : /store/books/category_list.html?cate_cd=003002 \t, 글자 : 그래픽/멀티미디어, \n",
      "href 속성 : /store/books/category_list.html?cate_cd=003003 \t, 글자 : 사진/예술, \n",
      "href 속성 : /store/books/category_list.html?cate_cd=003004 \t, 글자 : 컴퓨터입문/IT교양, \n",
      "href 속성 : /store/books/category_list.html?cate_cd=004 \t, 글자 : 대학교재, \n",
      "href 속성 : /store/books/category_list.html?cate_cd=004007 \t, 글자 : 컴퓨터공학, \n",
      "href 속성 : /store/books/category_list.html?cate_cd=004008 \t, 글자 : 정보통신/전기/전자, \n",
      "href 속성 : /store/books/category_list.html?cate_cd=004003 \t, 글자 : 수학/과학/공학, \n",
      "href 속성 : /store/books/category_list.html?cate_cd=004004 \t, 글자 : 프로그래밍/웹, \n",
      "href 속성 : /store/books/category_list.html?cate_cd=004005 \t, 글자 : 그래픽/디자인, \n",
      "href 속성 : /store/books/category_list.html?cate_cd=004006 \t, 글자 : OA/활용, \n",
      "href 속성 : /store/books/category_list.html?cate_cd=005 \t, 글자 : 수험서, \n",
      "href 속성 : /store/books/category_list.html?cate_cd=005005 \t, 글자 : 전기기본서, \n",
      "href 속성 : /store/books/category_list.html?cate_cd=005001 \t, 글자 : 전기기사, \n",
      "href 속성 : /store/books/category_list.html?cate_cd=005002 \t, 글자 : 전기산업기사, \n",
      "href 속성 : /store/books/category_list.html?cate_cd=005003 \t, 글자 : 전기공사기사, \n",
      "href 속성 : /store/books/category_list.html?cate_cd=005004 \t, 글자 : 전기공사산업기사, \n",
      "href 속성 : /store/books/category_list.html?cate_cd=006 \t, 글자 : 실용서, \n",
      "href 속성 : /store/books/category_list.html?cate_cd=006001 \t, 글자 : 취미/실용, \n",
      "href 속성 : /store/books/category_list.html?cate_cd=006002 \t, 글자 : 여행, \n",
      "href 속성 : /store/books/category_list.html?cate_cd=006003 \t, 글자 : 건강, \n",
      "href 속성 : /store/books/category_list.html?cate_cd=006004 \t, 글자 : 유아/육아, \n",
      "href 속성 : /store/books/category_list.html?cate_cd=007 \t, 글자 : 경제/경영/인문, \n",
      "href 속성 : /store/books/category_list.html?cate_cd=007001 \t, 글자 : 경제/경영, \n",
      "href 속성 : /store/books/category_list.html?cate_cd=007002 \t, 글자 : 자기계발, \n",
      "href 속성 : /store/books/category_list.html?cate_cd=007003 \t, 글자 : 인문/교양, \n",
      "href 속성 : /store/books/category_list.html?cate_cd=007004 \t, 글자 : 마케팅, \n",
      "href 속성 : /store/books/category_list.html?cate_cd=007005 \t, 글자 : 에세이, \n",
      "href 속성 : /store/books/category_list.html?cate_cd=008 \t, 글자 : 유아/어린이/초등, \n",
      "href 속성 : /store/books/category_list.html?cate_cd=008001 \t, 글자 : 4~6세, \n",
      "href 속성 : /store/books/category_list.html?cate_cd=008002 \t, 글자 : 5~7세, \n",
      "href 속성 : /store/books/category_list.html?cate_cd=008003 \t, 글자 : 예비초등, \n",
      "href 속성 : /store/books/category_list.html?cate_cd=008004 \t, 글자 : 초등교과연계 1~12영역, \n",
      "href 속성 : /store/books/category_list.html?cate_cd=008005 \t, 글자 : 초등 전학년, \n",
      "href 속성 : http://www.hanbit.co.kr/store/books/series_list.html \t, 글자 : 시리즈, \n",
      "href 속성 : http://www.hanbit.co.kr/store/books/reservations_list.html \t, 글자 : 예약도서, \n"
     ]
    }
   ],
   "source": [
    "from bs4 import BeautifulSoup\n",
    "import pandas as pd\n",
    "\n",
    "# HTML 파일을 읽어 들이고 BeautifulSoup 객체를 생성합니다.\n",
    "with open('data/full_book_list.html', encoding='utf-8') as f:\n",
    "    soup = BeautifulSoup(f, 'html.parser')\n",
    "\n",
    "category_tag = soup.find('ul', 'lnb_depth1_category')\n",
    "\n",
    "# find_all() 메서드로 a 요소를 추출하고 반복을 돌립니다.\n",
    "for a_tag in category_tag.find_all('a'):\n",
    "    if len(a_tag['href']) > 1:\n",
    "        print(\"href 속성 : {} \\t, 글자 : {}, \".format(a_tag['href'], a_tag.text))"
   ]
  },
  {
   "cell_type": "markdown",
   "metadata": {},
   "source": [
    "### c3-03_scrape_by_feedparser \n",
    "- feedparser 로 RSS 스크래이핑\n",
    "- 모듈설치 : pip install feedparser"
   ]
  },
  {
   "cell_type": "code",
   "execution_count": 7,
   "metadata": {},
   "outputs": [
    {
     "name": "stdout",
     "output_type": "stream",
     "text": [
      "Collecting feedparser\n",
      "  Downloading https://files.pythonhosted.org/packages/91/d8/7d37fec71ff7c9dbcdd80d2b48bcdd86d6af502156fc93846fb0102cb2c4/feedparser-5.2.1.tar.bz2 (192kB)\n",
      "Building wheels for collected packages: feedparser\n",
      "  Running setup.py bdist_wheel for feedparser: started\n",
      "  Running setup.py bdist_wheel for feedparser: finished with status 'done'\n",
      "  Stored in directory: C:\\Users\\Ente_LJS\\AppData\\Local\\pip\\Cache\\wheels\\8c\\69\\b7\\f52763c41c5471df57703a0ef718a32a5e81ee35dcf6d4f97f\n",
      "Successfully built feedparser\n",
      "Installing collected packages: feedparser\n",
      "Successfully installed feedparser-5.2.1\n"
     ]
    }
   ],
   "source": [
    "# ! pip install feedparser"
   ]
  },
  {
   "cell_type": "code",
   "execution_count": 8,
   "metadata": {},
   "outputs": [],
   "source": [
    "import feedparser\n",
    "import pandas as pd\n",
    "\n",
    "Title = []\n",
    "Link  = [] \n",
    "\n",
    "# 알라딘 도서 RSS를 읽어 들입니다.\n",
    "d = feedparser.parse('http://www.aladin.co.kr/rss/special_new/351')\n",
    "\n",
    "# 항목을 순회합니다.\n",
    "for entry in d.entries:\n",
    "    Title.append(entry.title)\n",
    "    Link.append(entry.link)\n",
    "    \n",
    "    # print('제목:', entry.title)\n",
    "    # print('링크:', entry.link)\n",
    "    # print()\n",
    "    \n",
    "rss_df = pd.DataFrame({'제목': Title, '링크':Link}, columns=['제목', '링크'])"
   ]
  },
  {
   "cell_type": "code",
   "execution_count": 9,
   "metadata": {},
   "outputs": [
    {
     "data": {
      "text/html": [
       "<div>\n",
       "<style scoped>\n",
       "    .dataframe tbody tr th:only-of-type {\n",
       "        vertical-align: middle;\n",
       "    }\n",
       "\n",
       "    .dataframe tbody tr th {\n",
       "        vertical-align: top;\n",
       "    }\n",
       "\n",
       "    .dataframe thead th {\n",
       "        text-align: right;\n",
       "    }\n",
       "</style>\n",
       "<table border=\"1\" class=\"dataframe\">\n",
       "  <thead>\n",
       "    <tr style=\"text-align: right;\">\n",
       "      <th></th>\n",
       "      <th>제목</th>\n",
       "      <th>링크</th>\n",
       "    </tr>\n",
       "  </thead>\n",
       "  <tbody>\n",
       "    <tr>\n",
       "      <th>0</th>\n",
       "      <td>마인크래프트와 함께 즐겁게 파이썬/최일선 지음/비제이퍼블릭</td>\n",
       "      <td>http://www.aladin.co.kr/rsscenter/go.aspx?rssT...</td>\n",
       "    </tr>\n",
       "    <tr>\n",
       "      <th>1</th>\n",
       "      <td>2019 이기적 미니족보 컴퓨터활용능력 2급 필기/영진정보연구소 지음/영진.com(...</td>\n",
       "      <td>http://www.aladin.co.kr/rsscenter/go.aspx?rssT...</td>\n",
       "    </tr>\n",
       "    <tr>\n",
       "      <th>2</th>\n",
       "      <td>빅데이터 활용사전 419/윤종식 지음/데이터에듀</td>\n",
       "      <td>http://www.aladin.co.kr/rsscenter/go.aspx?rssT...</td>\n",
       "    </tr>\n",
       "    <tr>\n",
       "      <th>3</th>\n",
       "      <td>보안관제와 윈도우 포렌식 실무/오재헌 지음/홍릉과학출판사</td>\n",
       "      <td>http://www.aladin.co.kr/rsscenter/go.aspx?rssT...</td>\n",
       "    </tr>\n",
       "    <tr>\n",
       "      <th>4</th>\n",
       "      <td>정보 보안 개론과 실습 - 시스템 해킹과 보안/양대일 지음/한빛아카데미(교재)</td>\n",
       "      <td>http://www.aladin.co.kr/rsscenter/go.aspx?rssT...</td>\n",
       "    </tr>\n",
       "    <tr>\n",
       "      <th>5</th>\n",
       "      <td>2019 이기적 정보처리산업기사 필기 기본서 &amp; 무료 동영상 (전강 제공)/최희준....</td>\n",
       "      <td>http://www.aladin.co.kr/rsscenter/go.aspx?rssT...</td>\n",
       "    </tr>\n",
       "    <tr>\n",
       "      <th>6</th>\n",
       "      <td>2019 이기적 사무자동화산업기사 필기 기본서 - 전2권/신면철.영진정보연구소 지음...</td>\n",
       "      <td>http://www.aladin.co.kr/rsscenter/go.aspx?rssT...</td>\n",
       "    </tr>\n",
       "    <tr>\n",
       "      <th>7</th>\n",
       "      <td>네이버 포스트가 답이다/바이컴퍼니 지음/앤써북</td>\n",
       "      <td>http://www.aladin.co.kr/rsscenter/go.aspx?rssT...</td>\n",
       "    </tr>\n",
       "    <tr>\n",
       "      <th>8</th>\n",
       "      <td>오늘부터 나도 미니컴퓨터 메이커 + 워크북 세트 - 전2권/장성균 외 지음/바이플러...</td>\n",
       "      <td>http://www.aladin.co.kr/rsscenter/go.aspx?rssT...</td>\n",
       "    </tr>\n",
       "    <tr>\n",
       "      <th>9</th>\n",
       "      <td>리눅스의 정석/배동규 지음/다올미디어</td>\n",
       "      <td>http://www.aladin.co.kr/rsscenter/go.aspx?rssT...</td>\n",
       "    </tr>\n",
       "  </tbody>\n",
       "</table>\n",
       "</div>"
      ],
      "text/plain": [
       "                                                  제목  \\\n",
       "0                   마인크래프트와 함께 즐겁게 파이썬/최일선 지음/비제이퍼블릭   \n",
       "1  2019 이기적 미니족보 컴퓨터활용능력 2급 필기/영진정보연구소 지음/영진.com(...   \n",
       "2                         빅데이터 활용사전 419/윤종식 지음/데이터에듀   \n",
       "3                    보안관제와 윈도우 포렌식 실무/오재헌 지음/홍릉과학출판사   \n",
       "4        정보 보안 개론과 실습 - 시스템 해킹과 보안/양대일 지음/한빛아카데미(교재)   \n",
       "5  2019 이기적 정보처리산업기사 필기 기본서 & 무료 동영상 (전강 제공)/최희준....   \n",
       "6  2019 이기적 사무자동화산업기사 필기 기본서 - 전2권/신면철.영진정보연구소 지음...   \n",
       "7                          네이버 포스트가 답이다/바이컴퍼니 지음/앤써북   \n",
       "8  오늘부터 나도 미니컴퓨터 메이커 + 워크북 세트 - 전2권/장성균 외 지음/바이플러...   \n",
       "9                               리눅스의 정석/배동규 지음/다올미디어   \n",
       "\n",
       "                                                  링크  \n",
       "0  http://www.aladin.co.kr/rsscenter/go.aspx?rssT...  \n",
       "1  http://www.aladin.co.kr/rsscenter/go.aspx?rssT...  \n",
       "2  http://www.aladin.co.kr/rsscenter/go.aspx?rssT...  \n",
       "3  http://www.aladin.co.kr/rsscenter/go.aspx?rssT...  \n",
       "4  http://www.aladin.co.kr/rsscenter/go.aspx?rssT...  \n",
       "5  http://www.aladin.co.kr/rsscenter/go.aspx?rssT...  \n",
       "6  http://www.aladin.co.kr/rsscenter/go.aspx?rssT...  \n",
       "7  http://www.aladin.co.kr/rsscenter/go.aspx?rssT...  \n",
       "8  http://www.aladin.co.kr/rsscenter/go.aspx?rssT...  \n",
       "9  http://www.aladin.co.kr/rsscenter/go.aspx?rssT...  "
      ]
     },
     "execution_count": 9,
     "metadata": {},
     "output_type": "execute_result"
    }
   ],
   "source": [
    "rss_df.head(10)"
   ]
  },
  {
   "cell_type": "code",
   "execution_count": 10,
   "metadata": {},
   "outputs": [
    {
     "data": {
      "text/plain": [
       "(feedparser.FeedParserDict, 25)"
      ]
     },
     "execution_count": 10,
     "metadata": {},
     "output_type": "execute_result"
    }
   ],
   "source": [
    "d = feedparser.parse('http://www.aladin.co.kr/rss/special_new/351')\n",
    "type(d), len(d.entries)"
   ]
  },
  {
   "cell_type": "code",
   "execution_count": 11,
   "metadata": {},
   "outputs": [
    {
     "data": {
      "text/plain": [
       "{'authors': [{'name': '알라딘', 'email': 'noSpam.rss@aladdin.co.kr'}],\n",
       " 'author': '알라딘 <noSpam.rss@aladdin.co.kr>',\n",
       " 'author_detail': {'name': '알라딘', 'email': 'noSpam.rss@aladdin.co.kr'},\n",
       " 'tags': [{'term': '국내도서>컴퓨터/모바일>프로그래밍 언어>파이썬',\n",
       "   'scheme': None,\n",
       "   'label': None}],\n",
       " 'title': '마인크래프트와 함께 즐겁게 파이썬/최일선 지음/비제이퍼블릭',\n",
       " 'title_detail': {'type': 'text/plain',\n",
       "  'language': None,\n",
       "  'base': 'http://www.aladin.co.kr/rss/special_new/351',\n",
       "  'value': '마인크래프트와 함께 즐겁게 파이썬/최일선 지음/비제이퍼블릭'},\n",
       " 'links': [{'rel': 'alternate',\n",
       "   'type': 'text/html',\n",
       "   'href': 'http://www.aladin.co.kr/rsscenter/go.aspx?rssType=1&type=item&itemId=173766231'}],\n",
       " 'link': 'http://www.aladin.co.kr/rsscenter/go.aspx?rssType=1&type=item&itemId=173766231',\n",
       " 'published': 'Mon, 12 Nov 2018 17:35:00 +0900',\n",
       " 'published_parsed': time.struct_time(tm_year=2018, tm_mon=11, tm_mday=12, tm_hour=8, tm_min=35, tm_sec=0, tm_wday=0, tm_yday=316, tm_isdst=0),\n",
       " 'id': 'http://www.aladin.co.kr/shop/wproduct.aspx?itemID=173766231',\n",
       " 'guidislink': False,\n",
       " 'summary': '<br/><table border=\\'0\\' cellpadding=\\'0\\' cellspacing=\\'0\\'><tr><td align=\\'left\\' valign=\\'top\\'><table cellspacing=\\'1\\' cellpadding=\\'5\\' border=\\'0\\' bgcolor=\\'#dddddd\\' style=\\'margin-right:10px;\\'><tbody><tr><td bgcolor=\\'#ffffff\\'><a href=\\'http://www.aladin.co.kr/rsscenter/go.aspx?rssType=1&type=item&itemId=173766231\\'><img src=\\'https://image.aladin.co.kr/product/17376/62/cover/k492534698_1.jpg\\' border=\\'0\\' /></a></td></tr></tbody></table><h2><a href=\\'http://www.aladin.co.kr/rsscenter/go.aspx?rssType=1&type=item&itemId=173766231\\'>마인크래프트와 함께 즐겁게 파이썬</a></h2>최일선 지음 / 비제이퍼블릭 / 2018년 11월 / ISBN:<span class=\\'isbn13\\'>9791186697733</span><br/>정가: <span style=\\'color:#FF0202\\'>26,000</span>원 / 판매가: <span style=\\'color:#FF0202\\'>23,400</span>원 / 마일리지: <span style=\\'color:#FF0202\\'>94</span>원<br/><span style=\\'color:#FF0202\\'>이벤트</span>: 수험서.외국어.컴퓨터.전문서적 - 슬림 텀블러/핀버튼 에코백(택1)<br/><table border=\\'0\\' cellpadding=\\'3\\' cellspacing=\\'0\\' height=\\'20\\'><tr><td width=\\'113\\' align=\\'left\\'><a href=\\'http://www.aladin.co.kr/rsscenter/go.aspx?type=basket&itemId=173766231&rssType=1\\' target=\\'_blank\\'><img src=\\'http://www.aladin.co.kr/img/rss/bu_basket.gif\\' border=\\'0\\' alt=\\'장바구니담기\\'/></a></td><td width=\\'101\\' align=\\'left\\'><a href=\\'http://www.aladin.co.kr/rsscenter/go.aspx?type=safebasket&itemId=173766231&rssType=1\\' target=\\'_blank\\'><img src=\\'http://www.aladin.co.kr/img/rss/bu_safebasket.gif\\' border=\\'0\\' alt=\\'보관함담기\\'/></a></td><td width=\\'83\\' align=\\'left\\'></td><td width=\\'113\\' align=\\'left\\'></td></tr></table></td></tr><tr><td valign=\\'top\\' align=\\'left\\'><img src=\"http://www.aladin.co.kr/img/book/intro_t.gif\" border=\"0\" /><br/>게임을 하면서 코딩도 배우는 일석이조의 경험을 제공한다. 실제 업무에서 사용하는 파이썬을 초등학생 때부터 공부할 수 있다. 파이썬은 전 세계적으로 가장 많이 쓰이는 프로그래밍 언어 중 하나이면서 초등학생도 익힐 수 있는 쉬운 문법을 지니고 있다.<br/><br/><img src=\"http://www.aladin.co.kr/img/book/content_t.gif\" border=\"0\" /><br/><p>1장 마인크래프트 만나기<BR>\\n<BR>\\n1-1 마인크래프트와 파이썬의 만남<BR>\\n<BR>\\n1-2 마인크래프트 설치하기<BR>\\n<BR>\\n1-3 마인크래프트 1.12.1 서버 설치하기<BR>\\n<BR>\\n1-4 서버설정<BR>\\n<BR>\\n1-5 파이썬과 MCPI 설치하기<BR>\\n<BR>\\n1-6 헬로, 마인크래프트!<BR>\\n<BR>\\n1-7 멀티플레이로 MCPI 즐기기<BR>\\n<BR>\\n1-8 게임 접속하기<BR>\\n<BR>\\n1-9 게임 인터페이스<BR>\\n<BR>\\n1-10 게임 단축키<BR>\\n<BR>\\n1-11 아이템 조합 튜토리얼<BR>\\n<BR>\\n1-12 첫날밤 생존 계획<BR>\\n<BR>\\n1-13 꼭 알아야 하는 마인크래프트 명령어<BR>\\n<BR>\\n <BR>\\n<BR>\\n2장 파이썬 시작하기<BR>\\n<BR>\\n           2-1 헬로, 파이썬!<BR>\\n<BR>\\n           2-2 파이썬, 덧셈과 뺄셈을 부탁해!<BR>\\n<BR>\\n           2-3 간단한 계산기 프로그램 만들기<BR>\\n<BR>\\n <BR>\\n<BR>\\n3장 마인크래프트 파이썬 입문<BR>\\n<BR>\\n           3-1 postToChat:파이썬으로 마인크래프트에 외치다!<BR>\\n<BR>\\n           3-2 getPos:플레이어 위치 조회 서비스<BR>\\n<BR>\\n           3-3 setPos:플레이어 위치 변경 서비스<BR>\\n<BR>\\n           3-4 setBlock:블록 생성하기<BR>\\n<BR>\\n           3-5 setBlocks:블록 여러 개 생성하기<BR>\\n<BR>\\n           3-6 getBlock:블록 데이터 얻기<BR>\\n<BR>\\n3-7 getBlockWithData:블록 데이터 얻기<BR>\\n<BR>\\n3-8 정리<BR>\\n<BR>\\n <BR>\\n<BR>\\n4장 초급 텔레포트<BR>\\n<BR>\\n           4-1 더하기 함수 만들기<BR>\\n<BR>\\n           4-2 위치 보정 함수 만들기<BR>\\n<BR>\\n           4-3 집으로 텔레포트 함수 만들기<BR>\\n<BR>\\n           4-4 단거리 이동 텔레포트<BR>\\n<BR>\\n           4-5 타이밍 텔레포트<BR>\\n<BR>\\n           4-6 마인크래프트 건축물 일일투어!<BR>\\n<BR>\\n <BR>\\n<BR>\\n5장 고급 텔레포트<BR>\\n<BR>\\n           5-1 반복 작업 자동화를 위한 list<BR>\\n<BR>\\n           5-2 반복 작업 자동화를 위한 for문<BR>\\n<BR>\\n           5-3 자동 텔레포트<BR>\\n<BR>\\n           5-4 If를 활용한 제어:만약에<BR>\\n<BR>\\n           5-5 while문을 사용한 반복 작업 수행하기<BR>\\n<BR>\\n           5-6 집으로 가는 워프 만들기<BR>\\n<BR>\\n           5-7 감옥 만들기<BR>\\n<BR>\\n5-8 지하 탈출 텔레포트<BR>\\n<BR>\\n5-9 자석 텔레포트:다른 모든 플레이어 소환하기<BR>\\n<BR>\\n <...<br/><br/><img src=\"http://www.aladin.co.kr/img/book/subject_t.gif\" border=\"0\" /><br/><a href=\\'http://www.aladin.co.kr/home/wbookmain.aspx\\' class=\\'ml\\'>국내도서</a>&nbsp;>&nbsp;<a href=\\'http://www.aladin.co.kr/shop/wbrowse.aspx?CID=351\\' class=\\'ml\\'>컴퓨터/모바일</a>&nbsp;>&nbsp;<a href=\\'http://www.aladin.co.kr/shop/wbrowse.aspx?CID=2613\\' class=\\'ml\\'>PC/게임/디지털 카메라</a>&nbsp;>&nbsp;<a href=\\'http://www.aladin.co.kr/shop/wbrowse.aspx?CID=6346&BrowseTarget=List\\' class=\\'ml\\'><b>게임</b></a><br/><a href=\\'http://www.aladin.co.kr/home/wbookmain.aspx\\' class=\\'ml\\'>국내도서</a>&nbsp;>&nbsp;<a href=\\'http://www.aladin.co.kr/shop/wbrowse.aspx?CID=351\\' class=\\'ml\\'>컴퓨터/모바일</a>&nbsp;>&nbsp;<a href=\\'http://www.aladin.co.kr/shop/wbrowse.aspx?CID=437\\' class=\\'ml\\'>프로그래밍 언어</a>&nbsp;>&nbsp;<a href=\\'http://www.aladin.co.kr/shop/wbrowse.aspx?CID=6734&BrowseTarget=List\\' class=\\'ml\\'><b>파이썬</b></a><br/><br/></td></tr></table>',\n",
       " 'summary_detail': {'type': 'text/html',\n",
       "  'language': None,\n",
       "  'base': 'http://www.aladin.co.kr/rss/special_new/351',\n",
       "  'value': '<br/><table border=\\'0\\' cellpadding=\\'0\\' cellspacing=\\'0\\'><tr><td align=\\'left\\' valign=\\'top\\'><table cellspacing=\\'1\\' cellpadding=\\'5\\' border=\\'0\\' bgcolor=\\'#dddddd\\' style=\\'margin-right:10px;\\'><tbody><tr><td bgcolor=\\'#ffffff\\'><a href=\\'http://www.aladin.co.kr/rsscenter/go.aspx?rssType=1&type=item&itemId=173766231\\'><img src=\\'https://image.aladin.co.kr/product/17376/62/cover/k492534698_1.jpg\\' border=\\'0\\' /></a></td></tr></tbody></table><h2><a href=\\'http://www.aladin.co.kr/rsscenter/go.aspx?rssType=1&type=item&itemId=173766231\\'>마인크래프트와 함께 즐겁게 파이썬</a></h2>최일선 지음 / 비제이퍼블릭 / 2018년 11월 / ISBN:<span class=\\'isbn13\\'>9791186697733</span><br/>정가: <span style=\\'color:#FF0202\\'>26,000</span>원 / 판매가: <span style=\\'color:#FF0202\\'>23,400</span>원 / 마일리지: <span style=\\'color:#FF0202\\'>94</span>원<br/><span style=\\'color:#FF0202\\'>이벤트</span>: 수험서.외국어.컴퓨터.전문서적 - 슬림 텀블러/핀버튼 에코백(택1)<br/><table border=\\'0\\' cellpadding=\\'3\\' cellspacing=\\'0\\' height=\\'20\\'><tr><td width=\\'113\\' align=\\'left\\'><a href=\\'http://www.aladin.co.kr/rsscenter/go.aspx?type=basket&itemId=173766231&rssType=1\\' target=\\'_blank\\'><img src=\\'http://www.aladin.co.kr/img/rss/bu_basket.gif\\' border=\\'0\\' alt=\\'장바구니담기\\'/></a></td><td width=\\'101\\' align=\\'left\\'><a href=\\'http://www.aladin.co.kr/rsscenter/go.aspx?type=safebasket&itemId=173766231&rssType=1\\' target=\\'_blank\\'><img src=\\'http://www.aladin.co.kr/img/rss/bu_safebasket.gif\\' border=\\'0\\' alt=\\'보관함담기\\'/></a></td><td width=\\'83\\' align=\\'left\\'></td><td width=\\'113\\' align=\\'left\\'></td></tr></table></td></tr><tr><td valign=\\'top\\' align=\\'left\\'><img src=\"http://www.aladin.co.kr/img/book/intro_t.gif\" border=\"0\" /><br/>게임을 하면서 코딩도 배우는 일석이조의 경험을 제공한다. 실제 업무에서 사용하는 파이썬을 초등학생 때부터 공부할 수 있다. 파이썬은 전 세계적으로 가장 많이 쓰이는 프로그래밍 언어 중 하나이면서 초등학생도 익힐 수 있는 쉬운 문법을 지니고 있다.<br/><br/><img src=\"http://www.aladin.co.kr/img/book/content_t.gif\" border=\"0\" /><br/><p>1장 마인크래프트 만나기<BR>\\n<BR>\\n1-1 마인크래프트와 파이썬의 만남<BR>\\n<BR>\\n1-2 마인크래프트 설치하기<BR>\\n<BR>\\n1-3 마인크래프트 1.12.1 서버 설치하기<BR>\\n<BR>\\n1-4 서버설정<BR>\\n<BR>\\n1-5 파이썬과 MCPI 설치하기<BR>\\n<BR>\\n1-6 헬로, 마인크래프트!<BR>\\n<BR>\\n1-7 멀티플레이로 MCPI 즐기기<BR>\\n<BR>\\n1-8 게임 접속하기<BR>\\n<BR>\\n1-9 게임 인터페이스<BR>\\n<BR>\\n1-10 게임 단축키<BR>\\n<BR>\\n1-11 아이템 조합 튜토리얼<BR>\\n<BR>\\n1-12 첫날밤 생존 계획<BR>\\n<BR>\\n1-13 꼭 알아야 하는 마인크래프트 명령어<BR>\\n<BR>\\n <BR>\\n<BR>\\n2장 파이썬 시작하기<BR>\\n<BR>\\n           2-1 헬로, 파이썬!<BR>\\n<BR>\\n           2-2 파이썬, 덧셈과 뺄셈을 부탁해!<BR>\\n<BR>\\n           2-3 간단한 계산기 프로그램 만들기<BR>\\n<BR>\\n <BR>\\n<BR>\\n3장 마인크래프트 파이썬 입문<BR>\\n<BR>\\n           3-1 postToChat:파이썬으로 마인크래프트에 외치다!<BR>\\n<BR>\\n           3-2 getPos:플레이어 위치 조회 서비스<BR>\\n<BR>\\n           3-3 setPos:플레이어 위치 변경 서비스<BR>\\n<BR>\\n           3-4 setBlock:블록 생성하기<BR>\\n<BR>\\n           3-5 setBlocks:블록 여러 개 생성하기<BR>\\n<BR>\\n           3-6 getBlock:블록 데이터 얻기<BR>\\n<BR>\\n3-7 getBlockWithData:블록 데이터 얻기<BR>\\n<BR>\\n3-8 정리<BR>\\n<BR>\\n <BR>\\n<BR>\\n4장 초급 텔레포트<BR>\\n<BR>\\n           4-1 더하기 함수 만들기<BR>\\n<BR>\\n           4-2 위치 보정 함수 만들기<BR>\\n<BR>\\n           4-3 집으로 텔레포트 함수 만들기<BR>\\n<BR>\\n           4-4 단거리 이동 텔레포트<BR>\\n<BR>\\n           4-5 타이밍 텔레포트<BR>\\n<BR>\\n           4-6 마인크래프트 건축물 일일투어!<BR>\\n<BR>\\n <BR>\\n<BR>\\n5장 고급 텔레포트<BR>\\n<BR>\\n           5-1 반복 작업 자동화를 위한 list<BR>\\n<BR>\\n           5-2 반복 작업 자동화를 위한 for문<BR>\\n<BR>\\n           5-3 자동 텔레포트<BR>\\n<BR>\\n           5-4 If를 활용한 제어:만약에<BR>\\n<BR>\\n           5-5 while문을 사용한 반복 작업 수행하기<BR>\\n<BR>\\n           5-6 집으로 가는 워프 만들기<BR>\\n<BR>\\n           5-7 감옥 만들기<BR>\\n<BR>\\n5-8 지하 탈출 텔레포트<BR>\\n<BR>\\n5-9 자석 텔레포트:다른 모든 플레이어 소환하기<BR>\\n<BR>\\n <...<br/><br/><img src=\"http://www.aladin.co.kr/img/book/subject_t.gif\" border=\"0\" /><br/><a href=\\'http://www.aladin.co.kr/home/wbookmain.aspx\\' class=\\'ml\\'>국내도서</a>&nbsp;>&nbsp;<a href=\\'http://www.aladin.co.kr/shop/wbrowse.aspx?CID=351\\' class=\\'ml\\'>컴퓨터/모바일</a>&nbsp;>&nbsp;<a href=\\'http://www.aladin.co.kr/shop/wbrowse.aspx?CID=2613\\' class=\\'ml\\'>PC/게임/디지털 카메라</a>&nbsp;>&nbsp;<a href=\\'http://www.aladin.co.kr/shop/wbrowse.aspx?CID=6346&BrowseTarget=List\\' class=\\'ml\\'><b>게임</b></a><br/><a href=\\'http://www.aladin.co.kr/home/wbookmain.aspx\\' class=\\'ml\\'>국내도서</a>&nbsp;>&nbsp;<a href=\\'http://www.aladin.co.kr/shop/wbrowse.aspx?CID=351\\' class=\\'ml\\'>컴퓨터/모바일</a>&nbsp;>&nbsp;<a href=\\'http://www.aladin.co.kr/shop/wbrowse.aspx?CID=437\\' class=\\'ml\\'>프로그래밍 언어</a>&nbsp;>&nbsp;<a href=\\'http://www.aladin.co.kr/shop/wbrowse.aspx?CID=6734&BrowseTarget=List\\' class=\\'ml\\'><b>파이썬</b></a><br/><br/></td></tr></table>'}}"
      ]
     },
     "execution_count": 11,
     "metadata": {},
     "output_type": "execute_result"
    }
   ],
   "source": [
    "entry = d.entries[0]\n",
    "entry"
   ]
  },
  {
   "cell_type": "code",
   "execution_count": 12,
   "metadata": {},
   "outputs": [
    {
     "data": {
      "text/plain": [
       "dict_keys(['authors', 'author', 'author_detail', 'tags', 'title', 'title_detail', 'links', 'link', 'published', 'published_parsed', 'id', 'guidislink', 'summary', 'summary_detail'])"
      ]
     },
     "execution_count": 12,
     "metadata": {},
     "output_type": "execute_result"
    }
   ],
   "source": [
    "entry.keys()"
   ]
  },
  {
   "cell_type": "code",
   "execution_count": 13,
   "metadata": {},
   "outputs": [
    {
     "data": {
      "text/plain": [
       "'마인크래프트와 함께 즐겁게 파이썬/최일선 지음/비제이퍼블릭'"
      ]
     },
     "execution_count": 13,
     "metadata": {},
     "output_type": "execute_result"
    }
   ],
   "source": [
    "entry.title"
   ]
  },
  {
   "cell_type": "code",
   "execution_count": 14,
   "metadata": {},
   "outputs": [
    {
     "data": {
      "text/plain": [
       "'http://www.aladin.co.kr/rsscenter/go.aspx?rssType=1&type=item&itemId=173766231'"
      ]
     },
     "execution_count": 14,
     "metadata": {},
     "output_type": "execute_result"
    }
   ],
   "source": [
    "entry.link"
   ]
  },
  {
   "cell_type": "code",
   "execution_count": 15,
   "metadata": {},
   "outputs": [
    {
     "data": {
      "text/plain": [
       "[{'term': '국내도서>컴퓨터/모바일>프로그래밍 언어>파이썬', 'scheme': None, 'label': None}]"
      ]
     },
     "execution_count": 15,
     "metadata": {},
     "output_type": "execute_result"
    }
   ],
   "source": [
    "entry.tags"
   ]
  },
  {
   "cell_type": "code",
   "execution_count": 16,
   "metadata": {},
   "outputs": [
    {
     "data": {
      "text/plain": [
       "'국내도서>컴퓨터/모바일>프로그래밍 언어>파이썬'"
      ]
     },
     "execution_count": 16,
     "metadata": {},
     "output_type": "execute_result"
    }
   ],
   "source": [
    "entry.tags[0]['term']"
   ]
  },
  {
   "cell_type": "markdown",
   "metadata": {},
   "source": [
    "### c3-04_save_mysql \n",
    "- MySQL에 저장\n",
    "- SQLite와 달리 클리이언트/서버형 아키텍처 채용\n",
    "- 즉, connection 객체 생성할 때, 사용자계정정보(ID/PW) 정보가 필요하다"
   ]
  },
  {
   "cell_type": "code",
   "execution_count": 17,
   "metadata": {},
   "outputs": [
    {
     "name": "stdout",
     "output_type": "stream",
     "text": [
      "Collecting pymongo\n",
      "  Downloading https://files.pythonhosted.org/packages/d8/25/44b0fc81668a883739b108d9bd0c95b24f0b0204cb2dc93e0f259e173670/pymongo-3.7.2-cp36-cp36m-win_amd64.whl (315kB)\n",
      "Installing collected packages: pymongo\n",
      "Successfully installed pymongo-3.7.2\n"
     ]
    }
   ],
   "source": [
    "# ! pip install pymongo"
   ]
  },
  {
   "cell_type": "markdown",
   "metadata": {},
   "source": [
    "# 파이썬 크롤러 \n",
    "- 목록 페이지에서 URL 목록 추출\n",
    "- 상세페이지 스크레이핑\n",
    "- 상세페이지 크롤링\n",
    "- 스크레이핑 데이터 저장\n",
    "- 최종 크롤러 생성"
   ]
  },
  {
   "cell_type": "code",
   "execution_count": 20,
   "metadata": {},
   "outputs": [
    {
     "ename": "ServerSelectionTimeoutError",
     "evalue": "localhost:27017: [WinError 10061] 대상 컴퓨터에서 연결을 거부했으므로 연결하지 못했습니다",
     "output_type": "error",
     "traceback": [
      "\u001b[1;31m---------------------------------------------------------------------------\u001b[0m",
      "\u001b[1;31mServerSelectionTimeoutError\u001b[0m               Traceback (most recent call last)",
      "\u001b[1;32m<ipython-input-20-d011a9eea4a6>\u001b[0m in \u001b[0;36m<module>\u001b[1;34m()\u001b[0m\n\u001b[0;32m     13\u001b[0m \u001b[1;33m\u001b[0m\u001b[0m\n\u001b[0;32m     14\u001b[0m \u001b[1;31m# 스크립트를 여러 번 사용해도 같은 결과를 출력할 수 있게 콜렉션의 문서를 제거합니다.\u001b[0m\u001b[1;33m\u001b[0m\u001b[1;33m\u001b[0m\u001b[0m\n\u001b[1;32m---> 15\u001b[1;33m \u001b[0mcollection\u001b[0m\u001b[1;33m.\u001b[0m\u001b[0mdelete_many\u001b[0m\u001b[1;33m(\u001b[0m\u001b[1;33m{\u001b[0m\u001b[1;33m}\u001b[0m\u001b[1;33m)\u001b[0m\u001b[1;33m\u001b[0m\u001b[0m\n\u001b[0m\u001b[0;32m     16\u001b[0m \u001b[1;33m\u001b[0m\u001b[0m\n\u001b[0;32m     17\u001b[0m \u001b[1;31m# cssselect() 메서드로 a 요소의 목록을 추출합니다.\u001b[0m\u001b[1;33m\u001b[0m\u001b[1;33m\u001b[0m\u001b[0m\n",
      "\u001b[1;32mC:\\Python\\Anaconda3-52\\lib\\site-packages\\pymongo\\collection.py\u001b[0m in \u001b[0;36mdelete_many\u001b[1;34m(self, filter, collation, session)\u001b[0m\n\u001b[0;32m   1227\u001b[0m                 \u001b[0mfilter\u001b[0m\u001b[1;33m,\u001b[0m \u001b[1;32mTrue\u001b[0m\u001b[1;33m,\u001b[0m\u001b[1;33m\u001b[0m\u001b[0m\n\u001b[0;32m   1228\u001b[0m                 \u001b[0mwrite_concern\u001b[0m\u001b[1;33m=\u001b[0m\u001b[0mwrite_concern\u001b[0m\u001b[1;33m,\u001b[0m\u001b[1;33m\u001b[0m\u001b[0m\n\u001b[1;32m-> 1229\u001b[1;33m                 collation=collation, session=session),\n\u001b[0m\u001b[0;32m   1230\u001b[0m             write_concern.acknowledged)\n\u001b[0;32m   1231\u001b[0m \u001b[1;33m\u001b[0m\u001b[0m\n",
      "\u001b[1;32mC:\\Python\\Anaconda3-52\\lib\\site-packages\\pymongo\\collection.py\u001b[0m in \u001b[0;36m_delete_retryable\u001b[1;34m(self, criteria, multi, write_concern, op_id, ordered, collation, session)\u001b[0m\n\u001b[0;32m   1152\u001b[0m         return self.__database.client._retryable_write(\n\u001b[0;32m   1153\u001b[0m             \u001b[1;33m(\u001b[0m\u001b[0mwrite_concern\u001b[0m \u001b[1;32mor\u001b[0m \u001b[0mself\u001b[0m\u001b[1;33m.\u001b[0m\u001b[0mwrite_concern\u001b[0m\u001b[1;33m)\u001b[0m\u001b[1;33m.\u001b[0m\u001b[0macknowledged\u001b[0m \u001b[1;32mand\u001b[0m \u001b[1;32mnot\u001b[0m \u001b[0mmulti\u001b[0m\u001b[1;33m,\u001b[0m\u001b[1;33m\u001b[0m\u001b[0m\n\u001b[1;32m-> 1154\u001b[1;33m             _delete, session)\n\u001b[0m\u001b[0;32m   1155\u001b[0m \u001b[1;33m\u001b[0m\u001b[0m\n\u001b[0;32m   1156\u001b[0m     \u001b[1;32mdef\u001b[0m \u001b[0mdelete_one\u001b[0m\u001b[1;33m(\u001b[0m\u001b[0mself\u001b[0m\u001b[1;33m,\u001b[0m \u001b[0mfilter\u001b[0m\u001b[1;33m,\u001b[0m \u001b[0mcollation\u001b[0m\u001b[1;33m=\u001b[0m\u001b[1;32mNone\u001b[0m\u001b[1;33m,\u001b[0m \u001b[0msession\u001b[0m\u001b[1;33m=\u001b[0m\u001b[1;32mNone\u001b[0m\u001b[1;33m)\u001b[0m\u001b[1;33m:\u001b[0m\u001b[1;33m\u001b[0m\u001b[0m\n",
      "\u001b[1;32mC:\\Python\\Anaconda3-52\\lib\\site-packages\\pymongo\\mongo_client.py\u001b[0m in \u001b[0;36m_retryable_write\u001b[1;34m(self, retryable, func, session)\u001b[0m\n\u001b[0;32m   1245\u001b[0m     \u001b[1;32mdef\u001b[0m \u001b[0m_retryable_write\u001b[0m\u001b[1;33m(\u001b[0m\u001b[0mself\u001b[0m\u001b[1;33m,\u001b[0m \u001b[0mretryable\u001b[0m\u001b[1;33m,\u001b[0m \u001b[0mfunc\u001b[0m\u001b[1;33m,\u001b[0m \u001b[0msession\u001b[0m\u001b[1;33m)\u001b[0m\u001b[1;33m:\u001b[0m\u001b[1;33m\u001b[0m\u001b[0m\n\u001b[0;32m   1246\u001b[0m         \u001b[1;34m\"\"\"Internal retryable write helper.\"\"\"\u001b[0m\u001b[1;33m\u001b[0m\u001b[0m\n\u001b[1;32m-> 1247\u001b[1;33m         \u001b[1;32mwith\u001b[0m \u001b[0mself\u001b[0m\u001b[1;33m.\u001b[0m\u001b[0m_tmp_session\u001b[0m\u001b[1;33m(\u001b[0m\u001b[0msession\u001b[0m\u001b[1;33m)\u001b[0m \u001b[1;32mas\u001b[0m \u001b[0ms\u001b[0m\u001b[1;33m:\u001b[0m\u001b[1;33m\u001b[0m\u001b[0m\n\u001b[0m\u001b[0;32m   1248\u001b[0m             \u001b[1;32mreturn\u001b[0m \u001b[0mself\u001b[0m\u001b[1;33m.\u001b[0m\u001b[0m_retry_with_session\u001b[0m\u001b[1;33m(\u001b[0m\u001b[0mretryable\u001b[0m\u001b[1;33m,\u001b[0m \u001b[0mfunc\u001b[0m\u001b[1;33m,\u001b[0m \u001b[0ms\u001b[0m\u001b[1;33m,\u001b[0m \u001b[1;32mNone\u001b[0m\u001b[1;33m)\u001b[0m\u001b[1;33m\u001b[0m\u001b[0m\n\u001b[0;32m   1249\u001b[0m \u001b[1;33m\u001b[0m\u001b[0m\n",
      "\u001b[1;32mC:\\Python\\Anaconda3-52\\lib\\contextlib.py\u001b[0m in \u001b[0;36m__enter__\u001b[1;34m(self)\u001b[0m\n\u001b[0;32m     79\u001b[0m     \u001b[1;32mdef\u001b[0m \u001b[0m__enter__\u001b[0m\u001b[1;33m(\u001b[0m\u001b[0mself\u001b[0m\u001b[1;33m)\u001b[0m\u001b[1;33m:\u001b[0m\u001b[1;33m\u001b[0m\u001b[0m\n\u001b[0;32m     80\u001b[0m         \u001b[1;32mtry\u001b[0m\u001b[1;33m:\u001b[0m\u001b[1;33m\u001b[0m\u001b[0m\n\u001b[1;32m---> 81\u001b[1;33m             \u001b[1;32mreturn\u001b[0m \u001b[0mnext\u001b[0m\u001b[1;33m(\u001b[0m\u001b[0mself\u001b[0m\u001b[1;33m.\u001b[0m\u001b[0mgen\u001b[0m\u001b[1;33m)\u001b[0m\u001b[1;33m\u001b[0m\u001b[0m\n\u001b[0m\u001b[0;32m     82\u001b[0m         \u001b[1;32mexcept\u001b[0m \u001b[0mStopIteration\u001b[0m\u001b[1;33m:\u001b[0m\u001b[1;33m\u001b[0m\u001b[0m\n\u001b[0;32m     83\u001b[0m             \u001b[1;32mraise\u001b[0m \u001b[0mRuntimeError\u001b[0m\u001b[1;33m(\u001b[0m\u001b[1;34m\"generator didn't yield\"\u001b[0m\u001b[1;33m)\u001b[0m \u001b[1;32mfrom\u001b[0m \u001b[1;32mNone\u001b[0m\u001b[1;33m\u001b[0m\u001b[0m\n",
      "\u001b[1;32mC:\\Python\\Anaconda3-52\\lib\\site-packages\\pymongo\\mongo_client.py\u001b[0m in \u001b[0;36m_tmp_session\u001b[1;34m(self, session, close)\u001b[0m\n\u001b[0;32m   1574\u001b[0m             \u001b[1;32mreturn\u001b[0m\u001b[1;33m\u001b[0m\u001b[0m\n\u001b[0;32m   1575\u001b[0m \u001b[1;33m\u001b[0m\u001b[0m\n\u001b[1;32m-> 1576\u001b[1;33m         \u001b[0ms\u001b[0m \u001b[1;33m=\u001b[0m \u001b[0mself\u001b[0m\u001b[1;33m.\u001b[0m\u001b[0m_ensure_session\u001b[0m\u001b[1;33m(\u001b[0m\u001b[0msession\u001b[0m\u001b[1;33m)\u001b[0m\u001b[1;33m\u001b[0m\u001b[0m\n\u001b[0m\u001b[0;32m   1577\u001b[0m         \u001b[1;32mif\u001b[0m \u001b[0ms\u001b[0m \u001b[1;32mand\u001b[0m \u001b[0mclose\u001b[0m\u001b[1;33m:\u001b[0m\u001b[1;33m\u001b[0m\u001b[0m\n\u001b[0;32m   1578\u001b[0m             \u001b[1;32mwith\u001b[0m \u001b[0ms\u001b[0m\u001b[1;33m:\u001b[0m\u001b[1;33m\u001b[0m\u001b[0m\n",
      "\u001b[1;32mC:\\Python\\Anaconda3-52\\lib\\site-packages\\pymongo\\mongo_client.py\u001b[0m in \u001b[0;36m_ensure_session\u001b[1;34m(self, session)\u001b[0m\n\u001b[0;32m   1561\u001b[0m             \u001b[1;31m# Don't make implicit sessions causally consistent. Applications\u001b[0m\u001b[1;33m\u001b[0m\u001b[1;33m\u001b[0m\u001b[0m\n\u001b[0;32m   1562\u001b[0m             \u001b[1;31m# should always opt-in.\u001b[0m\u001b[1;33m\u001b[0m\u001b[1;33m\u001b[0m\u001b[0m\n\u001b[1;32m-> 1563\u001b[1;33m             \u001b[1;32mreturn\u001b[0m \u001b[0mself\u001b[0m\u001b[1;33m.\u001b[0m\u001b[0m__start_session\u001b[0m\u001b[1;33m(\u001b[0m\u001b[1;32mTrue\u001b[0m\u001b[1;33m,\u001b[0m \u001b[0mcausal_consistency\u001b[0m\u001b[1;33m=\u001b[0m\u001b[1;32mFalse\u001b[0m\u001b[1;33m)\u001b[0m\u001b[1;33m\u001b[0m\u001b[0m\n\u001b[0m\u001b[0;32m   1564\u001b[0m         \u001b[1;32mexcept\u001b[0m \u001b[1;33m(\u001b[0m\u001b[0mConfigurationError\u001b[0m\u001b[1;33m,\u001b[0m \u001b[0mInvalidOperation\u001b[0m\u001b[1;33m)\u001b[0m\u001b[1;33m:\u001b[0m\u001b[1;33m\u001b[0m\u001b[0m\n\u001b[0;32m   1565\u001b[0m             \u001b[1;31m# Sessions not supported, or multiple users authenticated.\u001b[0m\u001b[1;33m\u001b[0m\u001b[1;33m\u001b[0m\u001b[0m\n",
      "\u001b[1;32mC:\\Python\\Anaconda3-52\\lib\\site-packages\\pymongo\\mongo_client.py\u001b[0m in \u001b[0;36m__start_session\u001b[1;34m(self, implicit, **kwargs)\u001b[0m\n\u001b[0;32m   1514\u001b[0m \u001b[1;33m\u001b[0m\u001b[0m\n\u001b[0;32m   1515\u001b[0m         \u001b[1;31m# Raises ConfigurationError if sessions are not supported.\u001b[0m\u001b[1;33m\u001b[0m\u001b[1;33m\u001b[0m\u001b[0m\n\u001b[1;32m-> 1516\u001b[1;33m         \u001b[0mserver_session\u001b[0m \u001b[1;33m=\u001b[0m \u001b[0mself\u001b[0m\u001b[1;33m.\u001b[0m\u001b[0m_get_server_session\u001b[0m\u001b[1;33m(\u001b[0m\u001b[1;33m)\u001b[0m\u001b[1;33m\u001b[0m\u001b[0m\n\u001b[0m\u001b[0;32m   1517\u001b[0m         \u001b[0mopts\u001b[0m \u001b[1;33m=\u001b[0m \u001b[0mclient_session\u001b[0m\u001b[1;33m.\u001b[0m\u001b[0mSessionOptions\u001b[0m\u001b[1;33m(\u001b[0m\u001b[1;33m**\u001b[0m\u001b[0mkwargs\u001b[0m\u001b[1;33m)\u001b[0m\u001b[1;33m\u001b[0m\u001b[0m\n\u001b[0;32m   1518\u001b[0m         return client_session.ClientSession(\n",
      "\u001b[1;32mC:\\Python\\Anaconda3-52\\lib\\site-packages\\pymongo\\mongo_client.py\u001b[0m in \u001b[0;36m_get_server_session\u001b[1;34m(self)\u001b[0m\n\u001b[0;32m   1547\u001b[0m     \u001b[1;32mdef\u001b[0m \u001b[0m_get_server_session\u001b[0m\u001b[1;33m(\u001b[0m\u001b[0mself\u001b[0m\u001b[1;33m)\u001b[0m\u001b[1;33m:\u001b[0m\u001b[1;33m\u001b[0m\u001b[0m\n\u001b[0;32m   1548\u001b[0m         \u001b[1;34m\"\"\"Internal: start or resume a _ServerSession.\"\"\"\u001b[0m\u001b[1;33m\u001b[0m\u001b[0m\n\u001b[1;32m-> 1549\u001b[1;33m         \u001b[1;32mreturn\u001b[0m \u001b[0mself\u001b[0m\u001b[1;33m.\u001b[0m\u001b[0m_topology\u001b[0m\u001b[1;33m.\u001b[0m\u001b[0mget_server_session\u001b[0m\u001b[1;33m(\u001b[0m\u001b[1;33m)\u001b[0m\u001b[1;33m\u001b[0m\u001b[0m\n\u001b[0m\u001b[0;32m   1550\u001b[0m \u001b[1;33m\u001b[0m\u001b[0m\n\u001b[0;32m   1551\u001b[0m     \u001b[1;32mdef\u001b[0m \u001b[0m_return_server_session\u001b[0m\u001b[1;33m(\u001b[0m\u001b[0mself\u001b[0m\u001b[1;33m,\u001b[0m \u001b[0mserver_session\u001b[0m\u001b[1;33m,\u001b[0m \u001b[0mlock\u001b[0m\u001b[1;33m)\u001b[0m\u001b[1;33m:\u001b[0m\u001b[1;33m\u001b[0m\u001b[0m\n",
      "\u001b[1;32mC:\\Python\\Anaconda3-52\\lib\\site-packages\\pymongo\\topology.py\u001b[0m in \u001b[0;36mget_server_session\u001b[1;34m(self)\u001b[0m\n\u001b[0;32m    425\u001b[0m                             \u001b[0many_server_selector\u001b[0m\u001b[1;33m,\u001b[0m\u001b[1;33m\u001b[0m\u001b[0m\n\u001b[0;32m    426\u001b[0m                             \u001b[0mself\u001b[0m\u001b[1;33m.\u001b[0m\u001b[0m_settings\u001b[0m\u001b[1;33m.\u001b[0m\u001b[0mserver_selection_timeout\u001b[0m\u001b[1;33m,\u001b[0m\u001b[1;33m\u001b[0m\u001b[0m\n\u001b[1;32m--> 427\u001b[1;33m                             None)\n\u001b[0m\u001b[0;32m    428\u001b[0m                 \u001b[1;32melif\u001b[0m \u001b[1;32mnot\u001b[0m \u001b[0mself\u001b[0m\u001b[1;33m.\u001b[0m\u001b[0m_description\u001b[0m\u001b[1;33m.\u001b[0m\u001b[0mreadable_servers\u001b[0m\u001b[1;33m:\u001b[0m\u001b[1;33m\u001b[0m\u001b[0m\n\u001b[0;32m    429\u001b[0m                     self._select_servers_loop(\n",
      "\u001b[1;32mC:\\Python\\Anaconda3-52\\lib\\site-packages\\pymongo\\topology.py\u001b[0m in \u001b[0;36m_select_servers_loop\u001b[1;34m(self, selector, timeout, address)\u001b[0m\n\u001b[0;32m    197\u001b[0m             \u001b[1;32mif\u001b[0m \u001b[0mtimeout\u001b[0m \u001b[1;33m==\u001b[0m \u001b[1;36m0\u001b[0m \u001b[1;32mor\u001b[0m \u001b[0mnow\u001b[0m \u001b[1;33m>\u001b[0m \u001b[0mend_time\u001b[0m\u001b[1;33m:\u001b[0m\u001b[1;33m\u001b[0m\u001b[0m\n\u001b[0;32m    198\u001b[0m                 raise ServerSelectionTimeoutError(\n\u001b[1;32m--> 199\u001b[1;33m                     self._error_message(selector))\n\u001b[0m\u001b[0;32m    200\u001b[0m \u001b[1;33m\u001b[0m\u001b[0m\n\u001b[0;32m    201\u001b[0m             \u001b[0mself\u001b[0m\u001b[1;33m.\u001b[0m\u001b[0m_ensure_opened\u001b[0m\u001b[1;33m(\u001b[0m\u001b[1;33m)\u001b[0m\u001b[1;33m\u001b[0m\u001b[0m\n",
      "\u001b[1;31mServerSelectionTimeoutError\u001b[0m: localhost:27017: [WinError 10061] 대상 컴퓨터에서 연결을 거부했으므로 연결하지 못했습니다"
     ]
    }
   ],
   "source": [
    "# mongoDB에 저장\n",
    "import lxml.html\n",
    "from pymongo import MongoClient\n",
    "\n",
    "# HTML 파일을 읽어 들이고 \n",
    "# getroot() 메서드를 사용해 HtmlElement 객체를 추출합니다.\n",
    "tree = lxml.html.parse('data/full_book_list.html')\n",
    "html = tree.getroot()\n",
    "\n",
    "client = MongoClient('localhost', 27017)\n",
    "db = client.scraping   # scraping 데이터베이스를 추출합니다.\n",
    "collection = db.links  # links 콜렉션을 추출합니다.\n",
    "\n",
    "# 스크립트를 여러 번 사용해도 같은 결과를 출력할 수 있게 콜렉션의 문서를 제거합니다.\n",
    "collection.delete_many({})\n",
    "\n",
    "# cssselect() 메서드로 a 요소의 목록을 추출합니다.\n",
    "for a in html.cssselect('a'):\n",
    "    # href 속성과 링크의 글자를 추출해서 저장합니다.\n",
    "    collection.insert_one({\n",
    "        'url': a.get('href'),\n",
    "        'title': a.text.strip(),\n",
    "    })\n",
    "\n",
    "# 콜렉션의 모든 문서를 _id 순서로 정렬해서 추출합니다.\n",
    "for link in collection.find().sort('_id'):\n",
    "    print(link['_id'], link['url'], link['title'])"
   ]
  },
  {
   "cell_type": "markdown",
   "metadata": {},
   "source": [
    "### c3-06_python_crawler_1 \n",
    "- 목록 페이지에서 URL 목록 추출(1)"
   ]
  },
  {
   "cell_type": "code",
   "execution_count": 18,
   "metadata": {},
   "outputs": [
    {
     "name": "stdout",
     "output_type": "stream",
     "text": [
      "/store/books/look.php?p_code=B7198274060\n",
      "javascript:;\n",
      "/store/books/look.php?p_code=B7198274060\n",
      "/store/books/look.php?p_code=B6994299591\n",
      "javascript:;\n",
      "/store/books/look.php?p_code=B6994299591\n",
      "/store/books/look.php?p_code=B6734602013\n",
      "javascript:;\n",
      "/store/books/look.php?p_code=B6734602013\n",
      "/store/books/look.php?p_code=B8463831992\n",
      "javascript:;\n",
      "/store/books/look.php?p_code=B8463831992\n",
      "/store/books/look.php?p_code=B9515842027\n",
      "javascript:;\n",
      "/store/books/look.php?p_code=B9515842027\n",
      "/store/books/look.php?p_code=B3283906872\n",
      "javascript:;\n",
      "/store/books/look.php?p_code=B3283906872\n",
      "/store/books/look.php?p_code=B2486465157\n",
      "javascript:;\n",
      "/store/books/look.php?p_code=B2486465157\n",
      "/store/books/look.php?p_code=B4851649517\n",
      "javascript:;\n",
      "/store/books/look.php?p_code=B4851649517\n",
      "/store/books/look.php?p_code=B8608817158\n",
      "javascript:;\n",
      "/store/books/look.php?p_code=B8608817158\n",
      "/store/books/look.php?p_code=B1266184916\n",
      "javascript:;\n",
      "/store/books/look.php?p_code=B1266184916\n",
      "/store/books/look.php?p_code=B8718279503\n",
      "javascript:;\n",
      "/store/books/look.php?p_code=B8718279503\n",
      "/store/books/look.php?p_code=B3696148245\n",
      "javascript:;\n",
      "/store/books/look.php?p_code=B3696148245\n",
      "/store/books/look.php?p_code=B6727651495\n",
      "javascript:;\n",
      "/store/books/look.php?p_code=B6727651495\n",
      "/store/books/look.php?p_code=B5331040931\n",
      "javascript:;\n",
      "/store/books/look.php?p_code=B5331040931\n",
      "/store/books/look.php?p_code=B1401258166\n",
      "javascript:;\n",
      "/store/books/look.php?p_code=B1401258166\n",
      "/store/books/look.php?p_code=B9796997266\n",
      "javascript:;\n",
      "/store/books/look.php?p_code=B9796997266\n",
      "/store/books/look.php?p_code=B4559886540\n",
      "javascript:;\n",
      "/store/books/look.php?p_code=B4559886540\n",
      "/store/books/look.php?p_code=B7076585695\n",
      "javascript:;\n",
      "/store/books/look.php?p_code=B7076585695\n",
      "/store/books/look.php?p_code=B3202466252\n",
      "javascript:;\n",
      "/store/books/look.php?p_code=B3202466252\n",
      "/store/books/look.php?p_code=B1052483362\n",
      "javascript:;\n",
      "/store/books/look.php?p_code=B1052483362\n"
     ]
    }
   ],
   "source": [
    "import requests\n",
    "import lxml.html\n",
    "\n",
    "response = requests.get('http://www.hanbit.co.kr/store/books/new_book_list.html')\n",
    "root = lxml.html.fromstring(response.content)\n",
    "for a in root.cssselect('.view_box a'):\n",
    "    url = a.get('href')\n",
    "    print(url)"
   ]
  },
  {
   "cell_type": "markdown",
   "metadata": {},
   "source": [
    "### c3-07_python_crawler_2 \n",
    "- 목록 페이지에서 URL 목록 추출(2)"
   ]
  },
  {
   "cell_type": "code",
   "execution_count": 19,
   "metadata": {},
   "outputs": [
    {
     "name": "stdout",
     "output_type": "stream",
     "text": [
      "http://www.hanbit.co.kr/store/books/look.php?p_code=B7198274060\n",
      "http://www.hanbit.co.kr/store/books/look.php?p_code=B6994299591\n",
      "http://www.hanbit.co.kr/store/books/look.php?p_code=B6734602013\n",
      "http://www.hanbit.co.kr/store/books/look.php?p_code=B8463831992\n",
      "http://www.hanbit.co.kr/store/books/look.php?p_code=B9515842027\n",
      "http://www.hanbit.co.kr/store/books/look.php?p_code=B3283906872\n",
      "http://www.hanbit.co.kr/store/books/look.php?p_code=B2486465157\n",
      "http://www.hanbit.co.kr/store/books/look.php?p_code=B4851649517\n",
      "http://www.hanbit.co.kr/store/books/look.php?p_code=B8608817158\n",
      "http://www.hanbit.co.kr/store/books/look.php?p_code=B1266184916\n",
      "http://www.hanbit.co.kr/store/books/look.php?p_code=B8718279503\n",
      "http://www.hanbit.co.kr/store/books/look.php?p_code=B3696148245\n",
      "http://www.hanbit.co.kr/store/books/look.php?p_code=B6727651495\n",
      "http://www.hanbit.co.kr/store/books/look.php?p_code=B5331040931\n",
      "http://www.hanbit.co.kr/store/books/look.php?p_code=B1401258166\n",
      "http://www.hanbit.co.kr/store/books/look.php?p_code=B9796997266\n",
      "http://www.hanbit.co.kr/store/books/look.php?p_code=B4559886540\n",
      "http://www.hanbit.co.kr/store/books/look.php?p_code=B7076585695\n",
      "http://www.hanbit.co.kr/store/books/look.php?p_code=B3202466252\n",
      "http://www.hanbit.co.kr/store/books/look.php?p_code=B1052483362\n"
     ]
    }
   ],
   "source": [
    "import requests\n",
    "import lxml.html\n",
    "\n",
    "response = requests.get('http://www.hanbit.co.kr/store/books/new_book_list.html')\n",
    "root = lxml.html.fromstring(response.content)\n",
    "\n",
    "# 모든 링크를 절대 URL로 변환합니다.\n",
    "root.make_links_absolute(response.url)\n",
    "\n",
    "# 선택자를 추가해서 명확한 선택을 할 수 있게 합니다.\n",
    "for a in root.cssselect('.view_box .book_tit a'):\n",
    "    url = a.get('href')\n",
    "    print(url)"
   ]
  },
  {
   "cell_type": "code",
   "execution_count": null,
   "metadata": {},
   "outputs": [],
   "source": []
  }
 ],
 "metadata": {
  "kernelspec": {
   "display_name": "Python 3",
   "language": "python",
   "name": "python3"
  },
  "language_info": {
   "codemirror_mode": {
    "name": "ipython",
    "version": 3
   },
   "file_extension": ".py",
   "mimetype": "text/x-python",
   "name": "python",
   "nbconvert_exporter": "python",
   "pygments_lexer": "ipython3",
   "version": "3.6.5"
  }
 },
 "nbformat": 4,
 "nbformat_minor": 2
}
