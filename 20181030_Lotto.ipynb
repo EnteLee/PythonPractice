{
 "cells": [
  {
   "cell_type": "code",
   "execution_count": null,
   "metadata": {},
   "outputs": [
    {
     "name": "stdout",
     "output_type": "stream",
     "text": [
      "시작 숫자 범위를 입력하세요1\n",
      "끝 숫자 범위를 입력하세요45\n",
      "뽑는 공의 개수를 입력하세요6\n"
     ]
    }
   ],
   "source": [
    "# 로또 번호 생성\n",
    "# 로또 번호를 자동으로 생성해서 출력\n",
    "# - 주문한 개수만큼 N개의 로또 번호 출력\n",
    "# Hint : 랜덤 숫자 생성\n",
    "# import random\n",
    "# random.randint(num1, num2)\n",
    "# - num1~num2 까지의 정수 생성\n",
    "\n",
    "# Ex. dice.py\n",
    "import random\n",
    "\n",
    "\n",
    "def input_num_range():\n",
    "    global start_num\n",
    "    global end_num\n",
    "    global count_num\n",
    "    start_num = int(input('시작 숫자 범위를 입력하세요'))\n",
    "    end_num = int(input('끝 숫자 범위를 입력하세요'))\n",
    "    count_num = int(input('뽑는 공의 개수를 입력하세요'))\n",
    "\n",
    "\n",
    "def buy_num():\n",
    "    global buy_count\n",
    "    buy_count = int(input('Lotto 구매할 개수를 입력하세요'))\n",
    "\n",
    "\n",
    "def out_lotto():\n",
    "    global check_num\n",
    "    global lotto_num\n",
    "    lotto_num = []\n",
    "    for x in range(count_num):\n",
    "        y = 0\n",
    "        while True:\n",
    "            if y == count_num - 1:\n",
    "                break\n",
    "            else:\n",
    "                pass\n",
    "\n",
    "            check_num = random.randint(start_num, end_num)\n",
    "            for y in range(count_num):\n",
    "                if int(check_num) == lotto_num:\n",
    "                    break\n",
    "                else:\n",
    "                    pass\n",
    "\n",
    "        lotto_num.append(check_num)\n",
    "    print(lotto_num)\n",
    "\n",
    "input_num_range()\n",
    "buy_num()\n",
    "for z in range(buy_count):\n",
    "    out_lotto()\n"
   ]
  },
  {
   "cell_type": "code",
   "execution_count": null,
   "metadata": {},
   "outputs": [],
   "source": []
  }
 ],
 "metadata": {
  "kernelspec": {
   "display_name": "Python 3",
   "language": "python",
   "name": "python3"
  },
  "language_info": {
   "codemirror_mode": {
    "name": "ipython",
    "version": 3
   },
   "file_extension": ".py",
   "mimetype": "text/x-python",
   "name": "python",
   "nbconvert_exporter": "python",
   "pygments_lexer": "ipython3",
   "version": "3.6.5"
  }
 },
 "nbformat": 4,
 "nbformat_minor": 2
}
