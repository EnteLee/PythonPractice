{
 "cells": [
  {
   "cell_type": "code",
   "execution_count": 1,
   "metadata": {},
   "outputs": [
    {
     "name": "stdout",
     "output_type": "stream",
     "text": [
      "이름을 입력하세요. 이진수\n",
      "이진수님, 어서오세요\n"
     ]
    }
   ],
   "source": [
    "name = input('이름을 입력하세요. ')\n",
    "welcome = name + '님, 어서오세요'\n",
    "\n",
    "print(welcome)"
   ]
  },
  {
   "cell_type": "markdown",
   "metadata": {},
   "source": [
    "# 단축키\n",
    "- shift + Enter : 실행 후 다음셀로 이동\n",
    "- ctrl + Enter : 실행 후 그자리\n",
    "- esc + L : 줄번호 보여주기(토글)\n",
    "- esc + M : Markdown으로 전환\n",
    "- exc + Y : code로 전환\n",
    "\n",
    "cf. Tab키를 자주 사용하면 좋다."
   ]
  },
  {
   "cell_type": "code",
   "execution_count": 2,
   "metadata": {},
   "outputs": [
    {
     "name": "stdout",
     "output_type": "stream",
     "text": [
      "사과 7개의 가격은 3500원입니다.\n"
     ]
    }
   ],
   "source": [
    "apple_price = 500\n",
    "apple_count = 7\n",
    "\n",
    "print('사과 7개의 가격은 ' + str(apple_price*apple_count) + '원입니다.')"
   ]
  },
  {
   "cell_type": "code",
   "execution_count": 3,
   "metadata": {},
   "outputs": [
    {
     "name": "stdout",
     "output_type": "stream",
     "text": [
      "numbers : [0, 1, 2, 3, 4, 5, 6, 7, 8, 9]\n",
      "numbers의 합계는 45 입니다.\n"
     ]
    }
   ],
   "source": [
    "numbers = list(range(10))\n",
    "print('numbers :', numbers)\n",
    "idx, sum = 0, 0\n",
    "\n",
    "while idx < len(numbers):\n",
    "    num = numbers[idx]\n",
    "    sum += idx\n",
    "    idx += 1\n",
    "\n",
    "print('numbers의 합계는', sum, '입니다.')"
   ]
  },
  {
   "cell_type": "code",
   "execution_count": 5,
   "metadata": {},
   "outputs": [
    {
     "name": "stdout",
     "output_type": "stream",
     "text": [
      "447\n",
      "100128\n"
     ]
    }
   ],
   "source": [
    "x = 1\n",
    "total=0\n",
    "while True:\n",
    "    total = total + x\n",
    "    if total > 100000:\n",
    "        print(x)\n",
    "        print(total)\n",
    "        break\n",
    "    x = x + 1"
   ]
  },
  {
   "cell_type": "code",
   "execution_count": 7,
   "metadata": {},
   "outputs": [],
   "source": [
    "def func2(width, height, **kwargs):\n",
    "    print(kwargs)"
   ]
  },
  {
   "cell_type": "code",
   "execution_count": 8,
   "metadata": {},
   "outputs": [
    {
     "name": "stdout",
     "output_type": "stream",
     "text": [
      "{}\n",
      "{'depth': 50, 'color': 'blue'}\n"
     ]
    }
   ],
   "source": [
    "func2(10, 20)  \n",
    "func2(10, 20, depth=50, color='blue') "
   ]
  },
  {
   "cell_type": "markdown",
   "metadata": {},
   "source": [
    "## 함수 인자 (가변인자 & 키워드 가변인자)"
   ]
  },
  {
   "cell_type": "markdown",
   "metadata": {},
   "source": [
    "#### args 는 튜플로, kwargs는 딕셔너리로 저장된다."
   ]
  },
  {
   "cell_type": "code",
   "execution_count": 10,
   "metadata": {},
   "outputs": [],
   "source": [
    "def func1(*args,**kwargs):\n",
    "    print(args)\n",
    "    print(kwargs)"
   ]
  },
  {
   "cell_type": "code",
   "execution_count": 11,
   "metadata": {},
   "outputs": [
    {
     "name": "stdout",
     "output_type": "stream",
     "text": [
      "(3, 5, 1, 6)\n",
      "{'depth': 50, 'color': 'blue'}\n"
     ]
    }
   ],
   "source": [
    "func1(3,5,1,6,depth=50,color='blue')"
   ]
  },
  {
   "cell_type": "markdown",
   "metadata": {},
   "source": [
    "## 인자도 반환 값도 없는 함수"
   ]
  },
  {
   "cell_type": "code",
   "execution_count": 15,
   "metadata": {},
   "outputs": [],
   "source": [
    "def my_func():\n",
    "    print(\"My first funtion\")\n",
    "    print(\"This is a function\")"
   ]
  },
  {
   "cell_type": "code",
   "execution_count": 16,
   "metadata": {},
   "outputs": [
    {
     "name": "stdout",
     "output_type": "stream",
     "text": [
      "My first funtion\n",
      "This is a function\n"
     ]
    }
   ],
   "source": [
    "my_func()"
   ]
  },
  {
   "cell_type": "code",
   "execution_count": 19,
   "metadata": {},
   "outputs": [
    {
     "name": "stdout",
     "output_type": "stream",
     "text": [
      "[func1] 지역변수 a= 1\n",
      "[func2] 지역변수 a= 2\n",
      "전역변수 a= 5\n",
      "[func3] 전역변수 a= 5\n",
      "[func4] 전역변수 a= 4\n",
      "[func3] 전역변수 a= 4\n"
     ]
    }
   ],
   "source": [
    "a= 5\n",
    "def func1():\n",
    "    a=1\n",
    "    print(\"[func1] 지역변수 a=\",a)\n",
    "def func2():\n",
    "    a=2\n",
    "    print(\"[func2] 지역변수 a=\",a)\n",
    "def func3():\n",
    "    print(\"[func3] 전역변수 a=\",a)\n",
    "def func4():\n",
    "    global a\n",
    "    a=4\n",
    "    print(\"[func4] 전역변수 a=\",a)\n",
    "func1()\n",
    "func2()\n",
    "print(\"전역변수 a=\",a)\n",
    "func3()\n",
    "func4()\n",
    "func3()"
   ]
  },
  {
   "cell_type": "markdown",
   "metadata": {},
   "source": [
    "# 클래스 &  인스턴스 공유"
   ]
  },
  {
   "cell_type": "code",
   "execution_count": 35,
   "metadata": {},
   "outputs": [
    {
     "name": "stdout",
     "output_type": "stream",
     "text": [
      "피카츄 : ['몸통박치기'] ['10만볼트']\n",
      "파이리 : ['몸통박치기'] ['불꽃세례']\n"
     ]
    }
   ],
   "source": [
    "class P_mon:\n",
    "    com_skills=[]\n",
    "    \n",
    "    def __init__(self, name):\n",
    "        self.name = name\n",
    "        self.skills=[]\n",
    "    def add_skill(self, skill):\n",
    "        self.skills.append(skill)\n",
    "    def add_com_skill(self, com_skill):\n",
    "        self.com_skills.append(com_skill)\n",
    "        \n",
    "P_mon1 = P_mon(\"피카츄\")\n",
    "P_mon2 = P_mon(\"파이리\")\n",
    "\n",
    "P_mon1.add_com_skill('몸통박치기')\n",
    "P_mon1.add_skill('10만볼트')\n",
    "P_mon2.add_skill('불꽃세례')\n",
    "\n",
    "print(P_mon1.name, ':',P_mon1.com_skills ,P_mon1.skills)\n",
    "print(P_mon2.name, ':',P_mon2.com_skills ,P_mon2.skills)"
   ]
  },
  {
   "cell_type": "code",
   "execution_count": 37,
   "metadata": {},
   "outputs": [
    {
     "name": "stdout",
     "output_type": "stream",
     "text": [
      "['_KpopGroup__country', '__class__', '__delattr__', '__dict__', '__dir__', '__doc__', '__eq__', '__format__', '__ge__', '__getattribute__', '__gt__', '__hash__', '__init__', '__init_subclass__', '__le__', '__lt__', '__module__', '__ne__', '__new__', '__reduce__', '__reduce_ex__', '__repr__', '__setattr__', '__sizeof__', '__str__', '__subclasshook__', '__weakref__']\n"
     ]
    }
   ],
   "source": [
    "# 이름장식 Name Mangling  : __가 있는 것에 한하여 이름을 변경해 버리는 이름 장식 기법\n",
    "# 변형된 규칙 : _[클래스명]__[변수명]\n",
    "class KpopGroup:\n",
    "    __country = 'Korea'\n",
    "\n",
    "result = dir(KpopGroup)\n",
    "print(result)\n",
    "\n",
    "# 클래스 내부 변형변수는 정의시 사용했던 변수명으로는 접근이 불가능\n",
    "# KpopGroup.__country"
   ]
  },
  {
   "cell_type": "code",
   "execution_count": null,
   "metadata": {},
   "outputs": [],
   "source": []
  }
 ],
 "metadata": {
  "kernelspec": {
   "display_name": "Python 3",
   "language": "python",
   "name": "python3"
  },
  "language_info": {
   "codemirror_mode": {
    "name": "ipython",
    "version": 3
   },
   "file_extension": ".py",
   "mimetype": "text/x-python",
   "name": "python",
   "nbconvert_exporter": "python",
   "pygments_lexer": "ipython3",
   "version": "3.6.5"
  }
 },
 "nbformat": 4,
 "nbformat_minor": 2
}
