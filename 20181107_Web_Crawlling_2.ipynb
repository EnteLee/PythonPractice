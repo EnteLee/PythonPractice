{
 "cells": [
  {
   "cell_type": "code",
   "execution_count": 1,
   "metadata": {},
   "outputs": [],
   "source": [
    "from bs4 import BeautifulSoup \n",
    "from urllib.request import urlopen\n",
    "\n",
    "import pandas as pd\n",
    "import re"
   ]
  },
  {
   "cell_type": "code",
   "execution_count": 2,
   "metadata": {},
   "outputs": [
    {
     "data": {
      "text/html": [
       "<div>\n",
       "<style scoped>\n",
       "    .dataframe tbody tr th:only-of-type {\n",
       "        vertical-align: middle;\n",
       "    }\n",
       "\n",
       "    .dataframe tbody tr th {\n",
       "        vertical-align: top;\n",
       "    }\n",
       "\n",
       "    .dataframe thead th {\n",
       "        text-align: right;\n",
       "    }\n",
       "</style>\n",
       "<table border=\"1\" class=\"dataframe\">\n",
       "  <thead>\n",
       "    <tr style=\"text-align: right;\">\n",
       "      <th></th>\n",
       "      <th>Unnamed: 0</th>\n",
       "      <th>Cafe</th>\n",
       "      <th>Menu</th>\n",
       "      <th>URL</th>\n",
       "    </tr>\n",
       "    <tr>\n",
       "      <th>Rank</th>\n",
       "      <th></th>\n",
       "      <th></th>\n",
       "      <th></th>\n",
       "      <th></th>\n",
       "    </tr>\n",
       "  </thead>\n",
       "  <tbody>\n",
       "    <tr>\n",
       "      <th>1</th>\n",
       "      <td>0</td>\n",
       "      <td>Old Oak Tap</td>\n",
       "      <td>BLT</td>\n",
       "      <td>http://www.chicagomag.com/Chicago-Magazine/Nov...</td>\n",
       "    </tr>\n",
       "    <tr>\n",
       "      <th>2</th>\n",
       "      <td>1</td>\n",
       "      <td>Au Cheval</td>\n",
       "      <td>Fried Bologna</td>\n",
       "      <td>http://www.chicagomag.com/Chicago-Magazine/Nov...</td>\n",
       "    </tr>\n",
       "    <tr>\n",
       "      <th>3</th>\n",
       "      <td>2</td>\n",
       "      <td>Xoco</td>\n",
       "      <td>Woodland Mushroom</td>\n",
       "      <td>http://www.chicagomag.com/Chicago-Magazine/Nov...</td>\n",
       "    </tr>\n",
       "    <tr>\n",
       "      <th>4</th>\n",
       "      <td>3</td>\n",
       "      <td>Al’s Deli</td>\n",
       "      <td>Roast Beef</td>\n",
       "      <td>http://www.chicagomag.com/Chicago-Magazine/Nov...</td>\n",
       "    </tr>\n",
       "    <tr>\n",
       "      <th>5</th>\n",
       "      <td>4</td>\n",
       "      <td>Publican Quality Meats</td>\n",
       "      <td>PB&amp;L</td>\n",
       "      <td>http://www.chicagomag.com/Chicago-Magazine/Nov...</td>\n",
       "    </tr>\n",
       "  </tbody>\n",
       "</table>\n",
       "</div>"
      ],
      "text/plain": [
       "      Unnamed: 0                    Cafe               Menu  \\\n",
       "Rank                                                          \n",
       "1              0             Old Oak Tap                BLT   \n",
       "2              1               Au Cheval      Fried Bologna   \n",
       "3              2                    Xoco  Woodland Mushroom   \n",
       "4              3               Al’s Deli         Roast Beef   \n",
       "5              4  Publican Quality Meats               PB&L   \n",
       "\n",
       "                                                    URL  \n",
       "Rank                                                     \n",
       "1     http://www.chicagomag.com/Chicago-Magazine/Nov...  \n",
       "2     http://www.chicagomag.com/Chicago-Magazine/Nov...  \n",
       "3     http://www.chicagomag.com/Chicago-Magazine/Nov...  \n",
       "4     http://www.chicagomag.com/Chicago-Magazine/Nov...  \n",
       "5     http://www.chicagomag.com/Chicago-Magazine/Nov...  "
      ]
     },
     "execution_count": 2,
     "metadata": {},
     "output_type": "execute_result"
    }
   ],
   "source": [
    "df = pd.read_csv('data/chicagomag_info.csv', index_col='Rank') \n",
    "df.head()"
   ]
  },
  {
   "cell_type": "code",
   "execution_count": 3,
   "metadata": {},
   "outputs": [
    {
     "data": {
      "text/html": [
       "<div>\n",
       "<style scoped>\n",
       "    .dataframe tbody tr th:only-of-type {\n",
       "        vertical-align: middle;\n",
       "    }\n",
       "\n",
       "    .dataframe tbody tr th {\n",
       "        vertical-align: top;\n",
       "    }\n",
       "\n",
       "    .dataframe thead th {\n",
       "        text-align: right;\n",
       "    }\n",
       "</style>\n",
       "<table border=\"1\" class=\"dataframe\">\n",
       "  <thead>\n",
       "    <tr style=\"text-align: right;\">\n",
       "      <th></th>\n",
       "      <th>Cafe</th>\n",
       "      <th>Menu</th>\n",
       "      <th>URL</th>\n",
       "    </tr>\n",
       "    <tr>\n",
       "      <th>Rank</th>\n",
       "      <th></th>\n",
       "      <th></th>\n",
       "      <th></th>\n",
       "    </tr>\n",
       "  </thead>\n",
       "  <tbody>\n",
       "    <tr>\n",
       "      <th>1</th>\n",
       "      <td>Old Oak Tap</td>\n",
       "      <td>BLT</td>\n",
       "      <td>http://www.chicagomag.com/Chicago-Magazine/Nov...</td>\n",
       "    </tr>\n",
       "    <tr>\n",
       "      <th>2</th>\n",
       "      <td>Au Cheval</td>\n",
       "      <td>Fried Bologna</td>\n",
       "      <td>http://www.chicagomag.com/Chicago-Magazine/Nov...</td>\n",
       "    </tr>\n",
       "    <tr>\n",
       "      <th>3</th>\n",
       "      <td>Xoco</td>\n",
       "      <td>Woodland Mushroom</td>\n",
       "      <td>http://www.chicagomag.com/Chicago-Magazine/Nov...</td>\n",
       "    </tr>\n",
       "    <tr>\n",
       "      <th>4</th>\n",
       "      <td>Al’s Deli</td>\n",
       "      <td>Roast Beef</td>\n",
       "      <td>http://www.chicagomag.com/Chicago-Magazine/Nov...</td>\n",
       "    </tr>\n",
       "    <tr>\n",
       "      <th>5</th>\n",
       "      <td>Publican Quality Meats</td>\n",
       "      <td>PB&amp;L</td>\n",
       "      <td>http://www.chicagomag.com/Chicago-Magazine/Nov...</td>\n",
       "    </tr>\n",
       "  </tbody>\n",
       "</table>\n",
       "</div>"
      ],
      "text/plain": [
       "                        Cafe               Menu  \\\n",
       "Rank                                              \n",
       "1                Old Oak Tap                BLT   \n",
       "2                  Au Cheval      Fried Bologna   \n",
       "3                       Xoco  Woodland Mushroom   \n",
       "4                  Al’s Deli         Roast Beef   \n",
       "5     Publican Quality Meats               PB&L   \n",
       "\n",
       "                                                    URL  \n",
       "Rank                                                     \n",
       "1     http://www.chicagomag.com/Chicago-Magazine/Nov...  \n",
       "2     http://www.chicagomag.com/Chicago-Magazine/Nov...  \n",
       "3     http://www.chicagomag.com/Chicago-Magazine/Nov...  \n",
       "4     http://www.chicagomag.com/Chicago-Magazine/Nov...  \n",
       "5     http://www.chicagomag.com/Chicago-Magazine/Nov...  "
      ]
     },
     "execution_count": 3,
     "metadata": {},
     "output_type": "execute_result"
    }
   ],
   "source": [
    "del df['Unnamed: 0']\n",
    "df.head()"
   ]
  },
  {
   "cell_type": "code",
   "execution_count": 4,
   "metadata": {},
   "outputs": [
    {
     "name": "stdout",
     "output_type": "stream",
     "text": [
      "<class 'pandas.core.frame.DataFrame'>\n",
      "Int64Index: 50 entries, 1 to 50\n",
      "Data columns (total 3 columns):\n",
      "Cafe    50 non-null object\n",
      "Menu    50 non-null object\n",
      "URL     50 non-null object\n",
      "dtypes: object(3)\n",
      "memory usage: 1.6+ KB\n"
     ]
    }
   ],
   "source": [
    "df.info()"
   ]
  },
  {
   "cell_type": "markdown",
   "metadata": {},
   "source": [
    "# 첫번째 URL 페이지 크롤링하기"
   ]
  },
  {
   "cell_type": "code",
   "execution_count": 5,
   "metadata": {},
   "outputs": [
    {
     "data": {
      "text/plain": [
       "<title>\n",
       "  1. Old Oak Tap BLT |\n",
       "  Chicago magazine\n",
       "      |  November 2012\n",
       "    </title>"
      ]
     },
     "execution_count": 5,
     "metadata": {},
     "output_type": "execute_result"
    }
   ],
   "source": [
    "html = urlopen(df['URL'][1])\n",
    "soup = BeautifulSoup(html, \"lxml\")\n",
    "soup.title\n",
    "# type(soup)"
   ]
  },
  {
   "cell_type": "code",
   "execution_count": 6,
   "metadata": {},
   "outputs": [
    {
     "data": {
      "text/plain": [
       "<p class=\"addy\">\n",
       "<em>$10. 2109 W. Chicago Ave., 773-772-0406, <a href=\"http://www.theoldoaktap.com/\">theoldoaktap.com</a></em></p>"
      ]
     },
     "execution_count": 6,
     "metadata": {},
     "output_type": "execute_result"
    }
   ],
   "source": [
    "soup.find('p', 'addy')"
   ]
  },
  {
   "cell_type": "code",
   "execution_count": 7,
   "metadata": {},
   "outputs": [
    {
     "data": {
      "text/plain": [
       "'\\n$10. 2109 W. Chicago Ave., 773-772-0406, theoldoaktap.com'"
      ]
     },
     "execution_count": 7,
     "metadata": {},
     "output_type": "execute_result"
    }
   ],
   "source": [
    "taginfo = soup.find('p', 'addy').get_text()\n",
    "taginfo"
   ]
  },
  {
   "cell_type": "code",
   "execution_count": 8,
   "metadata": {},
   "outputs": [
    {
     "data": {
      "text/plain": [
       "'$10. 2109 W. Chicago Ave., 773-772-0406, theoldoaktap.com'"
      ]
     },
     "execution_count": 8,
     "metadata": {},
     "output_type": "execute_result"
    }
   ],
   "source": [
    "taginfo = taginfo[taginfo.find('$'):]\n",
    "taginfo"
   ]
  },
  {
   "cell_type": "markdown",
   "metadata": {},
   "source": [
    "#Regular Expression"
   ]
  },
  {
   "cell_type": "code",
   "execution_count": 9,
   "metadata": {},
   "outputs": [
    {
     "data": {
      "text/plain": [
       "'$10.'"
      ]
     },
     "execution_count": 9,
     "metadata": {},
     "output_type": "execute_result"
    }
   ],
   "source": [
    "price = re.search('\\$\\d+\\.(\\d+)?', taginfo).group()\n",
    "price"
   ]
  },
  {
   "cell_type": "code",
   "execution_count": 13,
   "metadata": {},
   "outputs": [],
   "source": [
    "address = '일단보류'"
   ]
  },
  {
   "cell_type": "code",
   "execution_count": 14,
   "metadata": {},
   "outputs": [
    {
     "data": {
      "text/plain": [
       "'773-772-0406'"
      ]
     },
     "execution_count": 14,
     "metadata": {},
     "output_type": "execute_result"
    }
   ],
   "source": [
    "phone = re.search('\\d{3}[-]\\d{3}[-]\\d{4}', taginfo)\n",
    "if phone is not None:\n",
    "    phone = phone.group()\n",
    "phone"
   ]
  },
  {
   "cell_type": "code",
   "execution_count": 15,
   "metadata": {},
   "outputs": [
    {
     "data": {
      "text/plain": [
       "'theoldoaktap.com'"
      ]
     },
     "execution_count": 15,
     "metadata": {},
     "output_type": "execute_result"
    }
   ],
   "source": [
    "infolist = taginfo.split(', ')\n",
    "if infolist[-1].endswith('.com') or infolist[-1].endswith('.net'):\n",
    "    homepage = infolist[-1]\n",
    "else:\n",
    "    homepage = 'No Homepage'\n",
    "homepage"
   ]
  },
  {
   "cell_type": "code",
   "execution_count": 16,
   "metadata": {},
   "outputs": [
    {
     "data": {
      "text/plain": [
       "' 2109 W. Chicago Ave., '"
      ]
     },
     "execution_count": 16,
     "metadata": {},
     "output_type": "execute_result"
    }
   ],
   "source": [
    "start = len(price)\n",
    "if phone is None:\n",
    "    phone = 'No Contact'\n",
    "    end = taginfo.find(homepage)\n",
    "else:\n",
    "    end = taginfo.find(phone)\n",
    "    \n",
    "address = taginfo[start:end]\n",
    "address"
   ]
  },
  {
   "cell_type": "code",
   "execution_count": 17,
   "metadata": {},
   "outputs": [],
   "source": [
    "#상위 TOP5 페이지에서 가격과 주소정보만 읽어오기"
   ]
  },
  {
   "cell_type": "code",
   "execution_count": 18,
   "metadata": {},
   "outputs": [
    {
     "name": "stdout",
     "output_type": "stream",
     "text": [
      "1\n",
      "2\n",
      "3\n",
      "4\n",
      "5\n"
     ]
    }
   ],
   "source": [
    "Price    = []\n",
    "Address  = []\n",
    "Phone    = []\n",
    "Homepage = []\n",
    "\n",
    "for n in [1,2,3,4,5]:   \n",
    "    html = urlopen(df['URL'][n])\n",
    "    soup = BeautifulSoup(html, 'lxml')\n",
    "    \n",
    "    taginfo = soup.find('p', 'addy').get_text()\n",
    "    taginfo = taginfo[taginfo.find('$'):]\n",
    "    \n",
    "    price = re.search('\\$\\d+\\.(\\d+)?', taginfo).group()\n",
    "    \n",
    "    address = '일단보류'    # Street, City\n",
    "    \n",
    "    phone = re.search('\\d{3}[-]\\d{3}[-]\\d{4}', taginfo)\n",
    "    if phone is not None:\n",
    "        phone = phone.group()    \n",
    "        \n",
    "    infolist = taginfo.split(', ')\n",
    "    if infolist[-1].endswith('.com') or infolist[-1].endswith('.net'):\n",
    "        homepage = infolist[-1]\n",
    "    else:\n",
    "        homepage = 'No Homepage'\n",
    "\n",
    "    start = len(price)\n",
    "    if phone is None:\n",
    "        phone = 'No Contact'\n",
    "        end = taginfo.find(homepage)\n",
    "    else:\n",
    "        end = taginfo.find(phone)\n",
    "\n",
    "    address = taginfo[start:end] \n",
    "\n",
    "    Price.append(price)\n",
    "    Address.append(address)\n",
    "    Phone.append(phone)\n",
    "    Homepage.append(homepage)\n",
    "    \n",
    "    print(n)"
   ]
  },
  {
   "cell_type": "code",
   "execution_count": 19,
   "metadata": {},
   "outputs": [
    {
     "data": {
      "text/plain": [
       "['$10.', '$9.', '$9.50', '$9.40', '$10.']"
      ]
     },
     "execution_count": 19,
     "metadata": {},
     "output_type": "execute_result"
    }
   ],
   "source": [
    "Price"
   ]
  },
  {
   "cell_type": "code",
   "execution_count": 20,
   "metadata": {},
   "outputs": [
    {
     "data": {
      "text/plain": [
       "'$10'"
      ]
     },
     "execution_count": 20,
     "metadata": {},
     "output_type": "execute_result"
    }
   ],
   "source": [
    "price = Price[0]\n",
    "if price.endswith('.'):\n",
    "    price = price[:-1]\n",
    "price"
   ]
  },
  {
   "cell_type": "code",
   "execution_count": 21,
   "metadata": {},
   "outputs": [
    {
     "data": {
      "text/plain": [
       "[' 2109 W. Chicago Ave., ',\n",
       " ' 800 W. Randolph St., ',\n",
       " '. 445 N. Clark St., ',\n",
       " '. 914 Noyes St., Evanston, ',\n",
       " ' 825 W. Fulton Mkt., ']"
      ]
     },
     "execution_count": 21,
     "metadata": {},
     "output_type": "execute_result"
    }
   ],
   "source": [
    "Address"
   ]
  },
  {
   "cell_type": "code",
   "execution_count": 22,
   "metadata": {},
   "outputs": [
    {
     "data": {
      "text/plain": [
       "'445 N. Clark St.'"
      ]
     },
     "execution_count": 22,
     "metadata": {},
     "output_type": "execute_result"
    }
   ],
   "source": [
    "address = Address[2]\n",
    "address = address[:-2]\n",
    "if address.startswith('.'):\n",
    "    address = address[1:]\n",
    "address = address.strip()\n",
    "address"
   ]
  },
  {
   "cell_type": "code",
   "execution_count": 23,
   "metadata": {},
   "outputs": [],
   "source": [
    "#가격과 주소정보를 수정보완 "
   ]
  },
  {
   "cell_type": "code",
   "execution_count": 24,
   "metadata": {},
   "outputs": [
    {
     "name": "stdout",
     "output_type": "stream",
     "text": [
      "1\n",
      "2\n",
      "3\n",
      "4\n",
      "5\n"
     ]
    }
   ],
   "source": [
    "Price    = []\n",
    "Address  = []\n",
    "Phone    = []\n",
    "Homepage = []\n",
    "\n",
    "for n in [1,2,3,4,5]:   \n",
    "    html = urlopen(df['URL'][n])\n",
    "    soup = BeautifulSoup(html, 'lxml')\n",
    "    \n",
    "    taginfo = soup.find('p', 'addy').get_text()\n",
    "    taginfo = taginfo[taginfo.find('$'):]\n",
    "    \n",
    "    price = re.search('\\$\\d+\\.(\\d+)?', taginfo).group()\n",
    "    # price update\n",
    "    if price.endswith('.'):\n",
    "        price = price[:-1]\n",
    "        \n",
    "    address = '일단보류'    # Street, City\n",
    "    \n",
    "    phone = re.search('\\d{3}[-]\\d{3}[-]\\d{4}', taginfo)\n",
    "    if phone is not None:\n",
    "        phone = phone.group()    \n",
    "        \n",
    "    infolist = taginfo.split(', ')\n",
    "    if infolist[-1].endswith('.com') or infolist[-1].endswith('.net'):\n",
    "        homepage = infolist[-1]\n",
    "    else:\n",
    "        homepage = 'No Homepage'\n",
    "\n",
    "    start = len(price)\n",
    "    if phone is None:\n",
    "        phone = 'No Contact'\n",
    "        end = taginfo.find(homepage)\n",
    "    else:\n",
    "        end = taginfo.find(phone)\n",
    "\n",
    "    address = taginfo[start:end] \n",
    "    # address update\n",
    "    address = address[:-2]\n",
    "    if address.startswith('.'):\n",
    "        address = address[1:]\n",
    "    address = address.strip()\n",
    "    \n",
    "    Price.append(price)\n",
    "    Address.append(address)\n",
    "    Phone.append(phone)\n",
    "    Homepage.append(homepage)\n",
    "    \n",
    "    print(n)"
   ]
  },
  {
   "cell_type": "code",
   "execution_count": 25,
   "metadata": {},
   "outputs": [
    {
     "data": {
      "text/plain": [
       "['$10', '$9', '$9.50', '$9.40', '$10']"
      ]
     },
     "execution_count": 25,
     "metadata": {},
     "output_type": "execute_result"
    }
   ],
   "source": [
    "Price"
   ]
  },
  {
   "cell_type": "code",
   "execution_count": 26,
   "metadata": {},
   "outputs": [
    {
     "data": {
      "text/plain": [
       "['2109 W. Chicago Ave.',\n",
       " '800 W. Randolph St.',\n",
       " '445 N. Clark St.',\n",
       " '914 Noyes St., Evanston',\n",
       " '825 W. Fulton Mkt.']"
      ]
     },
     "execution_count": 26,
     "metadata": {},
     "output_type": "execute_result"
    }
   ],
   "source": [
    "Address"
   ]
  },
  {
   "cell_type": "code",
   "execution_count": 27,
   "metadata": {},
   "outputs": [
    {
     "name": "stdout",
     "output_type": "stream",
     "text": [
      "webpage crawling...1\n",
      "webpage crawling...2\n",
      "webpage crawling...3\n",
      "webpage crawling...4\n",
      "webpage crawling...5\n",
      "webpage crawling...6\n",
      "webpage crawling...7\n",
      "webpage crawling...8\n",
      "webpage crawling...9\n",
      "webpage crawling...10\n",
      "webpage crawling...11\n",
      "webpage crawling...12\n",
      "webpage crawling...13\n",
      "webpage crawling...14\n",
      "webpage crawling...15\n",
      "webpage crawling...16\n",
      "webpage crawling...17\n",
      "webpage crawling...18\n",
      "webpage crawling...19\n",
      "webpage crawling...20\n",
      "webpage crawling...21\n",
      "webpage crawling...22\n",
      "webpage crawling...23\n",
      "webpage crawling...24\n",
      "webpage crawling...25\n",
      "webpage crawling...26\n",
      "webpage crawling...27\n",
      "webpage crawling...28\n",
      "webpage crawling...29\n",
      "webpage crawling...30\n",
      "webpage crawling...31\n",
      "webpage crawling...32\n",
      "webpage crawling...33\n",
      "webpage crawling...34\n",
      "webpage crawling...35\n",
      "webpage crawling...36\n",
      "webpage crawling...37\n",
      "webpage crawling...38\n",
      "webpage crawling...39\n",
      "webpage crawling...40\n",
      "webpage crawling...41\n",
      "webpage crawling...42\n",
      "webpage crawling...43\n",
      "webpage crawling...44\n",
      "webpage crawling...45\n",
      "webpage crawling...46\n",
      "webpage crawling...47\n",
      "webpage crawling...48\n",
      "webpage crawling...49\n",
      "webpage crawling...50\n"
     ]
    }
   ],
   "source": [
    "Price    = []\n",
    "Address  = []\n",
    "Phone    = []\n",
    "Homepage = []\n",
    "\n",
    "for n in df.index:\n",
    "    html = urlopen(df['URL'][n])\n",
    "    soup = BeautifulSoup(html, 'lxml')\n",
    "    \n",
    "    taginfo = soup.find('p', 'addy').get_text()\n",
    "    taginfo = taginfo[taginfo.find('$'):]\n",
    "    \n",
    "    price = re.search('\\$\\d+\\.(\\d+)?', taginfo).group()\n",
    "    # price update\n",
    "    if price.endswith('.'):\n",
    "        price = price[:-1]\n",
    "        \n",
    "    address = '일단보류'    # Street, City\n",
    "    \n",
    "    phone = re.search('\\d{3}[-]\\d{3}[-]\\d{4}', taginfo)\n",
    "    if phone is not None:\n",
    "        phone = phone.group()    \n",
    "        \n",
    "    infolist = taginfo.split(', ')\n",
    "    if infolist[-1].endswith('.com') or infolist[-1].endswith('.net'):\n",
    "        homepage = infolist[-1]\n",
    "    else:\n",
    "        homepage = 'No Homepage'\n",
    "\n",
    "    start = len(price)\n",
    "    if phone is None:\n",
    "        phone = 'No Contact'\n",
    "        end = taginfo.find(homepage)\n",
    "    else:\n",
    "        end = taginfo.find(phone)\n",
    "\n",
    "    address = taginfo[start:end] \n",
    "    # address update\n",
    "    address = address[:-2]\n",
    "    if address.startswith('.'):\n",
    "        address = address[1:]\n",
    "    address = address.strip()\n",
    "    \n",
    "    Price.append(price)\n",
    "    Address.append(address)\n",
    "    Phone.append(phone)\n",
    "    Homepage.append(homepage)\n",
    "    \n",
    "    print('webpage crawling...{}'.format(n))"
   ]
  },
  {
   "cell_type": "code",
   "execution_count": 28,
   "metadata": {},
   "outputs": [
    {
     "data": {
      "text/plain": [
       "(50, 50, 50, 50, 50)"
      ]
     },
     "execution_count": 28,
     "metadata": {},
     "output_type": "execute_result"
    }
   ],
   "source": [
    "len(df), len(Price), len(Address), len(Phone), len(Homepage)"
   ]
  },
  {
   "cell_type": "code",
   "execution_count": 29,
   "metadata": {},
   "outputs": [
    {
     "data": {
      "text/html": [
       "<div>\n",
       "<style scoped>\n",
       "    .dataframe tbody tr th:only-of-type {\n",
       "        vertical-align: middle;\n",
       "    }\n",
       "\n",
       "    .dataframe tbody tr th {\n",
       "        vertical-align: top;\n",
       "    }\n",
       "\n",
       "    .dataframe thead th {\n",
       "        text-align: right;\n",
       "    }\n",
       "</style>\n",
       "<table border=\"1\" class=\"dataframe\">\n",
       "  <thead>\n",
       "    <tr style=\"text-align: right;\">\n",
       "      <th></th>\n",
       "      <th>Cafe</th>\n",
       "      <th>Menu</th>\n",
       "      <th>URL</th>\n",
       "      <th>Price</th>\n",
       "    </tr>\n",
       "    <tr>\n",
       "      <th>Rank</th>\n",
       "      <th></th>\n",
       "      <th></th>\n",
       "      <th></th>\n",
       "      <th></th>\n",
       "    </tr>\n",
       "  </thead>\n",
       "  <tbody>\n",
       "    <tr>\n",
       "      <th>1</th>\n",
       "      <td>Old Oak Tap</td>\n",
       "      <td>BLT</td>\n",
       "      <td>http://www.chicagomag.com/Chicago-Magazine/Nov...</td>\n",
       "      <td>$10</td>\n",
       "    </tr>\n",
       "    <tr>\n",
       "      <th>2</th>\n",
       "      <td>Au Cheval</td>\n",
       "      <td>Fried Bologna</td>\n",
       "      <td>http://www.chicagomag.com/Chicago-Magazine/Nov...</td>\n",
       "      <td>$9</td>\n",
       "    </tr>\n",
       "    <tr>\n",
       "      <th>3</th>\n",
       "      <td>Xoco</td>\n",
       "      <td>Woodland Mushroom</td>\n",
       "      <td>http://www.chicagomag.com/Chicago-Magazine/Nov...</td>\n",
       "      <td>$9.50</td>\n",
       "    </tr>\n",
       "    <tr>\n",
       "      <th>4</th>\n",
       "      <td>Al’s Deli</td>\n",
       "      <td>Roast Beef</td>\n",
       "      <td>http://www.chicagomag.com/Chicago-Magazine/Nov...</td>\n",
       "      <td>$9.40</td>\n",
       "    </tr>\n",
       "    <tr>\n",
       "      <th>5</th>\n",
       "      <td>Publican Quality Meats</td>\n",
       "      <td>PB&amp;L</td>\n",
       "      <td>http://www.chicagomag.com/Chicago-Magazine/Nov...</td>\n",
       "      <td>$10</td>\n",
       "    </tr>\n",
       "  </tbody>\n",
       "</table>\n",
       "</div>"
      ],
      "text/plain": [
       "                        Cafe               Menu  \\\n",
       "Rank                                              \n",
       "1                Old Oak Tap                BLT   \n",
       "2                  Au Cheval      Fried Bologna   \n",
       "3                       Xoco  Woodland Mushroom   \n",
       "4                  Al’s Deli         Roast Beef   \n",
       "5     Publican Quality Meats               PB&L   \n",
       "\n",
       "                                                    URL  Price  \n",
       "Rank                                                            \n",
       "1     http://www.chicagomag.com/Chicago-Magazine/Nov...    $10  \n",
       "2     http://www.chicagomag.com/Chicago-Magazine/Nov...     $9  \n",
       "3     http://www.chicagomag.com/Chicago-Magazine/Nov...  $9.50  \n",
       "4     http://www.chicagomag.com/Chicago-Magazine/Nov...  $9.40  \n",
       "5     http://www.chicagomag.com/Chicago-Magazine/Nov...    $10  "
      ]
     },
     "execution_count": 29,
     "metadata": {},
     "output_type": "execute_result"
    }
   ],
   "source": [
    "df['Price'] = Price\n",
    "df.head()"
   ]
  },
  {
   "cell_type": "code",
   "execution_count": 30,
   "metadata": {},
   "outputs": [
    {
     "data": {
      "text/html": [
       "<div>\n",
       "<style scoped>\n",
       "    .dataframe tbody tr th:only-of-type {\n",
       "        vertical-align: middle;\n",
       "    }\n",
       "\n",
       "    .dataframe tbody tr th {\n",
       "        vertical-align: top;\n",
       "    }\n",
       "\n",
       "    .dataframe thead th {\n",
       "        text-align: right;\n",
       "    }\n",
       "</style>\n",
       "<table border=\"1\" class=\"dataframe\">\n",
       "  <thead>\n",
       "    <tr style=\"text-align: right;\">\n",
       "      <th></th>\n",
       "      <th>Cafe</th>\n",
       "      <th>Menu</th>\n",
       "      <th>URL</th>\n",
       "      <th>Price</th>\n",
       "      <th>Address</th>\n",
       "    </tr>\n",
       "    <tr>\n",
       "      <th>Rank</th>\n",
       "      <th></th>\n",
       "      <th></th>\n",
       "      <th></th>\n",
       "      <th></th>\n",
       "      <th></th>\n",
       "    </tr>\n",
       "  </thead>\n",
       "  <tbody>\n",
       "    <tr>\n",
       "      <th>1</th>\n",
       "      <td>Old Oak Tap</td>\n",
       "      <td>BLT</td>\n",
       "      <td>http://www.chicagomag.com/Chicago-Magazine/Nov...</td>\n",
       "      <td>$10</td>\n",
       "      <td>2109 W. Chicago Ave.</td>\n",
       "    </tr>\n",
       "    <tr>\n",
       "      <th>2</th>\n",
       "      <td>Au Cheval</td>\n",
       "      <td>Fried Bologna</td>\n",
       "      <td>http://www.chicagomag.com/Chicago-Magazine/Nov...</td>\n",
       "      <td>$9</td>\n",
       "      <td>800 W. Randolph St.</td>\n",
       "    </tr>\n",
       "    <tr>\n",
       "      <th>3</th>\n",
       "      <td>Xoco</td>\n",
       "      <td>Woodland Mushroom</td>\n",
       "      <td>http://www.chicagomag.com/Chicago-Magazine/Nov...</td>\n",
       "      <td>$9.50</td>\n",
       "      <td>445 N. Clark St.</td>\n",
       "    </tr>\n",
       "    <tr>\n",
       "      <th>4</th>\n",
       "      <td>Al’s Deli</td>\n",
       "      <td>Roast Beef</td>\n",
       "      <td>http://www.chicagomag.com/Chicago-Magazine/Nov...</td>\n",
       "      <td>$9.40</td>\n",
       "      <td>914 Noyes St., Evanston</td>\n",
       "    </tr>\n",
       "    <tr>\n",
       "      <th>5</th>\n",
       "      <td>Publican Quality Meats</td>\n",
       "      <td>PB&amp;L</td>\n",
       "      <td>http://www.chicagomag.com/Chicago-Magazine/Nov...</td>\n",
       "      <td>$10</td>\n",
       "      <td>825 W. Fulton Mkt.</td>\n",
       "    </tr>\n",
       "  </tbody>\n",
       "</table>\n",
       "</div>"
      ],
      "text/plain": [
       "                        Cafe               Menu  \\\n",
       "Rank                                              \n",
       "1                Old Oak Tap                BLT   \n",
       "2                  Au Cheval      Fried Bologna   \n",
       "3                       Xoco  Woodland Mushroom   \n",
       "4                  Al’s Deli         Roast Beef   \n",
       "5     Publican Quality Meats               PB&L   \n",
       "\n",
       "                                                    URL  Price  \\\n",
       "Rank                                                             \n",
       "1     http://www.chicagomag.com/Chicago-Magazine/Nov...    $10   \n",
       "2     http://www.chicagomag.com/Chicago-Magazine/Nov...     $9   \n",
       "3     http://www.chicagomag.com/Chicago-Magazine/Nov...  $9.50   \n",
       "4     http://www.chicagomag.com/Chicago-Magazine/Nov...  $9.40   \n",
       "5     http://www.chicagomag.com/Chicago-Magazine/Nov...    $10   \n",
       "\n",
       "                      Address  \n",
       "Rank                           \n",
       "1        2109 W. Chicago Ave.  \n",
       "2         800 W. Randolph St.  \n",
       "3            445 N. Clark St.  \n",
       "4     914 Noyes St., Evanston  \n",
       "5          825 W. Fulton Mkt.  "
      ]
     },
     "execution_count": 30,
     "metadata": {},
     "output_type": "execute_result"
    }
   ],
   "source": [
    "df['Address'] = Address\n",
    "df.head()"
   ]
  },
  {
   "cell_type": "code",
   "execution_count": 31,
   "metadata": {},
   "outputs": [
    {
     "data": {
      "text/html": [
       "<div>\n",
       "<style scoped>\n",
       "    .dataframe tbody tr th:only-of-type {\n",
       "        vertical-align: middle;\n",
       "    }\n",
       "\n",
       "    .dataframe tbody tr th {\n",
       "        vertical-align: top;\n",
       "    }\n",
       "\n",
       "    .dataframe thead th {\n",
       "        text-align: right;\n",
       "    }\n",
       "</style>\n",
       "<table border=\"1\" class=\"dataframe\">\n",
       "  <thead>\n",
       "    <tr style=\"text-align: right;\">\n",
       "      <th></th>\n",
       "      <th>Cafe</th>\n",
       "      <th>Menu</th>\n",
       "      <th>URL</th>\n",
       "      <th>Price</th>\n",
       "      <th>Address</th>\n",
       "      <th>Phone</th>\n",
       "    </tr>\n",
       "    <tr>\n",
       "      <th>Rank</th>\n",
       "      <th></th>\n",
       "      <th></th>\n",
       "      <th></th>\n",
       "      <th></th>\n",
       "      <th></th>\n",
       "      <th></th>\n",
       "    </tr>\n",
       "  </thead>\n",
       "  <tbody>\n",
       "    <tr>\n",
       "      <th>1</th>\n",
       "      <td>Old Oak Tap</td>\n",
       "      <td>BLT</td>\n",
       "      <td>http://www.chicagomag.com/Chicago-Magazine/Nov...</td>\n",
       "      <td>$10</td>\n",
       "      <td>2109 W. Chicago Ave.</td>\n",
       "      <td>773-772-0406</td>\n",
       "    </tr>\n",
       "    <tr>\n",
       "      <th>2</th>\n",
       "      <td>Au Cheval</td>\n",
       "      <td>Fried Bologna</td>\n",
       "      <td>http://www.chicagomag.com/Chicago-Magazine/Nov...</td>\n",
       "      <td>$9</td>\n",
       "      <td>800 W. Randolph St.</td>\n",
       "      <td>312-929-4580</td>\n",
       "    </tr>\n",
       "    <tr>\n",
       "      <th>3</th>\n",
       "      <td>Xoco</td>\n",
       "      <td>Woodland Mushroom</td>\n",
       "      <td>http://www.chicagomag.com/Chicago-Magazine/Nov...</td>\n",
       "      <td>$9.50</td>\n",
       "      <td>445 N. Clark St.</td>\n",
       "      <td>312-334-3688</td>\n",
       "    </tr>\n",
       "    <tr>\n",
       "      <th>4</th>\n",
       "      <td>Al’s Deli</td>\n",
       "      <td>Roast Beef</td>\n",
       "      <td>http://www.chicagomag.com/Chicago-Magazine/Nov...</td>\n",
       "      <td>$9.40</td>\n",
       "      <td>914 Noyes St., Evanston</td>\n",
       "      <td>847-475-9400</td>\n",
       "    </tr>\n",
       "    <tr>\n",
       "      <th>5</th>\n",
       "      <td>Publican Quality Meats</td>\n",
       "      <td>PB&amp;L</td>\n",
       "      <td>http://www.chicagomag.com/Chicago-Magazine/Nov...</td>\n",
       "      <td>$10</td>\n",
       "      <td>825 W. Fulton Mkt.</td>\n",
       "      <td>312-445-8977</td>\n",
       "    </tr>\n",
       "  </tbody>\n",
       "</table>\n",
       "</div>"
      ],
      "text/plain": [
       "                        Cafe               Menu  \\\n",
       "Rank                                              \n",
       "1                Old Oak Tap                BLT   \n",
       "2                  Au Cheval      Fried Bologna   \n",
       "3                       Xoco  Woodland Mushroom   \n",
       "4                  Al’s Deli         Roast Beef   \n",
       "5     Publican Quality Meats               PB&L   \n",
       "\n",
       "                                                    URL  Price  \\\n",
       "Rank                                                             \n",
       "1     http://www.chicagomag.com/Chicago-Magazine/Nov...    $10   \n",
       "2     http://www.chicagomag.com/Chicago-Magazine/Nov...     $9   \n",
       "3     http://www.chicagomag.com/Chicago-Magazine/Nov...  $9.50   \n",
       "4     http://www.chicagomag.com/Chicago-Magazine/Nov...  $9.40   \n",
       "5     http://www.chicagomag.com/Chicago-Magazine/Nov...    $10   \n",
       "\n",
       "                      Address         Phone  \n",
       "Rank                                         \n",
       "1        2109 W. Chicago Ave.  773-772-0406  \n",
       "2         800 W. Randolph St.  312-929-4580  \n",
       "3            445 N. Clark St.  312-334-3688  \n",
       "4     914 Noyes St., Evanston  847-475-9400  \n",
       "5          825 W. Fulton Mkt.  312-445-8977  "
      ]
     },
     "execution_count": 31,
     "metadata": {},
     "output_type": "execute_result"
    }
   ],
   "source": [
    "df['Phone'] = Phone\n",
    "df.head()"
   ]
  },
  {
   "cell_type": "code",
   "execution_count": 32,
   "metadata": {},
   "outputs": [
    {
     "data": {
      "text/html": [
       "<div>\n",
       "<style scoped>\n",
       "    .dataframe tbody tr th:only-of-type {\n",
       "        vertical-align: middle;\n",
       "    }\n",
       "\n",
       "    .dataframe tbody tr th {\n",
       "        vertical-align: top;\n",
       "    }\n",
       "\n",
       "    .dataframe thead th {\n",
       "        text-align: right;\n",
       "    }\n",
       "</style>\n",
       "<table border=\"1\" class=\"dataframe\">\n",
       "  <thead>\n",
       "    <tr style=\"text-align: right;\">\n",
       "      <th></th>\n",
       "      <th>Cafe</th>\n",
       "      <th>Menu</th>\n",
       "      <th>URL</th>\n",
       "      <th>Price</th>\n",
       "      <th>Address</th>\n",
       "      <th>Phone</th>\n",
       "      <th>Homepage</th>\n",
       "    </tr>\n",
       "    <tr>\n",
       "      <th>Rank</th>\n",
       "      <th></th>\n",
       "      <th></th>\n",
       "      <th></th>\n",
       "      <th></th>\n",
       "      <th></th>\n",
       "      <th></th>\n",
       "      <th></th>\n",
       "    </tr>\n",
       "  </thead>\n",
       "  <tbody>\n",
       "    <tr>\n",
       "      <th>1</th>\n",
       "      <td>Old Oak Tap</td>\n",
       "      <td>BLT</td>\n",
       "      <td>http://www.chicagomag.com/Chicago-Magazine/Nov...</td>\n",
       "      <td>$10</td>\n",
       "      <td>2109 W. Chicago Ave.</td>\n",
       "      <td>773-772-0406</td>\n",
       "      <td>theoldoaktap.com</td>\n",
       "    </tr>\n",
       "    <tr>\n",
       "      <th>2</th>\n",
       "      <td>Au Cheval</td>\n",
       "      <td>Fried Bologna</td>\n",
       "      <td>http://www.chicagomag.com/Chicago-Magazine/Nov...</td>\n",
       "      <td>$9</td>\n",
       "      <td>800 W. Randolph St.</td>\n",
       "      <td>312-929-4580</td>\n",
       "      <td>aucheval.tumblr.com</td>\n",
       "    </tr>\n",
       "    <tr>\n",
       "      <th>3</th>\n",
       "      <td>Xoco</td>\n",
       "      <td>Woodland Mushroom</td>\n",
       "      <td>http://www.chicagomag.com/Chicago-Magazine/Nov...</td>\n",
       "      <td>$9.50</td>\n",
       "      <td>445 N. Clark St.</td>\n",
       "      <td>312-334-3688</td>\n",
       "      <td>rickbayless.com</td>\n",
       "    </tr>\n",
       "    <tr>\n",
       "      <th>4</th>\n",
       "      <td>Al’s Deli</td>\n",
       "      <td>Roast Beef</td>\n",
       "      <td>http://www.chicagomag.com/Chicago-Magazine/Nov...</td>\n",
       "      <td>$9.40</td>\n",
       "      <td>914 Noyes St., Evanston</td>\n",
       "      <td>847-475-9400</td>\n",
       "      <td>alsdeli.net</td>\n",
       "    </tr>\n",
       "    <tr>\n",
       "      <th>5</th>\n",
       "      <td>Publican Quality Meats</td>\n",
       "      <td>PB&amp;L</td>\n",
       "      <td>http://www.chicagomag.com/Chicago-Magazine/Nov...</td>\n",
       "      <td>$10</td>\n",
       "      <td>825 W. Fulton Mkt.</td>\n",
       "      <td>312-445-8977</td>\n",
       "      <td>publicanqualitymeats.com</td>\n",
       "    </tr>\n",
       "  </tbody>\n",
       "</table>\n",
       "</div>"
      ],
      "text/plain": [
       "                        Cafe               Menu  \\\n",
       "Rank                                              \n",
       "1                Old Oak Tap                BLT   \n",
       "2                  Au Cheval      Fried Bologna   \n",
       "3                       Xoco  Woodland Mushroom   \n",
       "4                  Al’s Deli         Roast Beef   \n",
       "5     Publican Quality Meats               PB&L   \n",
       "\n",
       "                                                    URL  Price  \\\n",
       "Rank                                                             \n",
       "1     http://www.chicagomag.com/Chicago-Magazine/Nov...    $10   \n",
       "2     http://www.chicagomag.com/Chicago-Magazine/Nov...     $9   \n",
       "3     http://www.chicagomag.com/Chicago-Magazine/Nov...  $9.50   \n",
       "4     http://www.chicagomag.com/Chicago-Magazine/Nov...  $9.40   \n",
       "5     http://www.chicagomag.com/Chicago-Magazine/Nov...    $10   \n",
       "\n",
       "                      Address         Phone                  Homepage  \n",
       "Rank                                                                   \n",
       "1        2109 W. Chicago Ave.  773-772-0406          theoldoaktap.com  \n",
       "2         800 W. Randolph St.  312-929-4580       aucheval.tumblr.com  \n",
       "3            445 N. Clark St.  312-334-3688           rickbayless.com  \n",
       "4     914 Noyes St., Evanston  847-475-9400               alsdeli.net  \n",
       "5          825 W. Fulton Mkt.  312-445-8977  publicanqualitymeats.com  "
      ]
     },
     "execution_count": 32,
     "metadata": {},
     "output_type": "execute_result"
    }
   ],
   "source": [
    "df['Homepage'] = Homepage\n",
    "df.head()"
   ]
  },
  {
   "cell_type": "code",
   "execution_count": 33,
   "metadata": {},
   "outputs": [
    {
     "data": {
      "text/plain": [
       "['Cafe', 'Menu', 'URL', 'Price', 'Address', 'Phone', 'Homepage']"
      ]
     },
     "execution_count": 33,
     "metadata": {},
     "output_type": "execute_result"
    }
   ],
   "source": [
    "cols = list(df)\n",
    "cols"
   ]
  },
  {
   "cell_type": "code",
   "execution_count": 34,
   "metadata": {},
   "outputs": [
    {
     "data": {
      "text/plain": [
       "2"
      ]
     },
     "execution_count": 34,
     "metadata": {},
     "output_type": "execute_result"
    }
   ],
   "source": [
    "cols.index('URL')"
   ]
  },
  {
   "cell_type": "code",
   "execution_count": 35,
   "metadata": {},
   "outputs": [
    {
     "data": {
      "text/plain": [
       "'Homepage'"
      ]
     },
     "execution_count": 35,
     "metadata": {},
     "output_type": "execute_result"
    }
   ],
   "source": [
    "cols[6]"
   ]
  },
  {
   "cell_type": "code",
   "execution_count": 36,
   "metadata": {},
   "outputs": [
    {
     "data": {
      "text/plain": [
       "['Cafe', 'Menu', 'Price', 'Address', 'Phone', 'Homepage', 'URL']"
      ]
     },
     "execution_count": 36,
     "metadata": {},
     "output_type": "execute_result"
    }
   ],
   "source": [
    "# cols.insert(6, cols.pop(cols.index('URL')))\n",
    "cols.append(cols.pop(cols.index('URL')))\n",
    "cols"
   ]
  },
  {
   "cell_type": "code",
   "execution_count": 37,
   "metadata": {},
   "outputs": [
    {
     "data": {
      "text/html": [
       "<div>\n",
       "<style scoped>\n",
       "    .dataframe tbody tr th:only-of-type {\n",
       "        vertical-align: middle;\n",
       "    }\n",
       "\n",
       "    .dataframe tbody tr th {\n",
       "        vertical-align: top;\n",
       "    }\n",
       "\n",
       "    .dataframe thead th {\n",
       "        text-align: right;\n",
       "    }\n",
       "</style>\n",
       "<table border=\"1\" class=\"dataframe\">\n",
       "  <thead>\n",
       "    <tr style=\"text-align: right;\">\n",
       "      <th></th>\n",
       "      <th>Cafe</th>\n",
       "      <th>Menu</th>\n",
       "      <th>URL</th>\n",
       "      <th>Price</th>\n",
       "      <th>Address</th>\n",
       "      <th>Phone</th>\n",
       "      <th>Homepage</th>\n",
       "    </tr>\n",
       "    <tr>\n",
       "      <th>Rank</th>\n",
       "      <th></th>\n",
       "      <th></th>\n",
       "      <th></th>\n",
       "      <th></th>\n",
       "      <th></th>\n",
       "      <th></th>\n",
       "      <th></th>\n",
       "    </tr>\n",
       "  </thead>\n",
       "  <tbody>\n",
       "    <tr>\n",
       "      <th>1</th>\n",
       "      <td>Old Oak Tap</td>\n",
       "      <td>BLT</td>\n",
       "      <td>http://www.chicagomag.com/Chicago-Magazine/Nov...</td>\n",
       "      <td>$10</td>\n",
       "      <td>2109 W. Chicago Ave.</td>\n",
       "      <td>773-772-0406</td>\n",
       "      <td>theoldoaktap.com</td>\n",
       "    </tr>\n",
       "    <tr>\n",
       "      <th>2</th>\n",
       "      <td>Au Cheval</td>\n",
       "      <td>Fried Bologna</td>\n",
       "      <td>http://www.chicagomag.com/Chicago-Magazine/Nov...</td>\n",
       "      <td>$9</td>\n",
       "      <td>800 W. Randolph St.</td>\n",
       "      <td>312-929-4580</td>\n",
       "      <td>aucheval.tumblr.com</td>\n",
       "    </tr>\n",
       "    <tr>\n",
       "      <th>3</th>\n",
       "      <td>Xoco</td>\n",
       "      <td>Woodland Mushroom</td>\n",
       "      <td>http://www.chicagomag.com/Chicago-Magazine/Nov...</td>\n",
       "      <td>$9.50</td>\n",
       "      <td>445 N. Clark St.</td>\n",
       "      <td>312-334-3688</td>\n",
       "      <td>rickbayless.com</td>\n",
       "    </tr>\n",
       "    <tr>\n",
       "      <th>4</th>\n",
       "      <td>Al’s Deli</td>\n",
       "      <td>Roast Beef</td>\n",
       "      <td>http://www.chicagomag.com/Chicago-Magazine/Nov...</td>\n",
       "      <td>$9.40</td>\n",
       "      <td>914 Noyes St., Evanston</td>\n",
       "      <td>847-475-9400</td>\n",
       "      <td>alsdeli.net</td>\n",
       "    </tr>\n",
       "    <tr>\n",
       "      <th>5</th>\n",
       "      <td>Publican Quality Meats</td>\n",
       "      <td>PB&amp;L</td>\n",
       "      <td>http://www.chicagomag.com/Chicago-Magazine/Nov...</td>\n",
       "      <td>$10</td>\n",
       "      <td>825 W. Fulton Mkt.</td>\n",
       "      <td>312-445-8977</td>\n",
       "      <td>publicanqualitymeats.com</td>\n",
       "    </tr>\n",
       "  </tbody>\n",
       "</table>\n",
       "</div>"
      ],
      "text/plain": [
       "                        Cafe               Menu  \\\n",
       "Rank                                              \n",
       "1                Old Oak Tap                BLT   \n",
       "2                  Au Cheval      Fried Bologna   \n",
       "3                       Xoco  Woodland Mushroom   \n",
       "4                  Al’s Deli         Roast Beef   \n",
       "5     Publican Quality Meats               PB&L   \n",
       "\n",
       "                                                    URL  Price  \\\n",
       "Rank                                                             \n",
       "1     http://www.chicagomag.com/Chicago-Magazine/Nov...    $10   \n",
       "2     http://www.chicagomag.com/Chicago-Magazine/Nov...     $9   \n",
       "3     http://www.chicagomag.com/Chicago-Magazine/Nov...  $9.50   \n",
       "4     http://www.chicagomag.com/Chicago-Magazine/Nov...  $9.40   \n",
       "5     http://www.chicagomag.com/Chicago-Magazine/Nov...    $10   \n",
       "\n",
       "                      Address         Phone                  Homepage  \n",
       "Rank                                                                   \n",
       "1        2109 W. Chicago Ave.  773-772-0406          theoldoaktap.com  \n",
       "2         800 W. Randolph St.  312-929-4580       aucheval.tumblr.com  \n",
       "3            445 N. Clark St.  312-334-3688           rickbayless.com  \n",
       "4     914 Noyes St., Evanston  847-475-9400               alsdeli.net  \n",
       "5          825 W. Fulton Mkt.  312-445-8977  publicanqualitymeats.com  "
      ]
     },
     "execution_count": 37,
     "metadata": {},
     "output_type": "execute_result"
    }
   ],
   "source": [
    "df.head()"
   ]
  },
  {
   "cell_type": "code",
   "execution_count": 38,
   "metadata": {
    "scrolled": true
   },
   "outputs": [
    {
     "name": "stderr",
     "output_type": "stream",
     "text": [
      "C:\\Python\\Anaconda3-52\\lib\\site-packages\\ipykernel_launcher.py:1: DeprecationWarning: \n",
      ".ix is deprecated. Please use\n",
      ".loc for label based indexing or\n",
      ".iloc for positional indexing\n",
      "\n",
      "See the documentation here:\n",
      "http://pandas.pydata.org/pandas-docs/stable/indexing.html#ix-indexer-is-deprecated\n",
      "  \"\"\"Entry point for launching an IPython kernel.\n"
     ]
    },
    {
     "data": {
      "text/html": [
       "<div>\n",
       "<style scoped>\n",
       "    .dataframe tbody tr th:only-of-type {\n",
       "        vertical-align: middle;\n",
       "    }\n",
       "\n",
       "    .dataframe tbody tr th {\n",
       "        vertical-align: top;\n",
       "    }\n",
       "\n",
       "    .dataframe thead th {\n",
       "        text-align: right;\n",
       "    }\n",
       "</style>\n",
       "<table border=\"1\" class=\"dataframe\">\n",
       "  <thead>\n",
       "    <tr style=\"text-align: right;\">\n",
       "      <th></th>\n",
       "      <th>Cafe</th>\n",
       "      <th>Menu</th>\n",
       "      <th>Price</th>\n",
       "      <th>Address</th>\n",
       "      <th>Phone</th>\n",
       "      <th>Homepage</th>\n",
       "      <th>URL</th>\n",
       "    </tr>\n",
       "    <tr>\n",
       "      <th>Rank</th>\n",
       "      <th></th>\n",
       "      <th></th>\n",
       "      <th></th>\n",
       "      <th></th>\n",
       "      <th></th>\n",
       "      <th></th>\n",
       "      <th></th>\n",
       "    </tr>\n",
       "  </thead>\n",
       "  <tbody>\n",
       "    <tr>\n",
       "      <th>1</th>\n",
       "      <td>Old Oak Tap</td>\n",
       "      <td>BLT</td>\n",
       "      <td>$10</td>\n",
       "      <td>2109 W. Chicago Ave.</td>\n",
       "      <td>773-772-0406</td>\n",
       "      <td>theoldoaktap.com</td>\n",
       "      <td>http://www.chicagomag.com/Chicago-Magazine/Nov...</td>\n",
       "    </tr>\n",
       "    <tr>\n",
       "      <th>2</th>\n",
       "      <td>Au Cheval</td>\n",
       "      <td>Fried Bologna</td>\n",
       "      <td>$9</td>\n",
       "      <td>800 W. Randolph St.</td>\n",
       "      <td>312-929-4580</td>\n",
       "      <td>aucheval.tumblr.com</td>\n",
       "      <td>http://www.chicagomag.com/Chicago-Magazine/Nov...</td>\n",
       "    </tr>\n",
       "    <tr>\n",
       "      <th>3</th>\n",
       "      <td>Xoco</td>\n",
       "      <td>Woodland Mushroom</td>\n",
       "      <td>$9.50</td>\n",
       "      <td>445 N. Clark St.</td>\n",
       "      <td>312-334-3688</td>\n",
       "      <td>rickbayless.com</td>\n",
       "      <td>http://www.chicagomag.com/Chicago-Magazine/Nov...</td>\n",
       "    </tr>\n",
       "    <tr>\n",
       "      <th>4</th>\n",
       "      <td>Al’s Deli</td>\n",
       "      <td>Roast Beef</td>\n",
       "      <td>$9.40</td>\n",
       "      <td>914 Noyes St., Evanston</td>\n",
       "      <td>847-475-9400</td>\n",
       "      <td>alsdeli.net</td>\n",
       "      <td>http://www.chicagomag.com/Chicago-Magazine/Nov...</td>\n",
       "    </tr>\n",
       "    <tr>\n",
       "      <th>5</th>\n",
       "      <td>Publican Quality Meats</td>\n",
       "      <td>PB&amp;L</td>\n",
       "      <td>$10</td>\n",
       "      <td>825 W. Fulton Mkt.</td>\n",
       "      <td>312-445-8977</td>\n",
       "      <td>publicanqualitymeats.com</td>\n",
       "      <td>http://www.chicagomag.com/Chicago-Magazine/Nov...</td>\n",
       "    </tr>\n",
       "  </tbody>\n",
       "</table>\n",
       "</div>"
      ],
      "text/plain": [
       "                        Cafe               Menu  Price  \\\n",
       "Rank                                                     \n",
       "1                Old Oak Tap                BLT    $10   \n",
       "2                  Au Cheval      Fried Bologna     $9   \n",
       "3                       Xoco  Woodland Mushroom  $9.50   \n",
       "4                  Al’s Deli         Roast Beef  $9.40   \n",
       "5     Publican Quality Meats               PB&L    $10   \n",
       "\n",
       "                      Address         Phone                  Homepage  \\\n",
       "Rank                                                                    \n",
       "1        2109 W. Chicago Ave.  773-772-0406          theoldoaktap.com   \n",
       "2         800 W. Randolph St.  312-929-4580       aucheval.tumblr.com   \n",
       "3            445 N. Clark St.  312-334-3688           rickbayless.com   \n",
       "4     914 Noyes St., Evanston  847-475-9400               alsdeli.net   \n",
       "5          825 W. Fulton Mkt.  312-445-8977  publicanqualitymeats.com   \n",
       "\n",
       "                                                    URL  \n",
       "Rank                                                     \n",
       "1     http://www.chicagomag.com/Chicago-Magazine/Nov...  \n",
       "2     http://www.chicagomag.com/Chicago-Magazine/Nov...  \n",
       "3     http://www.chicagomag.com/Chicago-Magazine/Nov...  \n",
       "4     http://www.chicagomag.com/Chicago-Magazine/Nov...  \n",
       "5     http://www.chicagomag.com/Chicago-Magazine/Nov...  "
      ]
     },
     "execution_count": 38,
     "metadata": {},
     "output_type": "execute_result"
    }
   ],
   "source": [
    "df = df.ix[:, cols]\n",
    "df.head()"
   ]
  },
  {
   "cell_type": "code",
   "execution_count": 39,
   "metadata": {},
   "outputs": [],
   "source": [
    "df.to_csv('data/chicagomag_info2.csv', sep=',', encoding='UTF-8')"
   ]
  },
  {
   "cell_type": "code",
   "execution_count": 40,
   "metadata": {
    "scrolled": true
   },
   "outputs": [
    {
     "name": "stdout",
     "output_type": "stream",
     "text": [
      " C 드라이브의 볼륨에는 이름이 없습니다.\n",
      " 볼륨 일련 번호: 68FA-1A40\n",
      "\n",
      " C:\\Users\\Ente_LJS\\Anaconda_src\\data 디렉터리\n",
      "\n",
      "2018-11-07  오후 03:22    <DIR>          .\n",
      "2018-11-07  오후 03:22    <DIR>          ..\n",
      "2018-10-29  오후 04:32    <DIR>          .ipynb_checkpoints\n",
      "2018-11-05  오후 03:43            11,830 2015년_범죄발생지_지역별_.csv\n",
      "2018-11-07  오후 02:55             7,675 chicagomag_info.csv\n",
      "2018-11-07  오후 03:22            10,404 chicagomag_info2.csv\n",
      "2018-10-29  오후 04:54               310 company.csv\n",
      "2018-04-09  오전 05:33             3,258 gender_submission.csv\n",
      "2018-11-01  오후 04:18                62 girlgroup.json\n",
      "2018-10-29  오후 04:32                21 hello.txt\n",
      "2018-11-01  오후 04:41               193 hong.json\n",
      "2018-10-31  오전 09:49                12 mydata.txt\n",
      "2018-11-06  오전 10:48             1,140 opengov_2018_seoul_cctv_status_by_year.csv\n",
      "2018-11-05  오후 03:43            12,817 public_2016_crime_st.csv\n",
      "2018-11-05  오후 05:22            13,557 public_2017_seoul_cctv_st.xlsx\n",
      "2018-11-05  오후 05:36               997 public_2017_seoul_cctv_st_1.csv\n",
      "2018-11-05  오전 05:32           178,284 public_old_buildings_20171016.csv\n",
      "2018-11-05  오후 05:11               868 report.txt\n",
      "2018-11-05  오후 05:13            36,864 Report.xls\n",
      "2018-11-06  오전 10:55            15,360 Report_seoul_population_2018_3Q.xls\n",
      "2018-11-06  오후 03:50             3,044 seoul_population_cctv.csv\n",
      "2018-11-06  오전 10:55            15,360 seoul_population_cctv.xls\n",
      "2016-11-04  오후 04:46           247,333 seoul_wifi_zone.csv\n",
      "2016-11-19  오전 08:42            13,840 skorea_municipalities_geo_simple.json\n",
      "2018-10-29  오후 04:44               148 students.csv\n",
      "2018-10-29  오후 04:36                29 subject.txt\n",
      "2018-04-09  오전 05:33            28,629 test.csv\n",
      "2018-11-07  오전 11:08             1,873 top_site_50.csv\n",
      "2018-04-09  오전 05:33            61,194 train.csv\n",
      "2018-11-05  오전 05:32           166,784 한국시설안전공단_30년이상 노후화된 공공시설물현황(공동주택제외)_170404.csv\n",
      "              27개 파일             831,886 바이트\n",
      "               3개 디렉터리  157,213,925,376 바이트 남음\n"
     ]
    }
   ],
   "source": [
    "% ls data"
   ]
  },
  {
   "cell_type": "code",
   "execution_count": null,
   "metadata": {},
   "outputs": [],
   "source": []
  },
  {
   "cell_type": "code",
   "execution_count": null,
   "metadata": {},
   "outputs": [],
   "source": []
  }
 ],
 "metadata": {
  "kernelspec": {
   "display_name": "Python 3",
   "language": "python",
   "name": "python3"
  },
  "language_info": {
   "codemirror_mode": {
    "name": "ipython",
    "version": 3
   },
   "file_extension": ".py",
   "mimetype": "text/x-python",
   "name": "python",
   "nbconvert_exporter": "python",
   "pygments_lexer": "ipython3",
   "version": "3.6.5"
  }
 },
 "nbformat": 4,
 "nbformat_minor": 2
}
