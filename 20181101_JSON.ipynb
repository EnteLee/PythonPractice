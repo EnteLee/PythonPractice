{
 "cells": [
  {
   "cell_type": "code",
   "execution_count": 1,
   "metadata": {},
   "outputs": [],
   "source": [
    "import json\n",
    "from pprint import pprint"
   ]
  },
  {
   "cell_type": "code",
   "execution_count": 2,
   "metadata": {},
   "outputs": [],
   "source": [
    "json_data = {\n",
    "    'firstname' : '길동',\n",
    "    'lastname' : '홍',\n",
    "    'age' : 20,\n",
    "    'country' : '율도국'\n",
    "}"
   ]
  },
  {
   "cell_type": "code",
   "execution_count": 3,
   "metadata": {},
   "outputs": [
    {
     "name": "stdout",
     "output_type": "stream",
     "text": [
      "{\"firstname\": \"\\uae38\\ub3d9\", \"lastname\": \"\\ud64d\", \"age\": 20, \"country\": \"\\uc728\\ub3c4\\uad6d\"}\n"
     ]
    }
   ],
   "source": [
    "json_code = json.JSONEncoder().encode(json_data)\n",
    "print(json_code)"
   ]
  },
  {
   "cell_type": "code",
   "execution_count": 5,
   "metadata": {},
   "outputs": [
    {
     "name": "stdout",
     "output_type": "stream",
     "text": [
      "\"\\ud55c\\uae00\"\n"
     ]
    }
   ],
   "source": [
    "check = json.dumps('한글')\n",
    "print(check)"
   ]
  },
  {
   "cell_type": "code",
   "execution_count": 7,
   "metadata": {},
   "outputs": [
    {
     "name": "stdout",
     "output_type": "stream",
     "text": [
      "\"한글\"\n"
     ]
    }
   ],
   "source": [
    "check = json.dumps('한글',ensure_ascii=False)\n",
    "print(check)"
   ]
  },
  {
   "cell_type": "code",
   "execution_count": 9,
   "metadata": {},
   "outputs": [
    {
     "name": "stdout",
     "output_type": "stream",
     "text": [
      "{\"firstname\": \"길동\", \"lastname\": \"홍\", \"age\": 20, \"country\": \"율도국\"}\n"
     ]
    }
   ],
   "source": [
    "check = json.dumps(json_data, ensure_ascii=False)\n",
    "print(check)"
   ]
  },
  {
   "cell_type": "code",
   "execution_count": 11,
   "metadata": {},
   "outputs": [
    {
     "data": {
      "text/plain": [
       "{'firstname': '길동', 'lastname': '홍', 'age': 20, 'country': '율도국'}"
      ]
     },
     "execution_count": 11,
     "metadata": {},
     "output_type": "execute_result"
    }
   ],
   "source": [
    "json_code = json.JSONDecoder().decode(check)\n",
    "json_code"
   ]
  },
  {
   "cell_type": "markdown",
   "metadata": {},
   "source": [
    "# Pesrson 객체"
   ]
  },
  {
   "cell_type": "code",
   "execution_count": 12,
   "metadata": {},
   "outputs": [],
   "source": [
    "class Person:\n",
    "    name = str()\n",
    "    age  = int()\n",
    "    hometown = str()\n",
    "    \n",
    "    def __init__(self, name, age, hometown):\n",
    "        self.name = name\n",
    "        self.age  = age\n",
    "        self.hometown = hometown\n",
    "    \n",
    "    def to_string(self):\n",
    "        # str = '나의 살던 고향은 ' + self.hometown + '입니다.'\n",
    "        str = '%s의 나이는 %d살이고, 고향은 %s입니다.' % (self.name, self.age, self.hometown)\n",
    "        return str"
   ]
  },
  {
   "cell_type": "markdown",
   "metadata": {},
   "source": [
    "# JSON 코드 작성하기"
   ]
  },
  {
   "cell_type": "code",
   "execution_count": 13,
   "metadata": {},
   "outputs": [],
   "source": [
    "with open('data/girlgroup.json', 'w') as fp:\n",
    "    data = '[ \"소녀시대\", \"앱터스쿨\", \"에이핑크\", \"걸스데이\", \"우주소녀\" ]'\n",
    "    fp.write(data)"
   ]
  },
  {
   "cell_type": "code",
   "execution_count": 14,
   "metadata": {},
   "outputs": [],
   "source": [
    "with open('data/girlgroup.json') as data_file:    \n",
    "    girlgroup = json.load(data_file) #JSON 패키지로 가져옴(디코딩되서 온다)"
   ]
  },
  {
   "cell_type": "code",
   "execution_count": 15,
   "metadata": {},
   "outputs": [
    {
     "data": {
      "text/plain": [
       "['소녀시대', '앱터스쿨', '에이핑크', '걸스데이', '우주소녀']"
      ]
     },
     "execution_count": 15,
     "metadata": {},
     "output_type": "execute_result"
    }
   ],
   "source": [
    "girlgroup # 디코딩되서 str이 아닌 list로 온다"
   ]
  },
  {
   "cell_type": "code",
   "execution_count": 18,
   "metadata": {},
   "outputs": [
    {
     "data": {
      "text/plain": [
       "'내가 좋아하는 걸그룹은 에이핑크와 우주소녀입니다 '"
      ]
     },
     "execution_count": 18,
     "metadata": {},
     "output_type": "execute_result"
    }
   ],
   "source": [
    "\"내가 좋아하는 걸그룹은 {}와 {}입니다 \".format(girlgroup[2], girlgroup[4])"
   ]
  },
  {
   "cell_type": "markdown",
   "metadata": {},
   "source": [
    "# 실습. 아래와 같이 출력하는 JSON 코드 작성.\n",
    " - 출력: 홍길동의 개 순둥이의 장난감은 뽀로로, 토마스입니다."
   ]
  },
  {
   "cell_type": "code",
   "execution_count": 20,
   "metadata": {},
   "outputs": [
    {
     "name": "stdout",
     "output_type": "stream",
     "text": [
      "{'name': '홍길동', 'dog': {'name': '순둥이', 'toys': [{'name': '뽀로로'}, {'name': '토마스'}]}}\n"
     ]
    }
   ],
   "source": [
    "data = '''\n",
    "{\n",
    "    \"name\" : \"홍길동\",\n",
    "    \"dog\"  : {\n",
    "        \"name\" : \"순둥이\",\n",
    "        \"toys\" : [\n",
    "                { \"name\" : \"뽀로로\" },\n",
    "                { \"name\" : \"토마스\" }\n",
    "        ]\n",
    "    }\n",
    "}\n",
    "'''\n",
    "with open('data/hong.json','w') as fp:\n",
    "    fp.write(data)\n",
    "with open('data/hong.json')as data_file:\n",
    "    person = json.load(data_file)\n",
    "    \n",
    "print(person)"
   ]
  },
  {
   "cell_type": "code",
   "execution_count": 78,
   "metadata": {},
   "outputs": [
    {
     "data": {
      "text/plain": [
       "'토마스'"
      ]
     },
     "execution_count": 78,
     "metadata": {},
     "output_type": "execute_result"
    }
   ],
   "source": [
    "p_1 = str(person['name'])\n",
    "p_2 = dict(person['dog'])\n",
    "p_3 = str(p_2['name'])\n",
    "p_4 = list(p_2['toys'])\n",
    "p_5 = str(p_4[0]['name'])\n",
    "p_5\n",
    "p_6 = str(p_4[1]['name'])\n",
    "p_6"
   ]
  },
  {
   "cell_type": "code",
   "execution_count": 80,
   "metadata": {},
   "outputs": [
    {
     "data": {
      "text/plain": [
       "'홍길동의 개 순둥이의 장난감은 뽀로로, 토마스입니다.'"
      ]
     },
     "execution_count": 80,
     "metadata": {},
     "output_type": "execute_result"
    }
   ],
   "source": [
    "\"{}의 개 {}의 장난감은 {}, {}입니다.\".format(p_1,p_3,p_5,p_6) #바보짓"
   ]
  },
  {
   "cell_type": "code",
   "execution_count": 83,
   "metadata": {},
   "outputs": [
    {
     "data": {
      "text/plain": [
       "'홍길동의 개 순둥이의 장난감은 뽀로로, 토마스입니다.'"
      ]
     },
     "execution_count": 83,
     "metadata": {},
     "output_type": "execute_result"
    }
   ],
   "source": [
    "\"{}의 개 {}의 장난감은 {}, {}입니다.\".format(\n",
    "    person[\"name\"],\n",
    "    person[\"dog\"][\"name\"],\n",
    "    person[\"dog\"][\"toys\"][0][\"name\"],\n",
    "    person[\"dog\"][\"toys\"][1][\"name\"]\n",
    ")"
   ]
  },
  {
   "cell_type": "code",
   "execution_count": null,
   "metadata": {},
   "outputs": [],
   "source": []
  }
 ],
 "metadata": {
  "kernelspec": {
   "display_name": "Python 3",
   "language": "python",
   "name": "python3"
  },
  "language_info": {
   "codemirror_mode": {
    "name": "ipython",
    "version": 3
   },
   "file_extension": ".py",
   "mimetype": "text/x-python",
   "name": "python",
   "nbconvert_exporter": "python",
   "pygments_lexer": "ipython3",
   "version": "3.6.5"
  }
 },
 "nbformat": 4,
 "nbformat_minor": 2
}
